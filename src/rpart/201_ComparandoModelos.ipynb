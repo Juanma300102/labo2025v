{
  "nbformat": 4,
  "nbformat_minor": 0,
  "metadata": {
    "colab": {
      "provenance": [],
      "include_colab_link": true
    },
    "kernelspec": {
      "name": "ir",
      "display_name": "R"
    },
    "language_info": {
      "name": "R"
    }
  },
  "cells": [
    {
      "cell_type": "markdown",
      "metadata": {
        "id": "view-in-github",
        "colab_type": "text"
      },
      "source": [
        "<a href=\"https://colab.research.google.com/github/Juanma300102/labo2025v/blob/main/src/rpart/201_ComparandoModelos.ipynb\" target=\"_parent\"><img src=\"https://colab.research.google.com/assets/colab-badge.svg\" alt=\"Open In Colab\"/></a>"
      ]
    },
    {
      "cell_type": "markdown",
      "source": [
        "# Comparando Modelos"
      ],
      "metadata": {
        "id": "5DrvzQ9BsXmX"
      }
    },
    {
      "cell_type": "markdown",
      "source": [
        "Estamos en la  Clase 02\n",
        "<br> El objetivo de la materia es lograr la mejor predicción para nuestro probleama, para lo que se probarán pipelines con decenas de alternativas, será indispensable comparar varios modelos predictivos entre sí y decidir cual es el mejor\n",
        "<br> La tarea no es tan sencilla"
      ],
      "metadata": {
        "id": "Y2U9lu16sgta"
      }
    },
    {
      "cell_type": "markdown",
      "source": [
        "## Seteo del ambiente en Google Colab"
      ],
      "metadata": {
        "id": "kmLygy1TYPfg"
      }
    },
    {
      "cell_type": "markdown",
      "source": [
        "Esta parte se debe correr con el runtime en Python3\n",
        "<br>Ir al menu, Runtime -> Change Runtime Tipe -> Runtime type ->  **Python 3**"
      ],
      "metadata": {
        "id": "OikOm5K2YU3X"
      }
    },
    {
      "cell_type": "markdown",
      "source": [
        "Conectar la virtual machine donde esta corriendo Google Colab con el  Google Drive, para poder tener persistencia de archivos"
      ],
      "metadata": {
        "id": "4fmV5LyZdFyI"
      }
    },
    {
      "cell_type": "code",
      "source": [
        "# primero establecer el Runtime de Python 3\n",
        "from google.colab import drive\n",
        "drive.mount('/content/.drive')"
      ],
      "metadata": {
        "id": "ilEZ-bE2VybW",
        "outputId": "e0dac49c-e50a-41f6-ae04-70e13fa88cbe",
        "colab": {
          "base_uri": "https://localhost:8080/"
        }
      },
      "execution_count": 1,
      "outputs": [
        {
          "output_type": "stream",
          "name": "stdout",
          "text": [
            "Drive already mounted at /content/.drive; to attempt to forcibly remount, call drive.mount(\"/content/.drive\", force_remount=True).\n"
          ]
        }
      ]
    },
    {
      "cell_type": "markdown",
      "source": [
        "Para correr la siguiente celda es fundamental en Arranque en Frio haber copiado el archivo kaggle.json al Google Drive, en la carpeta indicada en el instructivo\n",
        "\n",
        "<br>los siguientes comando estan en shell script de Linux\n",
        "*   Crear las carpetas en el Google Drive\n",
        "*   \"instalar\" el archivo kaggle.json desde el Google Drive a la virtual machine para que pueda ser utilizado por la libreria  kaggle de Python\n",
        "*   Bajar el  **dataset_pequeno**  al  Google Drive  y tambien al disco local de la virtual machine que esta corriendo Google Colab\n",
        "\n"
      ],
      "metadata": {
        "id": "ilaKtqWldeWg"
      }
    },
    {
      "cell_type": "code",
      "source": [
        "%%shell\n",
        "\n",
        "mkdir -p \"/content/.drive/My Drive/labo1\"\n",
        "mkdir -p \"/content/buckets\"\n",
        "ln -s \"/content/.drive/My Drive/labo1\" /content/buckets/b1\n",
        "\n",
        "mkdir -p ~/.kaggle\n",
        "cp /content/buckets/b1/kaggle/kaggle.json  ~/.kaggle\n",
        "chmod 600 ~/.kaggle/kaggle.json\n",
        "\n",
        "\n",
        "mkdir -p /content/buckets/b1/exp\n",
        "mkdir -p /content/buckets/b1/datasets\n",
        "mkdir -p /content/datasets\n",
        "\n",
        "\n",
        "\n",
        "archivo_origen=\"https://storage.googleapis.com/open-courses/austral2025-af91/dataset_pequeno.csv\"\n",
        "archivo_destino=\"/content/datasets/dataset_pequeno.csv\"\n",
        "archivo_destino_bucket=\"/content/buckets/b1/datasets/dataset_pequeno.csv\"\n",
        "\n",
        "if ! test -f $archivo_destino_bucket; then\n",
        "  wget  $archivo_origen  -O $archivo_destino_bucket\n",
        "fi\n",
        "\n",
        "\n",
        "if ! test -f $archivo_destino; then\n",
        "  cp  $archivo_destino_bucket  $archivo_destino\n",
        "fi\n"
      ],
      "metadata": {
        "id": "W8dQFI5QYCFa",
        "outputId": "3cf93862-6b07-4f5d-ae69-ec636df46870",
        "colab": {
          "base_uri": "https://localhost:8080/"
        }
      },
      "execution_count": 2,
      "outputs": [
        {
          "output_type": "execute_result",
          "data": {
            "text/plain": []
          },
          "metadata": {},
          "execution_count": 2
        }
      ]
    },
    {
      "cell_type": "markdown",
      "source": [
        "# 1  Particion Training/Testing\n",
        "## Clase 02  Experimento 1"
      ],
      "metadata": {
        "id": "iV32-NeesVp6"
      }
    },
    {
      "cell_type": "markdown",
      "source": [
        "## 1.1  Objetivos\n",
        "Dado que es el primer experimento de la asignatura, acercar a l@s estudiantes las mejores prácticas de operación del ambiente de Google Cloud, realizando una minuciosa demostración en vivo narrando todas las consideraciones pertinentes para evitar accidentes, daños a terceros y a equipos.\n",
        "Dar soporte en el acto a  l@s estudiantes que necesitan ayuda para terminar de configurar el ambiente Google Cloud .\n",
        "<br>Repaso del concepto de  partición de un dataset al azar, estratificada en la clase\n",
        "<br>Dado que es el primer script que se mostrará en vivo a l@s estudiantes,  realizar una visita guiada del  mismo, su estructura y detalles.\n",
        "<br>Repaso del algoritmo Arbol de Decisión sus hiperparámetros, y la implementación con la librería  rpart.  Funciones  rpart::rpart  y rpart::predict\n",
        "<br>Concepto de replicabilidad de los experimentos mediante las semillas de los generadores de secuencias de números pseudoaleatorios.\n",
        "<br>Finalmente, el principal objetivo de este experimento es lograr que l@s estudiantes dimensionen la enorme variabilidad del error de medición de la ganancia de un árbol de decisión al realizar una partición <training, testing>,  contener la sorpresa de los estudiantes, descartar a la simple particion <training, testing> como método,  y construir en conjunto una solucion natural al problema."
      ],
      "metadata": {
        "id": "84Pnj9gVwpXB"
      }
    },
    {
      "cell_type": "markdown",
      "source": [
        "## 1.2 Introduccion"
      ],
      "metadata": {
        "id": "L9Cn0WThw37Y"
      }
    },
    {
      "cell_type": "markdown",
      "source": [
        "![Particiohn Training/Testing](https://storage.googleapis.com/open-courses/austral2025-af91/labo1r/C2_E1_particion.jpg)"
      ],
      "metadata": {
        "id": "ZELZ0R4itUVG"
      }
    },
    {
      "cell_type": "markdown",
      "source": [
        "![Dos tipos de error](https://storage.googleapis.com/open-courses/austral2025-af91/labo1r/C2_E1_target.jpg)"
      ],
      "metadata": {
        "id": "Wtc1ho58xLk-"
      }
    },
    {
      "cell_type": "markdown",
      "source": [
        "## 1.3  Bibliografía\n",
        "\n",
        "Demšar, J. [Statistical comparisons of classifiers over multiple data sets](https://www.jmlr.org/papers/volume7/demsar06a/demsar06a.pdf) J. Mach. Learn. Res. 7, 1–30 (2006).   \n",
        "Starmer, J. [Machine Learning Fundamentals: Cross Validation](https://www.youtube.com/watch?v=fSytzGwwBVw)Machine Learning Fundamentals: Cross Validation, StatQuest with Josh Starmer youtube channel, (2018)\n",
        "Hastie, T.[The elements of statistical learning: data mining, inference, and prediction](https://hastie.su.domains/Papers/ESLII.pdf) , volume 2. Springer, 2009  ( Chapter 7 Model Assessment and Selection )"
      ],
      "metadata": {
        "id": "oRWtRV34xZRT"
      }
    },
    {
      "cell_type": "markdown",
      "source": [
        "## 1.4 Codigo"
      ],
      "metadata": {
        "id": "VcgTQ2-Pyb8q"
      }
    },
    {
      "cell_type": "markdown",
      "source": [
        "Esta parte se debe correr con el runtime en lenguaje **R** Ir al menu, Runtime -> Change Runtime Tipe -> Runtime type -> R"
      ],
      "metadata": {
        "id": "SBXPU-_tabMb"
      }
    },
    {
      "cell_type": "markdown",
      "source": [
        "limpio el ambiente de R"
      ],
      "metadata": {
        "id": "SE94XRhWsxkX"
      }
    },
    {
      "cell_type": "code",
      "source": [
        "# limpio la memoria\n",
        "rm(list=ls(all.names=TRUE)) # remove all objects\n",
        "gc(full=TRUE, verbose=FALSE) # garbage collection"
      ],
      "metadata": {
        "id": "oZG_4br6szlT",
        "outputId": "8e970926-8bcb-4621-aaee-8a033eff1dc6",
        "colab": {
          "base_uri": "https://localhost:8080/",
          "height": 129
        }
      },
      "execution_count": null,
      "outputs": [
        {
          "output_type": "display_data",
          "data": {
            "text/html": [
              "<table class=\"dataframe\">\n",
              "<caption>A matrix: 2 × 6 of type dbl</caption>\n",
              "<thead>\n",
              "\t<tr><th></th><th scope=col>used</th><th scope=col>(Mb)</th><th scope=col>gc trigger</th><th scope=col>(Mb)</th><th scope=col>max used</th><th scope=col>(Mb)</th></tr>\n",
              "</thead>\n",
              "<tbody>\n",
              "\t<tr><th scope=row>Ncells</th><td> 656590</td><td>35.1</td><td>1454460</td><td>77.7</td><td>1321662</td><td>70.6</td></tr>\n",
              "\t<tr><th scope=row>Vcells</th><td>1219461</td><td> 9.4</td><td>8388608</td><td>64.0</td><td>1975127</td><td>15.1</td></tr>\n",
              "</tbody>\n",
              "</table>\n"
            ],
            "text/markdown": "\nA matrix: 2 × 6 of type dbl\n\n| <!--/--> | used | (Mb) | gc trigger | (Mb) | max used | (Mb) |\n|---|---|---|---|---|---|---|\n| Ncells |  656590 | 35.1 | 1454460 | 77.7 | 1321662 | 70.6 |\n| Vcells | 1219461 |  9.4 | 8388608 | 64.0 | 1975127 | 15.1 |\n\n",
            "text/latex": "A matrix: 2 × 6 of type dbl\n\\begin{tabular}{r|llllll}\n  & used & (Mb) & gc trigger & (Mb) & max used & (Mb)\\\\\n\\hline\n\tNcells &  656590 & 35.1 & 1454460 & 77.7 & 1321662 & 70.6\\\\\n\tVcells & 1219461 &  9.4 & 8388608 & 64.0 & 1975127 & 15.1\\\\\n\\end{tabular}\n",
            "text/plain": [
              "       used    (Mb) gc trigger (Mb) max used (Mb)\n",
              "Ncells  656590 35.1 1454460    77.7 1321662  70.6\n",
              "Vcells 1219461  9.4 8388608    64.0 1975127  15.1"
            ]
          },
          "metadata": {}
        }
      ]
    },
    {
      "cell_type": "code",
      "source": [
        "Sys.time()"
      ],
      "metadata": {
        "id": "pJ8SsVA5ssnf",
        "outputId": "c9c2449f-fc13-4bba-bf24-c7285494a7aa",
        "colab": {
          "base_uri": "https://localhost:8080/",
          "height": 34
        }
      },
      "execution_count": null,
      "outputs": [
        {
          "output_type": "display_data",
          "data": {
            "text/plain": [
              "[1] \"2025-09-30 23:19:59 UTC\""
            ]
          },
          "metadata": {}
        }
      ]
    },
    {
      "cell_type": "markdown",
      "source": [
        "* Instalacion de la libreria  rpart.plot  para dibujar el arbol\n",
        "* invocacion de las librerias  **data.table** y  **rpart**"
      ],
      "metadata": {
        "id": "3BrrQ47PeEb2"
      }
    },
    {
      "cell_type": "code",
      "source": [
        "# cargo las librerias que necesito\n",
        "require(\"data.table\")\n",
        "require(\"rpart\")\n"
      ],
      "metadata": {
        "id": "SxO-0Ql0khn6",
        "outputId": "576c581a-5e95-4a2e-e1d9-332b9243be50",
        "colab": {
          "base_uri": "https://localhost:8080/"
        }
      },
      "execution_count": null,
      "outputs": [
        {
          "output_type": "stream",
          "name": "stderr",
          "text": [
            "Loading required package: data.table\n",
            "\n",
            "Loading required package: rpart\n",
            "\n"
          ]
        }
      ]
    },
    {
      "cell_type": "markdown",
      "source": [
        "###  Accion a Realizar\n",
        "PARAM$semilla  debe tener su primer semilla aleatoria"
      ],
      "metadata": {
        "id": "ZG9fCnZh3bWV"
      }
    },
    {
      "cell_type": "code",
      "source": [
        "PARAM <- list()\n",
        "PARAM$semilla <- 101111  # aqui debe ir su primer semilla\n",
        "PARAM$training_pct <- 70L  # entre  1L y 99L\n",
        "\n",
        "PARAM$rpart <- list (\n",
        "  \"cp\" = -1, # complejidad minima\n",
        "  \"minsplit\" = 170, # minima cantidad de regs en un nodo para hacer el split\n",
        "  \"minbucket\" = 70, # minima cantidad de regs en una hoja\n",
        "  \"maxdepth\" = 7 # profundidad máxima del arbol\n",
        ")\n"
      ],
      "metadata": {
        "id": "0nx5_OcE3Y9c"
      },
      "execution_count": null,
      "outputs": []
    },
    {
      "cell_type": "code",
      "source": [
        "# particionar agrega una columna llamada fold a un dataset\n",
        "#  que consiste en una particion estratificada segun agrupa\n",
        "\n",
        "# particionar( data=dataset, division=c(70,30),\n",
        "#  agrupa=clase_ternaria, seed=semilla)   crea una particion 70, 30\n",
        "\n",
        "particionar <- function(\n",
        "    data, division, agrupa = \"\",\n",
        "    campo = \"fold\", start = 1, seed = NA) {\n",
        "  if (!is.na(seed)) set.seed(seed)\n",
        "\n",
        "  bloque <- unlist(mapply(function(x, y) {\n",
        "    rep(y, x)\n",
        "  }, division, seq(from = start, length.out = length(division))))\n",
        "\n",
        "  data[, (campo) := sample(rep(bloque, ceiling(.N / length(bloque))))[1:.N],\n",
        "    by = agrupa\n",
        "  ]\n",
        "}\n"
      ],
      "metadata": {
        "id": "8HLE9Dx80gjH"
      },
      "execution_count": null,
      "outputs": []
    },
    {
      "cell_type": "code",
      "source": [
        "# carpeta de trabajo\n",
        "setwd(\"/content/buckets/b1/exp\")\n",
        "experimento <- \"exp201\"\n",
        "dir.create(experimento, showWarnings=FALSE)\n",
        "setwd( paste0(\"/content/buckets/b1/exp/\", experimento ))"
      ],
      "metadata": {
        "id": "sC4_nqcm0nUs"
      },
      "execution_count": null,
      "outputs": []
    },
    {
      "cell_type": "code",
      "source": [
        "# lectura del dataset\n",
        "dataset <- fread(\"/content/datasets/dataset_pequeno.csv\")\n",
        "\n",
        "# trabajo solo con los datos con clase, es decir 202107\n",
        "dataset <- dataset[clase_ternaria != \"\"]"
      ],
      "metadata": {
        "id": "6yIEsZOw07q8"
      },
      "execution_count": null,
      "outputs": []
    },
    {
      "cell_type": "code",
      "source": [
        "# particiono estratificadamente el dataset 70%, 30%\n",
        "particionar(dataset,\n",
        "  division = c(PARAM$training_pct, 100L -PARAM$training_pct),\n",
        "  agrupa = \"clase_ternaria\",\n",
        "  seed = PARAM$semilla # aqui se usa SU semilla\n",
        ")\n",
        "\n"
      ],
      "metadata": {
        "id": "FAO1Hhd52b5d"
      },
      "execution_count": null,
      "outputs": []
    },
    {
      "cell_type": "code",
      "source": [
        "# genero el modelo\n",
        "# quiero predecir clase_ternaria a partir del resto\n",
        "# fold==1  es training,  el 70% de los datos\n",
        "modelo <- rpart(\"clase_ternaria ~ .\",\n",
        "  data = dataset[fold == 1],  # fold==1  es training, el 70% de los datos\n",
        "  xval = 0,\n",
        "  control = PARAM$rpart # aqui van los parametros\n",
        ")\n"
      ],
      "metadata": {
        "id": "s3UnHSLP2gN6"
      },
      "execution_count": null,
      "outputs": []
    },
    {
      "cell_type": "code",
      "source": [
        "# aplico el modelo a los datos de testing\n",
        "prediccion <- predict(modelo, # el modelo que genere recien\n",
        "  dataset[fold == 2], # fold==2  es testing, el 30% de los datos\n",
        "  type = \"prob\"\n",
        ") # type= \"prob\"  es que devuelva la probabilidad\n"
      ],
      "metadata": {
        "id": "paQphV4A2jGz"
      },
      "execution_count": null,
      "outputs": []
    },
    {
      "cell_type": "code",
      "source": [
        "tb_prediccion <- as.data.table(list(\n",
        "  \"clase_ternaria\"=dataset[fold == 2, clase_ternaria],\n",
        "  \"prob\"=prediccion[, \"BAJA+2\"]\n",
        "))"
      ],
      "metadata": {
        "id": "fuLZ75pA29dT"
      },
      "execution_count": null,
      "outputs": []
    },
    {
      "cell_type": "code",
      "source": [
        "# calculo la ganancia de cada registro\n",
        "tb_prediccion[, ganancia := ifelse(clase_ternaria == \"BAJA+2\", 117000, -3000)]"
      ],
      "metadata": {
        "id": "LuG6ql_t3kOI"
      },
      "execution_count": null,
      "outputs": []
    },
    {
      "cell_type": "code",
      "source": [
        "# calculo la clase\n",
        "tb_prediccion[, Predicted := prob > (1/40) ]"
      ],
      "metadata": {
        "id": "xJ3WTMez3leO"
      },
      "execution_count": null,
      "outputs": []
    },
    {
      "cell_type": "code",
      "source": [
        "ganancia_test <-  tb_prediccion[ Predicted==TRUE,  sum(ganancia)]"
      ],
      "metadata": {
        "id": "cFQPacen4Wq6"
      },
      "execution_count": null,
      "outputs": []
    },
    {
      "cell_type": "code",
      "source": [
        "# normalizo la ganancia\n",
        "ganancia_test_normalizada <- ganancia_test / (( 100 - PARAM$training_pct ) / 100 )"
      ],
      "metadata": {
        "id": "dHjz0zhN4-nZ"
      },
      "execution_count": null,
      "outputs": []
    },
    {
      "cell_type": "code",
      "source": [
        "estimulos <- tb_prediccion[ Predicted==TRUE, .N]\n",
        "aciertos <- tb_prediccion[ Predicted & clase_ternaria == \"BAJA+2\", .N]\n"
      ],
      "metadata": {
        "id": "D7RUdTb95F6B"
      },
      "execution_count": null,
      "outputs": []
    },
    {
      "cell_type": "code",
      "source": [
        "# Resultado Final\n",
        "cat(\"Testing total: \", dataset[fold == 2, .N], \"\\n\")\n",
        "cat(\"Testing BAJA+2: \", dataset[fold == 2 & clase_ternaria == \"BAJA+2\", .N], \"\\n\")\n",
        "\n",
        "cat(\"Estimulos: \", estimulos, \"\\n\")\n",
        "cat(\"Aciertos (BAJA+2): \", aciertos, \"\\n\")\n",
        "\n",
        "cat(\"Ganancia en testing (normalizada): \", ganancia_test_normalizada, \"\\n\")\n"
      ],
      "metadata": {
        "id": "Lu1KM6fy5U7h",
        "outputId": "7074c729-dc3a-432b-ac38-a2bd92033385",
        "colab": {
          "base_uri": "https://localhost:8080/"
        }
      },
      "execution_count": null,
      "outputs": [
        {
          "output_type": "stream",
          "name": "stdout",
          "text": [
            "Testing total:  49374 \n",
            "Testing BAJA+2:  378 \n",
            "Estimulos:  2819 \n",
            "Aciertos (BAJA+2):  190 \n",
            "Ganancia en testing (normalizada):  47810000 \n"
          ]
        }
      ]
    },
    {
      "cell_type": "markdown",
      "source": [
        "### Acciones a realizar\n",
        "* Reportar la  *Ganancia en testing (normalizada)* <br> en la planilla colaborativa hoja  **C2-1sem**\n",
        "* Se discutirá en clase la variabilidad de las ganancias obtenidas de distintos alumnos"
      ],
      "metadata": {
        "id": "kHs-YoFB5rUa"
      }
    },
    {
      "cell_type": "markdown",
      "source": [
        "\n",
        "\n",
        "---\n",
        "\n"
      ],
      "metadata": {
        "id": "LBl_eIeO7WuM"
      }
    },
    {
      "cell_type": "markdown",
      "source": [
        "# 2  Medición Monte Carlo Cross Validation\n",
        "## Clase 02  Experimento 2"
      ],
      "metadata": {
        "id": "h43UCq9y7UlT"
      }
    },
    {
      "cell_type": "markdown",
      "source": [
        "## 2.1  Objetivos\n",
        "Mostrar el funcionamiento de la Montecarlo Cross Validation y que l@s estudiantes aprecien la disminución de la varianza de dicha metodología.\n",
        "Relación con el Teorema Central del Límite"
      ],
      "metadata": {
        "id": "wHPchGXK80VU"
      }
    },
    {
      "cell_type": "markdown",
      "source": [
        "## 2.2 Introduccion\n",
        "\n",
        "![Montecarlo](https://storage.googleapis.com/open-courses/austral2025-af91/labo1r/C2_E2_montecarlo.jpg)\n",
        "\n",
        "![Curva normal](https://storage.googleapis.com/open-courses/austral2025-af91/labo1r/C2_E2_normal.jpg)\n",
        "\n",
        "![Teorema Central del Limite](https://storage.googleapis.com/open-courses/austral2025-af91/labo1r/C2_E2_teoremacentralLimite.jpg)\n",
        "\n"
      ],
      "metadata": {
        "id": "g6YzACxl9DzS"
      }
    },
    {
      "cell_type": "markdown",
      "source": [],
      "metadata": {
        "id": "7laod2t4ArsH"
      }
    },
    {
      "cell_type": "markdown",
      "source": [
        "## 2.3  Bibliografía\n",
        "\n",
        "Demšar, J. [Statistical comparisons of classifiers over multiple data sets](https://www.jmlr.org/papers/volume7/demsar06a/demsar06a.pdf) J. Mach. Learn. Res. 7, 1–30 (2006).   \n",
        "Starmer, J. [Machine Learning Fundamentals: Cross Validation](https://www.youtube.com/watch?v=fSytzGwwBVw)Machine Learning Fundamentals: Cross Validation, StatQuest with Josh Starmer youtube channel, (2018)\n",
        "Hastie, T.[The elements of statistical learning: data mining, inference, and prediction](https://hastie.su.domains/Papers/ESLII.pdf) , volume 2. Springer, 2009  ( Chapter 7 Model Assessment and Selection )"
      ],
      "metadata": {
        "id": "lFcJeRAkAr-q"
      }
    },
    {
      "cell_type": "code",
      "source": [],
      "metadata": {
        "id": "KXSuYXQ26cLV"
      },
      "execution_count": null,
      "outputs": []
    },
    {
      "cell_type": "markdown",
      "source": [
        "## 2.4 Codigo  Montecarlo"
      ],
      "metadata": {
        "id": "0ztZzYolA2WK"
      }
    },
    {
      "cell_type": "markdown",
      "source": [
        "El código de la Montecarlo Cross Validation es notablemente más complejo que el anterior de una simple partición training/testing\n",
        "<br> Se crea la funcion ArbolEstimarGanancia()  que dada una semilla realiza la partición  training/testing, entrena en training, aplica el modelo a testing, y se calculan las ganancias\n",
        "<br> Se utiliza la funcion **mcmapply**  de R para aplicar ArbolEstimarGanancia a todos los elementos del vector de semillas"
      ],
      "metadata": {
        "id": "KLa06ZsiC-Oz"
      }
    },
    {
      "cell_type": "markdown",
      "source": [
        "Esta parte se debe correr con el runtime en lenguaje **R** Ir al menu, Runtime -> Change Runtime Tipe -> Runtime type -> R"
      ],
      "metadata": {
        "id": "ivFiBBOQA2Ws"
      }
    },
    {
      "cell_type": "markdown",
      "source": [
        "limpio el ambiente de R"
      ],
      "metadata": {
        "id": "TMSAQDXuA2Ws"
      }
    },
    {
      "cell_type": "code",
      "source": [
        "# limpio la memoria\n",
        "rm(list=ls(all.names=TRUE)) # remove all objects\n",
        "gc(full=TRUE, verbose=FALSE) # garbage collection"
      ],
      "metadata": {
        "id": "eakzb8y2A2Wt",
        "outputId": "5fbdb644-1435-4554-e06e-7c1a2517a5b4",
        "colab": {
          "base_uri": "https://localhost:8080/",
          "height": 129
        }
      },
      "execution_count": null,
      "outputs": [
        {
          "output_type": "display_data",
          "data": {
            "text/html": [
              "<table class=\"dataframe\">\n",
              "<caption>A matrix: 2 × 6 of type dbl</caption>\n",
              "<thead>\n",
              "\t<tr><th></th><th scope=col>used</th><th scope=col>(Mb)</th><th scope=col>gc trigger</th><th scope=col>(Mb)</th><th scope=col>max used</th><th scope=col>(Mb)</th></tr>\n",
              "</thead>\n",
              "<tbody>\n",
              "\t<tr><th scope=row>Ncells</th><td> 657826</td><td>35.2</td><td>1467088</td><td>78.4</td><td>1467088</td><td>78.4</td></tr>\n",
              "\t<tr><th scope=row>Vcells</th><td>1221996</td><td> 9.4</td><td>8388608</td><td>64.0</td><td>1975127</td><td>15.1</td></tr>\n",
              "</tbody>\n",
              "</table>\n"
            ],
            "text/markdown": "\nA matrix: 2 × 6 of type dbl\n\n| <!--/--> | used | (Mb) | gc trigger | (Mb) | max used | (Mb) |\n|---|---|---|---|---|---|---|\n| Ncells |  657826 | 35.2 | 1467088 | 78.4 | 1467088 | 78.4 |\n| Vcells | 1221996 |  9.4 | 8388608 | 64.0 | 1975127 | 15.1 |\n\n",
            "text/latex": "A matrix: 2 × 6 of type dbl\n\\begin{tabular}{r|llllll}\n  & used & (Mb) & gc trigger & (Mb) & max used & (Mb)\\\\\n\\hline\n\tNcells &  657826 & 35.2 & 1467088 & 78.4 & 1467088 & 78.4\\\\\n\tVcells & 1221996 &  9.4 & 8388608 & 64.0 & 1975127 & 15.1\\\\\n\\end{tabular}\n",
            "text/plain": [
              "       used    (Mb) gc trigger (Mb) max used (Mb)\n",
              "Ncells  657826 35.2 1467088    78.4 1467088  78.4\n",
              "Vcells 1221996  9.4 8388608    64.0 1975127  15.1"
            ]
          },
          "metadata": {}
        }
      ]
    },
    {
      "cell_type": "markdown",
      "source": [
        "* Instalacion de la libreria  rpart.plot  para dibujar el arbol\n",
        "* invocacion de las librerias  **data.table** y  **rpart**"
      ],
      "metadata": {
        "id": "559RkeYZA2Wv"
      }
    },
    {
      "cell_type": "code",
      "source": [
        "# cargo las librerias que necesito\n",
        "require(\"data.table\")\n",
        "require(\"rpart\")\n",
        "require(\"parallel\")"
      ],
      "metadata": {
        "id": "yf_S_HlsA2Wv",
        "outputId": "e0d92bf5-13ef-42d8-eab8-ef89ad478438",
        "colab": {
          "base_uri": "https://localhost:8080/"
        }
      },
      "execution_count": null,
      "outputs": [
        {
          "output_type": "stream",
          "name": "stderr",
          "text": [
            "Loading required package: data.table\n",
            "\n",
            "Loading required package: rpart\n",
            "\n",
            "Loading required package: parallel\n",
            "\n"
          ]
        }
      ]
    },
    {
      "cell_type": "markdown",
      "source": [
        "###  Accion a Realizar\n",
        "PARAM$semillas  debe tener sus cinco semillas aleatorias"
      ],
      "metadata": {
        "id": "a4oz2ulCA2Ww"
      }
    },
    {
      "cell_type": "code",
      "source": [
        "PARAM <- list()\n",
        "PARAM$semillas <- c(101111, 234181, 456367, 789221, 912907)  # aqui debe ir sus CINCO\n",
        "PARAM$training_pct <- 70L  # entre  1L y 99L\n",
        "\n",
        "PARAM$rpart <- list (\n",
        "  \"cp\" = -1, # complejidad minima\n",
        "  \"minsplit\" = 170, # minima cantidad de regs en un nodo para hacer el split\n",
        "  \"minbucket\" = 70, # minima cantidad de regs en una hoja\n",
        "  \"maxdepth\" = 7 # profundidad máxima del arbol\n",
        ")\n"
      ],
      "metadata": {
        "id": "yQ2OAP5AA2Wx"
      },
      "execution_count": null,
      "outputs": []
    },
    {
      "cell_type": "code",
      "source": [
        "# particionar agrega una columna llamada fold a un dataset\n",
        "#  que consiste en una particion estratificada segun agrupa\n",
        "\n",
        "# particionar( data=dataset, division=c(70,30),\n",
        "#  agrupa=clase_ternaria, seed=semilla)   crea una particion 70, 30\n",
        "\n",
        "particionar <- function(\n",
        "    data, division, agrupa = \"\",\n",
        "    campo = \"fold\", start = 1, seed = NA) {\n",
        "  if (!is.na(seed)) set.seed(seed)\n",
        "\n",
        "  bloque <- unlist(mapply(function(x, y) {\n",
        "    rep(y, x)\n",
        "  }, division, seq(from = start, length.out = length(division))))\n",
        "\n",
        "  data[, (campo) := sample(rep(bloque, ceiling(.N / length(bloque))))[1:.N],\n",
        "    by = agrupa\n",
        "  ]\n",
        "}\n"
      ],
      "metadata": {
        "id": "97dMCVJWA2Wy"
      },
      "execution_count": null,
      "outputs": []
    },
    {
      "cell_type": "code",
      "source": [
        "\n",
        "ArbolEstimarGanancia <- function(semilla, param_basicos) {\n",
        "  # particiono estratificadamente el dataset\n",
        "  particionar(dataset,\n",
        "    division = c(param_basicos$training_pct, 100L -param_basicos$training_pct),\n",
        "    agrupa = \"clase_ternaria\",\n",
        "    seed = semilla # aqui se usa SU semilla\n",
        "  )\n",
        "\n",
        "  # genero el modelo\n",
        "  # predecir clase_ternaria a partir del resto\n",
        "  modelo <- rpart(\"clase_ternaria ~ .\",\n",
        "    data = dataset[fold == 1], # fold==1  es training,  el 70% de los datos\n",
        "    xval = 0,\n",
        "    control = param_basicos$rpart\n",
        "  ) # aqui van los parametros del arbol\n",
        "\n",
        "  # aplico el modelo a los datos de testing\n",
        "  prediccion <- predict(modelo, # el modelo que genere recien\n",
        "    dataset[fold == 2], # fold==2  es testing, el 30% de los datos\n",
        "    type = \"prob\"\n",
        "  ) # type= \"prob\"  es que devuelva la probabilidad\n",
        "\n",
        "  # prediccion es una matriz con TRES columnas,\n",
        "  #  llamadas \"BAJA+1\", \"BAJA+2\"  y \"CONTINUA\"\n",
        "  # cada columna es el vector de probabilidades\n",
        "\n",
        "\n",
        "  # calculo la ganancia en testing  qu es fold==2\n",
        "  ganancia_test <- dataset[\n",
        "    fold == 2,\n",
        "    sum(ifelse(prediccion[, \"BAJA+2\"] > 0.025,\n",
        "      ifelse(clase_ternaria == \"BAJA+2\", 117000, -3000),\n",
        "      0\n",
        "    ))\n",
        "  ]\n",
        "\n",
        "  # escalo la ganancia como si fuera todo el dataset\n",
        "  ganancia_test_normalizada <- ganancia_test / (( 100 - PARAM$training_pct ) / 100 )\n",
        "\n",
        "  return(list(\n",
        "    \"semilla\" = semilla,\n",
        "    \"testing\" = dataset[fold == 2, .N],\n",
        "    \"testing_pos\" = dataset[fold == 2 & clase_ternaria == \"BAJA+2\", .N],\n",
        "    \"envios\" = dataset[fold == 2, sum(prediccion[, \"BAJA+2\"] > 0.025)],\n",
        "    \"aciertos\" = dataset[\n",
        "        fold == 2,\n",
        "        sum(prediccion[, \"BAJA+2\"] > 0.025 & clase_ternaria == \"BAJA+2\")\n",
        "    ],\n",
        "    \"ganancia_test\" = ganancia_test_normalizada\n",
        "  ))\n",
        "}\n"
      ],
      "metadata": {
        "id": "GroZSZoVBuZ5"
      },
      "execution_count": null,
      "outputs": []
    },
    {
      "cell_type": "code",
      "source": [
        "# carpeta de trabajo\n",
        "setwd(\"/content/buckets/b1/exp\")\n",
        "experimento <- \"exp202\"\n",
        "dir.create(experimento, showWarnings=FALSE)\n",
        "setwd( paste0(\"/content/buckets/b1/exp/\", experimento ))"
      ],
      "metadata": {
        "id": "dJIBIX6kA2Wy"
      },
      "execution_count": null,
      "outputs": []
    },
    {
      "cell_type": "code",
      "source": [
        "# lectura del dataset\n",
        "dataset <- fread(\"/content/datasets/dataset_pequeno.csv\")\n",
        "\n",
        "# trabajo solo con los datos con clase, es decir 202107\n",
        "dataset <- dataset[clase_ternaria != \"\"]"
      ],
      "metadata": {
        "id": "tKiACdU2A2Wz"
      },
      "execution_count": null,
      "outputs": []
    },
    {
      "cell_type": "code",
      "source": [
        "\n",
        "# la funcion mcmapply  llama a la funcion ArbolEstimarGanancia\n",
        "#  tantas veces como valores tenga el vector  PARAM$semillas\n",
        "salidas <- mcmapply(ArbolEstimarGanancia,\n",
        "  PARAM$semillas, # paso el vector de semillas\n",
        "  MoreArgs = list(PARAM), # aqui paso el segundo parametro\n",
        "  SIMPLIFY = FALSE,\n",
        "  mc.cores = detectCores()\n",
        ")\n",
        "\n",
        "# muestro la lista de las salidas en testing\n",
        "#  para la particion realizada con cada semilla\n",
        "salidas\n"
      ],
      "metadata": {
        "id": "64OdfeyxCMDF",
        "outputId": "ed4a7761-2d1a-4c63-9866-7abcf36b6fef",
        "colab": {
          "base_uri": "https://localhost:8080/",
          "height": 1000
        }
      },
      "execution_count": null,
      "outputs": [
        {
          "output_type": "display_data",
          "data": {
            "text/html": [
              "<ol>\n",
              "\t<li><dl>\n",
              "\t<dt>$semilla</dt>\n",
              "\t\t<dd>101111</dd>\n",
              "\t<dt>$testing</dt>\n",
              "\t\t<dd>49374</dd>\n",
              "\t<dt>$testing_pos</dt>\n",
              "\t\t<dd>378</dd>\n",
              "\t<dt>$envios</dt>\n",
              "\t\t<dd>2819</dd>\n",
              "\t<dt>$aciertos</dt>\n",
              "\t\t<dd>190</dd>\n",
              "\t<dt>$ganancia_test</dt>\n",
              "\t\t<dd>47810000</dd>\n",
              "</dl>\n",
              "</li>\n",
              "\t<li><dl>\n",
              "\t<dt>$semilla</dt>\n",
              "\t\t<dd>234181</dd>\n",
              "\t<dt>$testing</dt>\n",
              "\t\t<dd>49381</dd>\n",
              "\t<dt>$testing_pos</dt>\n",
              "\t\t<dd>375</dd>\n",
              "\t<dt>$envios</dt>\n",
              "\t\t<dd>4234</dd>\n",
              "\t<dt>$aciertos</dt>\n",
              "\t\t<dd>217</dd>\n",
              "\t<dt>$ganancia_test</dt>\n",
              "\t\t<dd>44460000</dd>\n",
              "</dl>\n",
              "</li>\n",
              "\t<li><dl>\n",
              "\t<dt>$semilla</dt>\n",
              "\t\t<dd>456367</dd>\n",
              "\t<dt>$testing</dt>\n",
              "\t\t<dd>49377</dd>\n",
              "\t<dt>$testing_pos</dt>\n",
              "\t\t<dd>374</dd>\n",
              "\t<dt>$envios</dt>\n",
              "\t\t<dd>3927</dd>\n",
              "\t<dt>$aciertos</dt>\n",
              "\t\t<dd>219</dd>\n",
              "\t<dt>$ganancia_test</dt>\n",
              "\t\t<dd>48330000</dd>\n",
              "</dl>\n",
              "</li>\n",
              "\t<li><dl>\n",
              "\t<dt>$semilla</dt>\n",
              "\t\t<dd>789221</dd>\n",
              "\t<dt>$testing</dt>\n",
              "\t\t<dd>49379</dd>\n",
              "\t<dt>$testing_pos</dt>\n",
              "\t\t<dd>378</dd>\n",
              "\t<dt>$envios</dt>\n",
              "\t\t<dd>4077</dd>\n",
              "\t<dt>$aciertos</dt>\n",
              "\t\t<dd>215</dd>\n",
              "\t<dt>$ganancia_test</dt>\n",
              "\t\t<dd>45230000</dd>\n",
              "</dl>\n",
              "</li>\n",
              "\t<li><dl>\n",
              "\t<dt>$semilla</dt>\n",
              "\t\t<dd>912907</dd>\n",
              "\t<dt>$testing</dt>\n",
              "\t\t<dd>49380</dd>\n",
              "\t<dt>$testing_pos</dt>\n",
              "\t\t<dd>375</dd>\n",
              "\t<dt>$envios</dt>\n",
              "\t\t<dd>3496</dd>\n",
              "\t<dt>$aciertos</dt>\n",
              "\t\t<dd>201</dd>\n",
              "\t<dt>$ganancia_test</dt>\n",
              "\t\t<dd>45440000</dd>\n",
              "</dl>\n",
              "</li>\n",
              "</ol>\n"
            ],
            "text/markdown": "1. $semilla\n:   101111\n$testing\n:   49374\n$testing_pos\n:   378\n$envios\n:   2819\n$aciertos\n:   190\n$ganancia_test\n:   47810000\n\n\n\n2. $semilla\n:   234181\n$testing\n:   49381\n$testing_pos\n:   375\n$envios\n:   4234\n$aciertos\n:   217\n$ganancia_test\n:   44460000\n\n\n\n3. $semilla\n:   456367\n$testing\n:   49377\n$testing_pos\n:   374\n$envios\n:   3927\n$aciertos\n:   219\n$ganancia_test\n:   48330000\n\n\n\n4. $semilla\n:   789221\n$testing\n:   49379\n$testing_pos\n:   378\n$envios\n:   4077\n$aciertos\n:   215\n$ganancia_test\n:   45230000\n\n\n\n5. $semilla\n:   912907\n$testing\n:   49380\n$testing_pos\n:   375\n$envios\n:   3496\n$aciertos\n:   201\n$ganancia_test\n:   45440000\n\n\n\n\n\n",
            "text/latex": "\\begin{enumerate}\n\\item \\begin{description}\n\\item[\\$semilla] 101111\n\\item[\\$testing] 49374\n\\item[\\$testing\\_pos] 378\n\\item[\\$envios] 2819\n\\item[\\$aciertos] 190\n\\item[\\$ganancia\\_test] 47810000\n\\end{description}\n\n\\item \\begin{description}\n\\item[\\$semilla] 234181\n\\item[\\$testing] 49381\n\\item[\\$testing\\_pos] 375\n\\item[\\$envios] 4234\n\\item[\\$aciertos] 217\n\\item[\\$ganancia\\_test] 44460000\n\\end{description}\n\n\\item \\begin{description}\n\\item[\\$semilla] 456367\n\\item[\\$testing] 49377\n\\item[\\$testing\\_pos] 374\n\\item[\\$envios] 3927\n\\item[\\$aciertos] 219\n\\item[\\$ganancia\\_test] 48330000\n\\end{description}\n\n\\item \\begin{description}\n\\item[\\$semilla] 789221\n\\item[\\$testing] 49379\n\\item[\\$testing\\_pos] 378\n\\item[\\$envios] 4077\n\\item[\\$aciertos] 215\n\\item[\\$ganancia\\_test] 45230000\n\\end{description}\n\n\\item \\begin{description}\n\\item[\\$semilla] 912907\n\\item[\\$testing] 49380\n\\item[\\$testing\\_pos] 375\n\\item[\\$envios] 3496\n\\item[\\$aciertos] 201\n\\item[\\$ganancia\\_test] 45440000\n\\end{description}\n\n\\end{enumerate}\n",
            "text/plain": [
              "[[1]]\n",
              "[[1]]$semilla\n",
              "[1] 101111\n",
              "\n",
              "[[1]]$testing\n",
              "[1] 49374\n",
              "\n",
              "[[1]]$testing_pos\n",
              "[1] 378\n",
              "\n",
              "[[1]]$envios\n",
              "[1] 2819\n",
              "\n",
              "[[1]]$aciertos\n",
              "[1] 190\n",
              "\n",
              "[[1]]$ganancia_test\n",
              "[1] 47810000\n",
              "\n",
              "\n",
              "[[2]]\n",
              "[[2]]$semilla\n",
              "[1] 234181\n",
              "\n",
              "[[2]]$testing\n",
              "[1] 49381\n",
              "\n",
              "[[2]]$testing_pos\n",
              "[1] 375\n",
              "\n",
              "[[2]]$envios\n",
              "[1] 4234\n",
              "\n",
              "[[2]]$aciertos\n",
              "[1] 217\n",
              "\n",
              "[[2]]$ganancia_test\n",
              "[1] 44460000\n",
              "\n",
              "\n",
              "[[3]]\n",
              "[[3]]$semilla\n",
              "[1] 456367\n",
              "\n",
              "[[3]]$testing\n",
              "[1] 49377\n",
              "\n",
              "[[3]]$testing_pos\n",
              "[1] 374\n",
              "\n",
              "[[3]]$envios\n",
              "[1] 3927\n",
              "\n",
              "[[3]]$aciertos\n",
              "[1] 219\n",
              "\n",
              "[[3]]$ganancia_test\n",
              "[1] 48330000\n",
              "\n",
              "\n",
              "[[4]]\n",
              "[[4]]$semilla\n",
              "[1] 789221\n",
              "\n",
              "[[4]]$testing\n",
              "[1] 49379\n",
              "\n",
              "[[4]]$testing_pos\n",
              "[1] 378\n",
              "\n",
              "[[4]]$envios\n",
              "[1] 4077\n",
              "\n",
              "[[4]]$aciertos\n",
              "[1] 215\n",
              "\n",
              "[[4]]$ganancia_test\n",
              "[1] 45230000\n",
              "\n",
              "\n",
              "[[5]]\n",
              "[[5]]$semilla\n",
              "[1] 912907\n",
              "\n",
              "[[5]]$testing\n",
              "[1] 49380\n",
              "\n",
              "[[5]]$testing_pos\n",
              "[1] 375\n",
              "\n",
              "[[5]]$envios\n",
              "[1] 3496\n",
              "\n",
              "[[5]]$aciertos\n",
              "[1] 201\n",
              "\n",
              "[[5]]$ganancia_test\n",
              "[1] 45440000\n",
              "\n"
            ]
          },
          "metadata": {}
        }
      ]
    },
    {
      "cell_type": "code",
      "source": [
        "# paso la lista a vector\n",
        "tb_salida <- rbindlist(salidas)\n",
        "print( tb_salida)"
      ],
      "metadata": {
        "id": "tML9VmH2ECFK",
        "outputId": "b35beded-d124-4548-d2b0-64a3a46db9ae",
        "colab": {
          "base_uri": "https://localhost:8080/"
        }
      },
      "execution_count": null,
      "outputs": [
        {
          "output_type": "stream",
          "name": "stdout",
          "text": [
            "   semilla testing testing_pos envios aciertos ganancia_test\n",
            "     <num>   <int>       <int>  <int>    <int>         <num>\n",
            "1:  101111   49374         378   2819      190      47810000\n",
            "2:  234181   49381         375   4234      217      44460000\n",
            "3:  456367   49377         374   3927      219      48330000\n",
            "4:  789221   49379         378   4077      215      45230000\n",
            "5:  912907   49380         375   3496      201      45440000\n"
          ]
        }
      ]
    },
    {
      "cell_type": "code",
      "source": [
        "# finalmente calculo la media (promedio)  de las ganancias\n",
        "cat( \"ganancia promedio: \", tb_salida[, mean(ganancia_test)], \"\\n\" )"
      ],
      "metadata": {
        "id": "rbHXPfoVENQB",
        "outputId": "bab6d316-e714-40a7-f466-10fd0e871cd5",
        "colab": {
          "base_uri": "https://localhost:8080/"
        }
      },
      "execution_count": null,
      "outputs": [
        {
          "output_type": "stream",
          "name": "stdout",
          "text": [
            "ganancia promedio:  46254000 \n"
          ]
        }
      ]
    },
    {
      "cell_type": "markdown",
      "source": [
        "### Acciones a realizar\n",
        "* Reportar la  *Ganancia Promedio* <br> en la planilla colaborativa hoja  **C2-5sem**\n",
        "* Se discutirá en clase la variabilidad de estos \"ganancia promedio de cinco semillas\""
      ],
      "metadata": {
        "id": "_3xVH6UKA2W6"
      }
    },
    {
      "cell_type": "markdown",
      "source": [
        "\n",
        "\n",
        "---\n",
        "\n"
      ],
      "metadata": {
        "id": "N29m1XGpA2W7"
      }
    },
    {
      "cell_type": "markdown",
      "source": [
        "# 3  Generando n semillas en forma automatica\n",
        "## Clase 02  Experimento 3"
      ],
      "metadata": {
        "id": "zS7WIJciFGc6"
      }
    },
    {
      "cell_type": "markdown",
      "source": [
        "## 3.1  Objetivos\n",
        "Mostrar la creación de nuevas semillas a partir de la librería Primes"
      ],
      "metadata": {
        "id": "VmiFDDDJFUEo"
      }
    },
    {
      "cell_type": "markdown",
      "source": [
        "3.2  Código\n",
        "\n",
        "Como generar muchas semillas a partir de una"
      ],
      "metadata": {
        "id": "Ehe3VfdfFbvg"
      }
    },
    {
      "cell_type": "code",
      "source": [
        "# instalo y cargo la libreria  primes\n",
        "if (!require(\"primes\")) install.packages(\"primes\")\n",
        "require(\"primes\")"
      ],
      "metadata": {
        "id": "X6_dE42yF2-t",
        "outputId": "822c1a26-8454-4249-9fe3-225f33c32f29",
        "colab": {
          "base_uri": "https://localhost:8080/"
        }
      },
      "execution_count": null,
      "outputs": [
        {
          "output_type": "stream",
          "name": "stderr",
          "text": [
            "Loading required package: primes\n",
            "\n",
            "Warning message in library(package, lib.loc = lib.loc, character.only = TRUE, logical.return = TRUE, :\n",
            "“there is no package called ‘primes’”\n",
            "Installing package into ‘/usr/local/lib/R/site-library’\n",
            "(as ‘lib’ is unspecified)\n",
            "\n",
            "Loading required package: primes\n",
            "\n"
          ]
        }
      ]
    },
    {
      "cell_type": "code",
      "source": [
        "# genero numeros primos\n",
        "primos <- generate_primes(min = 100000, max = 1000000)\n",
        "\n",
        "\n",
        "set.seed(101111) # inicializo con mi primer semilla\n",
        "\n",
        "# me quedo con por ejemplo 20 primos al azar\n",
        "semillas <- sample(primos, 10)\n",
        "\n",
        "print( semillas )"
      ],
      "metadata": {
        "id": "yDU9RyV4FNhZ",
        "outputId": "09766747-58ff-48e4-9b8e-b97d51e879cb",
        "colab": {
          "base_uri": "https://localhost:8080/"
        }
      },
      "execution_count": null,
      "outputs": [
        {
          "output_type": "stream",
          "name": "stdout",
          "text": [
            " [1] 872609 219881 538001 804191 497279 176129 765991 667673 583409 104537\n"
          ]
        }
      ]
    },
    {
      "cell_type": "markdown",
      "source": [
        "\n",
        "\n",
        "---\n",
        "\n"
      ],
      "metadata": {
        "id": "eD_cO5VTGGea"
      }
    },
    {
      "cell_type": "code",
      "source": [],
      "metadata": {
        "id": "k-rgoA2ZFll4"
      },
      "execution_count": null,
      "outputs": []
    },
    {
      "cell_type": "markdown",
      "source": [
        "# 4  Medición  50-Monte Carlo Cross Validation\n",
        "## Clase 02  Experimento 4"
      ],
      "metadata": {
        "id": "cZi29THsGil_"
      }
    },
    {
      "cell_type": "markdown",
      "source": [
        "## 4.1  Objetivos\n",
        "Calcular la ganancia del modelo utilizando 50 semillas nuevas generadas a partir de mi semilla primigenia."
      ],
      "metadata": {
        "id": "qFNq6ntVGimN"
      }
    },
    {
      "cell_type": "markdown",
      "source": [
        "## 4.4 Codigo  50 Montecarlo"
      ],
      "metadata": {
        "id": "B6KtuhQCGimP"
      }
    },
    {
      "cell_type": "markdown",
      "source": [
        "Esta parte se debe correr con el runtime en lenguaje **R** Ir al menu, Runtime -> Change Runtime Tipe -> Runtime type -> R"
      ],
      "metadata": {
        "id": "LgGgjPQuGimP"
      }
    },
    {
      "cell_type": "markdown",
      "source": [
        "Este punto demora en correr 60 minutos en Google Colab, con lo cual para continuar con el punto siguiente deberá abrir un nuevo Colab"
      ],
      "metadata": {
        "id": "E82ChuO25OYx"
      }
    },
    {
      "cell_type": "markdown",
      "source": [
        "limpio el ambiente de R"
      ],
      "metadata": {
        "id": "a6AxqLwOGimQ"
      }
    },
    {
      "cell_type": "code",
      "source": [
        "# limpio la memoria\n",
        "rm(list=ls(all.names=TRUE)) # remove all objects\n",
        "gc(full=TRUE, verbose=FALSE) # garbage collection"
      ],
      "metadata": {
        "id": "797Ad0_QGimQ",
        "outputId": "6306bc54-8a35-40fe-87c7-d6883f11739d",
        "colab": {
          "base_uri": "https://localhost:8080/",
          "height": 129
        }
      },
      "execution_count": null,
      "outputs": [
        {
          "output_type": "display_data",
          "data": {
            "text/html": [
              "<table class=\"dataframe\">\n",
              "<caption>A matrix: 2 × 6 of type dbl</caption>\n",
              "<thead>\n",
              "\t<tr><th></th><th scope=col>used</th><th scope=col>(Mb)</th><th scope=col>gc trigger</th><th scope=col>(Mb)</th><th scope=col>max used</th><th scope=col>(Mb)</th></tr>\n",
              "</thead>\n",
              "<tbody>\n",
              "\t<tr><th scope=row>Ncells</th><td> 657245</td><td>35.2</td><td>1454468</td><td>77.7</td><td>1326122</td><td>70.9</td></tr>\n",
              "\t<tr><th scope=row>Vcells</th><td>1220272</td><td> 9.4</td><td>8388608</td><td>64.0</td><td>1975127</td><td>15.1</td></tr>\n",
              "</tbody>\n",
              "</table>\n"
            ],
            "text/markdown": "\nA matrix: 2 × 6 of type dbl\n\n| <!--/--> | used | (Mb) | gc trigger | (Mb) | max used | (Mb) |\n|---|---|---|---|---|---|---|\n| Ncells |  657245 | 35.2 | 1454468 | 77.7 | 1326122 | 70.9 |\n| Vcells | 1220272 |  9.4 | 8388608 | 64.0 | 1975127 | 15.1 |\n\n",
            "text/latex": "A matrix: 2 × 6 of type dbl\n\\begin{tabular}{r|llllll}\n  & used & (Mb) & gc trigger & (Mb) & max used & (Mb)\\\\\n\\hline\n\tNcells &  657245 & 35.2 & 1454468 & 77.7 & 1326122 & 70.9\\\\\n\tVcells & 1220272 &  9.4 & 8388608 & 64.0 & 1975127 & 15.1\\\\\n\\end{tabular}\n",
            "text/plain": [
              "       used    (Mb) gc trigger (Mb) max used (Mb)\n",
              "Ncells  657245 35.2 1454468    77.7 1326122  70.9\n",
              "Vcells 1220272  9.4 8388608    64.0 1975127  15.1"
            ]
          },
          "metadata": {}
        }
      ]
    },
    {
      "cell_type": "markdown",
      "source": [
        "* Instalacion de la libreria  rpart.plot  para dibujar el arbol\n",
        "* invocacion de las librerias  **data.table** y  **rpart**"
      ],
      "metadata": {
        "id": "v0CepvbjGimQ"
      }
    },
    {
      "cell_type": "code",
      "source": [
        "# cargo las librerias que necesito\n",
        "require(\"data.table\")\n",
        "require(\"rpart\")\n",
        "require(\"parallel\")\n",
        "\n",
        "if (!require(\"primes\")) install.packages(\"primes\")\n",
        "require(\"primes\")"
      ],
      "metadata": {
        "id": "CRkZ1V2_GimR",
        "outputId": "fc274516-dda6-4de5-e885-3ac348b6c5da",
        "colab": {
          "base_uri": "https://localhost:8080/"
        }
      },
      "execution_count": null,
      "outputs": [
        {
          "output_type": "stream",
          "name": "stderr",
          "text": [
            "Loading required package: data.table\n",
            "\n",
            "Loading required package: rpart\n",
            "\n",
            "Loading required package: parallel\n",
            "\n",
            "Loading required package: primes\n",
            "\n"
          ]
        }
      ]
    },
    {
      "cell_type": "markdown",
      "source": [
        "###  Accion a Realizar\n",
        "PARAM$semilla_primigenia  debe reemplazarse por SU primer semilla"
      ],
      "metadata": {
        "id": "PZKJG-nSGimR"
      }
    },
    {
      "cell_type": "code",
      "source": [
        "PARAM <- list()\n",
        "PARAM$semilla_primigenia <- 101111\n",
        "PARAM$qsemillas <- 100\n",
        "PARAM$training_pct <- 70L  # entre  1L y 99L\n",
        "\n",
        "PARAM$rpart <- list (\n",
        "  \"cp\" = -1, # complejidad minima\n",
        "  \"minsplit\" = 170, # minima cantidad de regs en un nodo para hacer el split\n",
        "  \"minbucket\" = 70, # minima cantidad de regs en una hoja\n",
        "  \"maxdepth\" = 7 # profundidad máxima del arbol\n",
        ")\n"
      ],
      "metadata": {
        "id": "4kbkA-2HGimR"
      },
      "execution_count": null,
      "outputs": []
    },
    {
      "cell_type": "code",
      "source": [
        "# particionar agrega una columna llamada fold a un dataset\n",
        "#  que consiste en una particion estratificada segun agrupa\n",
        "\n",
        "# particionar( data=dataset, division=c(70,30),\n",
        "#  agrupa=clase_ternaria, seed=semilla)   crea una particion 70, 30\n",
        "\n",
        "particionar <- function(\n",
        "    data, division, agrupa = \"\",\n",
        "    campo = \"fold\", start = 1, seed = NA) {\n",
        "  if (!is.na(seed)) set.seed(seed)\n",
        "\n",
        "  bloque <- unlist(mapply(function(x, y) {\n",
        "    rep(y, x)\n",
        "  }, division, seq(from = start, length.out = length(division))))\n",
        "\n",
        "  data[, (campo) := sample(rep(bloque, ceiling(.N / length(bloque))))[1:.N],\n",
        "    by = agrupa\n",
        "  ]\n",
        "}\n"
      ],
      "metadata": {
        "id": "HME0qUeOGimS"
      },
      "execution_count": null,
      "outputs": []
    },
    {
      "cell_type": "code",
      "source": [
        "\n",
        "ArbolEstimarGanancia <- function(semilla, param_basicos) {\n",
        "  # particiono estratificadamente el dataset\n",
        "  particionar(dataset,\n",
        "    division = c(param_basicos$training_pct, 100L -param_basicos$training_pct),\n",
        "    agrupa = \"clase_ternaria\",\n",
        "    seed = semilla # aqui se usa SU semilla\n",
        "  )\n",
        "\n",
        "  # genero el modelo\n",
        "  # predecir clase_ternaria a partir del resto\n",
        "  modelo <- rpart(\"clase_ternaria ~ .\",\n",
        "    data = dataset[fold == 1], # fold==1  es training,  el 70% de los datos\n",
        "    xval = 0,\n",
        "    control = param_basicos$rpart\n",
        "  ) # aqui van los parametros del arbol\n",
        "\n",
        "  # aplico el modelo a los datos de testing\n",
        "  prediccion <- predict(modelo, # el modelo que genere recien\n",
        "    dataset[fold == 2], # fold==2  es testing, el 30% de los datos\n",
        "    type = \"prob\"\n",
        "  ) # type= \"prob\"  es que devuelva la probabilidad\n",
        "\n",
        "  # prediccion es una matriz con TRES columnas,\n",
        "  #  llamadas \"BAJA+1\", \"BAJA+2\"  y \"CONTINUA\"\n",
        "  # cada columna es el vector de probabilidades\n",
        "\n",
        "\n",
        "  # calculo la ganancia en testing  qu es fold==2\n",
        "  ganancia_test <- dataset[\n",
        "    fold == 2,\n",
        "    sum(ifelse(prediccion[, \"BAJA+2\"] > 0.025,\n",
        "      ifelse(clase_ternaria == \"BAJA+2\", 117000, -3000),\n",
        "      0\n",
        "    ))\n",
        "  ]\n",
        "\n",
        "  # escalo la ganancia como si fuera todo el dataset\n",
        "  ganancia_test_normalizada <- ganancia_test / (( 100 - PARAM$training_pct ) / 100 )\n",
        "\n",
        "  return(list(\n",
        "    \"semilla\" = semilla,\n",
        "    \"testing\" = dataset[fold == 2, .N],\n",
        "    \"testing_pos\" = dataset[fold == 2 & clase_ternaria == \"BAJA+2\", .N],\n",
        "    \"envios\" = dataset[fold == 2, sum(prediccion[, \"BAJA+2\"] > 0.025)],\n",
        "    \"aciertos\" = dataset[\n",
        "        fold == 2,\n",
        "        sum(prediccion[, \"BAJA+2\"] > 0.025 & clase_ternaria == \"BAJA+2\")\n",
        "    ],\n",
        "    \"ganancia_test\" = ganancia_test_normalizada\n",
        "  ))\n",
        "}\n"
      ],
      "metadata": {
        "id": "ro9Ufoi-GimS"
      },
      "execution_count": null,
      "outputs": []
    },
    {
      "cell_type": "code",
      "source": [
        "# carpeta de trabajo\n",
        "setwd(\"/content/buckets/b1/exp\")\n",
        "experimento <- \"exp204\"\n",
        "dir.create(experimento, showWarnings=FALSE)\n",
        "setwd( paste0(\"/content/buckets/b1/exp/\", experimento ))"
      ],
      "metadata": {
        "id": "gz7LgltwGimT"
      },
      "execution_count": null,
      "outputs": []
    },
    {
      "cell_type": "code",
      "source": [
        "# lectura del dataset\n",
        "dataset <- fread(\"/content/datasets/dataset_pequeno.csv\")\n",
        "\n",
        "# trabajo solo con los datos con clase, es decir 202107\n",
        "dataset <- dataset[clase_ternaria != \"\"]"
      ],
      "metadata": {
        "id": "xRXKHeLeGimT"
      },
      "execution_count": null,
      "outputs": []
    },
    {
      "cell_type": "code",
      "source": [
        "# genero numeros primos\n",
        "primos <- generate_primes(min = 100000, max = 1000000)\n",
        "set.seed(PARAM$semilla_primigenia) # inicializo\n",
        "\n",
        "# me quedo con PARAM$qsemillas   semillas\n",
        "PARAM$semillas <- sample(primos, PARAM$qsemillas )"
      ],
      "metadata": {
        "id": "MdpZ10qiHSZy"
      },
      "execution_count": null,
      "outputs": []
    },
    {
      "cell_type": "code",
      "source": [
        "\n",
        "# la funcion mcmapply  llama a la funcion ArbolEstimarGanancia\n",
        "#  tantas veces como valores tenga el vector  PARAM$semillas\n",
        "salidas <- mcmapply(ArbolEstimarGanancia,\n",
        "  PARAM$semillas, # paso el vector de semillas\n",
        "  MoreArgs = list(PARAM), # aqui paso el segundo parametro\n",
        "  SIMPLIFY = FALSE,\n",
        "  mc.cores = detectCores()\n",
        ")\n",
        "\n",
        "# muestro la lista de las salidas en testing\n",
        "#  para la particion realizada con cada semilla\n",
        "salidas\n"
      ],
      "metadata": {
        "id": "r-YaawpgGimU",
        "outputId": "f85fcb54-9eb3-4392-fd77-ec2a875f00aa",
        "colab": {
          "base_uri": "https://localhost:8080/",
          "height": 1000
        }
      },
      "execution_count": null,
      "outputs": [
        {
          "output_type": "display_data",
          "data": {
            "text/html": [
              "<ol>\n",
              "\t<li><dl>\n",
              "\t<dt>$semilla</dt>\n",
              "\t\t<dd>872609</dd>\n",
              "\t<dt>$testing</dt>\n",
              "\t\t<dd>49376</dd>\n",
              "\t<dt>$testing_pos</dt>\n",
              "\t\t<dd>369</dd>\n",
              "\t<dt>$envios</dt>\n",
              "\t\t<dd>4341</dd>\n",
              "\t<dt>$aciertos</dt>\n",
              "\t\t<dd>234</dd>\n",
              "\t<dt>$ganancia_test</dt>\n",
              "\t\t<dd>50190000</dd>\n",
              "</dl>\n",
              "</li>\n",
              "\t<li><dl>\n",
              "\t<dt>$semilla</dt>\n",
              "\t\t<dd>219881</dd>\n",
              "\t<dt>$testing</dt>\n",
              "\t\t<dd>49381</dd>\n",
              "\t<dt>$testing_pos</dt>\n",
              "\t\t<dd>379</dd>\n",
              "\t<dt>$envios</dt>\n",
              "\t\t<dd>3210</dd>\n",
              "\t<dt>$aciertos</dt>\n",
              "\t\t<dd>212</dd>\n",
              "\t<dt>$ganancia_test</dt>\n",
              "\t\t<dd>52700000</dd>\n",
              "</dl>\n",
              "</li>\n",
              "\t<li><dl>\n",
              "\t<dt>$semilla</dt>\n",
              "\t\t<dd>538001</dd>\n",
              "\t<dt>$testing</dt>\n",
              "\t\t<dd>49373</dd>\n",
              "\t<dt>$testing_pos</dt>\n",
              "\t\t<dd>373</dd>\n",
              "\t<dt>$envios</dt>\n",
              "\t\t<dd>3208</dd>\n",
              "\t<dt>$aciertos</dt>\n",
              "\t\t<dd>194</dd>\n",
              "\t<dt>$ganancia_test</dt>\n",
              "\t\t<dd>45520000</dd>\n",
              "</dl>\n",
              "</li>\n",
              "\t<li><dl>\n",
              "\t<dt>$semilla</dt>\n",
              "\t\t<dd>804191</dd>\n",
              "\t<dt>$testing</dt>\n",
              "\t\t<dd>49380</dd>\n",
              "\t<dt>$testing_pos</dt>\n",
              "\t\t<dd>374</dd>\n",
              "\t<dt>$envios</dt>\n",
              "\t\t<dd>4016</dd>\n",
              "\t<dt>$aciertos</dt>\n",
              "\t\t<dd>222</dd>\n",
              "\t<dt>$ganancia_test</dt>\n",
              "\t\t<dd>48640000</dd>\n",
              "</dl>\n",
              "</li>\n",
              "\t<li><dl>\n",
              "\t<dt>$semilla</dt>\n",
              "\t\t<dd>497279</dd>\n",
              "\t<dt>$testing</dt>\n",
              "\t\t<dd>49364</dd>\n",
              "\t<dt>$testing_pos</dt>\n",
              "\t\t<dd>371</dd>\n",
              "\t<dt>$envios</dt>\n",
              "\t\t<dd>2386</dd>\n",
              "\t<dt>$aciertos</dt>\n",
              "\t\t<dd>188</dd>\n",
              "\t<dt>$ganancia_test</dt>\n",
              "\t\t<dd>51340000</dd>\n",
              "</dl>\n",
              "</li>\n",
              "\t<li><dl>\n",
              "\t<dt>$semilla</dt>\n",
              "\t\t<dd>176129</dd>\n",
              "\t<dt>$testing</dt>\n",
              "\t\t<dd>49383</dd>\n",
              "\t<dt>$testing_pos</dt>\n",
              "\t\t<dd>375</dd>\n",
              "\t<dt>$envios</dt>\n",
              "\t\t<dd>3427</dd>\n",
              "\t<dt>$aciertos</dt>\n",
              "\t\t<dd>215</dd>\n",
              "\t<dt>$ganancia_test</dt>\n",
              "\t\t<dd>51730000</dd>\n",
              "</dl>\n",
              "</li>\n",
              "\t<li><dl>\n",
              "\t<dt>$semilla</dt>\n",
              "\t\t<dd>765991</dd>\n",
              "\t<dt>$testing</dt>\n",
              "\t\t<dd>49375</dd>\n",
              "\t<dt>$testing_pos</dt>\n",
              "\t\t<dd>373</dd>\n",
              "\t<dt>$envios</dt>\n",
              "\t\t<dd>3140</dd>\n",
              "\t<dt>$aciertos</dt>\n",
              "\t\t<dd>197</dd>\n",
              "\t<dt>$ganancia_test</dt>\n",
              "\t\t<dd>47400000</dd>\n",
              "</dl>\n",
              "</li>\n",
              "\t<li><dl>\n",
              "\t<dt>$semilla</dt>\n",
              "\t\t<dd>667673</dd>\n",
              "\t<dt>$testing</dt>\n",
              "\t\t<dd>49390</dd>\n",
              "\t<dt>$testing_pos</dt>\n",
              "\t\t<dd>378</dd>\n",
              "\t<dt>$envios</dt>\n",
              "\t\t<dd>3331</dd>\n",
              "\t<dt>$aciertos</dt>\n",
              "\t\t<dd>201</dd>\n",
              "\t<dt>$ganancia_test</dt>\n",
              "\t\t<dd>47090000</dd>\n",
              "</dl>\n",
              "</li>\n",
              "\t<li><dl>\n",
              "\t<dt>$semilla</dt>\n",
              "\t\t<dd>583409</dd>\n",
              "\t<dt>$testing</dt>\n",
              "\t\t<dd>49378</dd>\n",
              "\t<dt>$testing_pos</dt>\n",
              "\t\t<dd>372</dd>\n",
              "\t<dt>$envios</dt>\n",
              "\t\t<dd>3610</dd>\n",
              "\t<dt>$aciertos</dt>\n",
              "\t\t<dd>212</dd>\n",
              "\t<dt>$ganancia_test</dt>\n",
              "\t\t<dd>48700000</dd>\n",
              "</dl>\n",
              "</li>\n",
              "\t<li><dl>\n",
              "\t<dt>$semilla</dt>\n",
              "\t\t<dd>104537</dd>\n",
              "\t<dt>$testing</dt>\n",
              "\t\t<dd>49388</dd>\n",
              "\t<dt>$testing_pos</dt>\n",
              "\t\t<dd>375</dd>\n",
              "\t<dt>$envios</dt>\n",
              "\t\t<dd>3683</dd>\n",
              "\t<dt>$aciertos</dt>\n",
              "\t\t<dd>229</dd>\n",
              "\t<dt>$ganancia_test</dt>\n",
              "\t\t<dd>54770000</dd>\n",
              "</dl>\n",
              "</li>\n",
              "\t<li><dl>\n",
              "\t<dt>$semilla</dt>\n",
              "\t\t<dd>677119</dd>\n",
              "\t<dt>$testing</dt>\n",
              "\t\t<dd>49374</dd>\n",
              "\t<dt>$testing_pos</dt>\n",
              "\t\t<dd>374</dd>\n",
              "\t<dt>$envios</dt>\n",
              "\t\t<dd>3411</dd>\n",
              "\t<dt>$aciertos</dt>\n",
              "\t\t<dd>204</dd>\n",
              "\t<dt>$ganancia_test</dt>\n",
              "\t\t<dd>47490000</dd>\n",
              "</dl>\n",
              "</li>\n",
              "\t<li><dl>\n",
              "\t<dt>$semilla</dt>\n",
              "\t\t<dd>610843</dd>\n",
              "\t<dt>$testing</dt>\n",
              "\t\t<dd>49367</dd>\n",
              "\t<dt>$testing_pos</dt>\n",
              "\t\t<dd>376</dd>\n",
              "\t<dt>$envios</dt>\n",
              "\t\t<dd>3553</dd>\n",
              "\t<dt>$aciertos</dt>\n",
              "\t\t<dd>211</dd>\n",
              "\t<dt>$ganancia_test</dt>\n",
              "\t\t<dd>48870000</dd>\n",
              "</dl>\n",
              "</li>\n",
              "\t<li><dl>\n",
              "\t<dt>$semilla</dt>\n",
              "\t\t<dd>822839</dd>\n",
              "\t<dt>$testing</dt>\n",
              "\t\t<dd>49374</dd>\n",
              "\t<dt>$testing_pos</dt>\n",
              "\t\t<dd>377</dd>\n",
              "\t<dt>$envios</dt>\n",
              "\t\t<dd>2955</dd>\n",
              "\t<dt>$aciertos</dt>\n",
              "\t\t<dd>210</dd>\n",
              "\t<dt>$ganancia_test</dt>\n",
              "\t\t<dd>54450000</dd>\n",
              "</dl>\n",
              "</li>\n",
              "\t<li><dl>\n",
              "\t<dt>$semilla</dt>\n",
              "\t\t<dd>375923</dd>\n",
              "\t<dt>$testing</dt>\n",
              "\t\t<dd>49376</dd>\n",
              "\t<dt>$testing_pos</dt>\n",
              "\t\t<dd>371</dd>\n",
              "\t<dt>$envios</dt>\n",
              "\t\t<dd>3811</dd>\n",
              "\t<dt>$aciertos</dt>\n",
              "\t\t<dd>195</dd>\n",
              "\t<dt>$ganancia_test</dt>\n",
              "\t\t<dd>39890000</dd>\n",
              "</dl>\n",
              "</li>\n",
              "\t<li><dl>\n",
              "\t<dt>$semilla</dt>\n",
              "\t\t<dd>149771</dd>\n",
              "\t<dt>$testing</dt>\n",
              "\t\t<dd>49389</dd>\n",
              "\t<dt>$testing_pos</dt>\n",
              "\t\t<dd>373</dd>\n",
              "\t<dt>$envios</dt>\n",
              "\t\t<dd>3733</dd>\n",
              "\t<dt>$aciertos</dt>\n",
              "\t\t<dd>210</dd>\n",
              "\t<dt>$ganancia_test</dt>\n",
              "\t\t<dd>46670000</dd>\n",
              "</dl>\n",
              "</li>\n",
              "\t<li><dl>\n",
              "\t<dt>$semilla</dt>\n",
              "\t\t<dd>985403</dd>\n",
              "\t<dt>$testing</dt>\n",
              "\t\t<dd>49385</dd>\n",
              "\t<dt>$testing_pos</dt>\n",
              "\t\t<dd>381</dd>\n",
              "\t<dt>$envios</dt>\n",
              "\t\t<dd>3161</dd>\n",
              "\t<dt>$aciertos</dt>\n",
              "\t\t<dd>206</dd>\n",
              "\t<dt>$ganancia_test</dt>\n",
              "\t\t<dd>50790000</dd>\n",
              "</dl>\n",
              "</li>\n",
              "\t<li><dl>\n",
              "\t<dt>$semilla</dt>\n",
              "\t\t<dd>893933</dd>\n",
              "\t<dt>$testing</dt>\n",
              "\t\t<dd>49371</dd>\n",
              "\t<dt>$testing_pos</dt>\n",
              "\t\t<dd>375</dd>\n",
              "\t<dt>$envios</dt>\n",
              "\t\t<dd>3256</dd>\n",
              "\t<dt>$aciertos</dt>\n",
              "\t\t<dd>222</dd>\n",
              "\t<dt>$ganancia_test</dt>\n",
              "\t\t<dd>56240000</dd>\n",
              "</dl>\n",
              "</li>\n",
              "\t<li><dl>\n",
              "\t<dt>$semilla</dt>\n",
              "\t\t<dd>861937</dd>\n",
              "\t<dt>$testing</dt>\n",
              "\t\t<dd>49378</dd>\n",
              "\t<dt>$testing_pos</dt>\n",
              "\t\t<dd>371</dd>\n",
              "\t<dt>$envios</dt>\n",
              "\t\t<dd>4052</dd>\n",
              "\t<dt>$aciertos</dt>\n",
              "\t\t<dd>230</dd>\n",
              "\t<dt>$ganancia_test</dt>\n",
              "\t\t<dd>51480000</dd>\n",
              "</dl>\n",
              "</li>\n",
              "\t<li><dl>\n",
              "\t<dt>$semilla</dt>\n",
              "\t\t<dd>146009</dd>\n",
              "\t<dt>$testing</dt>\n",
              "\t\t<dd>49374</dd>\n",
              "\t<dt>$testing_pos</dt>\n",
              "\t\t<dd>374</dd>\n",
              "\t<dt>$envios</dt>\n",
              "\t\t<dd>3458</dd>\n",
              "\t<dt>$aciertos</dt>\n",
              "\t\t<dd>219</dd>\n",
              "\t<dt>$ganancia_test</dt>\n",
              "\t\t<dd>53020000</dd>\n",
              "</dl>\n",
              "</li>\n",
              "\t<li><dl>\n",
              "\t<dt>$semilla</dt>\n",
              "\t\t<dd>867371</dd>\n",
              "\t<dt>$testing</dt>\n",
              "\t\t<dd>49372</dd>\n",
              "\t<dt>$testing_pos</dt>\n",
              "\t\t<dd>378</dd>\n",
              "\t<dt>$envios</dt>\n",
              "\t\t<dd>3568</dd>\n",
              "\t<dt>$aciertos</dt>\n",
              "\t\t<dd>218</dd>\n",
              "\t<dt>$ganancia_test</dt>\n",
              "\t\t<dd>51520000</dd>\n",
              "</dl>\n",
              "</li>\n",
              "\t<li><dl>\n",
              "\t<dt>$semilla</dt>\n",
              "\t\t<dd>576013</dd>\n",
              "\t<dt>$testing</dt>\n",
              "\t\t<dd>49377</dd>\n",
              "\t<dt>$testing_pos</dt>\n",
              "\t\t<dd>376</dd>\n",
              "\t<dt>$envios</dt>\n",
              "\t\t<dd>3393</dd>\n",
              "\t<dt>$aciertos</dt>\n",
              "\t\t<dd>208</dd>\n",
              "\t<dt>$ganancia_test</dt>\n",
              "\t\t<dd>49270000</dd>\n",
              "</dl>\n",
              "</li>\n",
              "\t<li><dl>\n",
              "\t<dt>$semilla</dt>\n",
              "\t\t<dd>657947</dd>\n",
              "\t<dt>$testing</dt>\n",
              "\t\t<dd>49377</dd>\n",
              "\t<dt>$testing_pos</dt>\n",
              "\t\t<dd>377</dd>\n",
              "\t<dt>$envios</dt>\n",
              "\t\t<dd>3712</dd>\n",
              "\t<dt>$aciertos</dt>\n",
              "\t\t<dd>217</dd>\n",
              "\t<dt>$ganancia_test</dt>\n",
              "\t\t<dd>49680000</dd>\n",
              "</dl>\n",
              "</li>\n",
              "\t<li><dl>\n",
              "\t<dt>$semilla</dt>\n",
              "\t\t<dd>630193</dd>\n",
              "\t<dt>$testing</dt>\n",
              "\t\t<dd>49380</dd>\n",
              "\t<dt>$testing_pos</dt>\n",
              "\t\t<dd>371</dd>\n",
              "\t<dt>$envios</dt>\n",
              "\t\t<dd>3854</dd>\n",
              "\t<dt>$aciertos</dt>\n",
              "\t\t<dd>214</dd>\n",
              "\t<dt>$ganancia_test</dt>\n",
              "\t\t<dd>47060000</dd>\n",
              "</dl>\n",
              "</li>\n",
              "\t<li><dl>\n",
              "\t<dt>$semilla</dt>\n",
              "\t\t<dd>531281</dd>\n",
              "\t<dt>$testing</dt>\n",
              "\t\t<dd>49377</dd>\n",
              "\t<dt>$testing_pos</dt>\n",
              "\t\t<dd>374</dd>\n",
              "\t<dt>$envios</dt>\n",
              "\t\t<dd>3785</dd>\n",
              "\t<dt>$aciertos</dt>\n",
              "\t\t<dd>210</dd>\n",
              "\t<dt>$ganancia_test</dt>\n",
              "\t\t<dd>46150000</dd>\n",
              "</dl>\n",
              "</li>\n",
              "\t<li><dl>\n",
              "\t<dt>$semilla</dt>\n",
              "\t\t<dd>371561</dd>\n",
              "\t<dt>$testing</dt>\n",
              "\t\t<dd>49373</dd>\n",
              "\t<dt>$testing_pos</dt>\n",
              "\t\t<dd>375</dd>\n",
              "\t<dt>$envios</dt>\n",
              "\t\t<dd>3381</dd>\n",
              "\t<dt>$aciertos</dt>\n",
              "\t\t<dd>207</dd>\n",
              "\t<dt>$ganancia_test</dt>\n",
              "\t\t<dd>48990000</dd>\n",
              "</dl>\n",
              "</li>\n",
              "\t<li><dl>\n",
              "\t<dt>$semilla</dt>\n",
              "\t\t<dd>726367</dd>\n",
              "\t<dt>$testing</dt>\n",
              "\t\t<dd>49383</dd>\n",
              "\t<dt>$testing_pos</dt>\n",
              "\t\t<dd>371</dd>\n",
              "\t<dt>$envios</dt>\n",
              "\t\t<dd>3887</dd>\n",
              "\t<dt>$aciertos</dt>\n",
              "\t\t<dd>218</dd>\n",
              "\t<dt>$ganancia_test</dt>\n",
              "\t\t<dd>48330000</dd>\n",
              "</dl>\n",
              "</li>\n",
              "\t<li><dl>\n",
              "\t<dt>$semilla</dt>\n",
              "\t\t<dd>224129</dd>\n",
              "\t<dt>$testing</dt>\n",
              "\t\t<dd>49389</dd>\n",
              "\t<dt>$testing_pos</dt>\n",
              "\t\t<dd>376</dd>\n",
              "\t<dt>$envios</dt>\n",
              "\t\t<dd>3601</dd>\n",
              "\t<dt>$aciertos</dt>\n",
              "\t\t<dd>209</dd>\n",
              "\t<dt>$ganancia_test</dt>\n",
              "\t\t<dd>47590000</dd>\n",
              "</dl>\n",
              "</li>\n",
              "\t<li><dl>\n",
              "\t<dt>$semilla</dt>\n",
              "\t\t<dd>584399</dd>\n",
              "\t<dt>$testing</dt>\n",
              "\t\t<dd>49381</dd>\n",
              "\t<dt>$testing_pos</dt>\n",
              "\t\t<dd>377</dd>\n",
              "\t<dt>$envios</dt>\n",
              "\t\t<dd>2464</dd>\n",
              "\t<dt>$aciertos</dt>\n",
              "\t\t<dd>184</dd>\n",
              "\t<dt>$ganancia_test</dt>\n",
              "\t\t<dd>48960000</dd>\n",
              "</dl>\n",
              "</li>\n",
              "\t<li><dl>\n",
              "\t<dt>$semilla</dt>\n",
              "\t\t<dd>925961</dd>\n",
              "\t<dt>$testing</dt>\n",
              "\t\t<dd>49372</dd>\n",
              "\t<dt>$testing_pos</dt>\n",
              "\t\t<dd>368</dd>\n",
              "\t<dt>$envios</dt>\n",
              "\t\t<dd>3382</dd>\n",
              "\t<dt>$aciertos</dt>\n",
              "\t\t<dd>194</dd>\n",
              "\t<dt>$ganancia_test</dt>\n",
              "\t\t<dd>43780000</dd>\n",
              "</dl>\n",
              "</li>\n",
              "\t<li><dl>\n",
              "\t<dt>$semilla</dt>\n",
              "\t\t<dd>732023</dd>\n",
              "\t<dt>$testing</dt>\n",
              "\t\t<dd>49385</dd>\n",
              "\t<dt>$testing_pos</dt>\n",
              "\t\t<dd>381</dd>\n",
              "\t<dt>$envios</dt>\n",
              "\t\t<dd>3745</dd>\n",
              "\t<dt>$aciertos</dt>\n",
              "\t\t<dd>223</dd>\n",
              "\t<dt>$ganancia_test</dt>\n",
              "\t\t<dd>51750000</dd>\n",
              "</dl>\n",
              "</li>\n",
              "\t<li><dl>\n",
              "\t<dt>$semilla</dt>\n",
              "\t\t<dd>785803</dd>\n",
              "\t<dt>$testing</dt>\n",
              "\t\t<dd>49385</dd>\n",
              "\t<dt>$testing_pos</dt>\n",
              "\t\t<dd>377</dd>\n",
              "\t<dt>$envios</dt>\n",
              "\t\t<dd>3480</dd>\n",
              "\t<dt>$aciertos</dt>\n",
              "\t\t<dd>218</dd>\n",
              "\t<dt>$ganancia_test</dt>\n",
              "\t\t<dd>52400000</dd>\n",
              "</dl>\n",
              "</li>\n",
              "\t<li><dl>\n",
              "\t<dt>$semilla</dt>\n",
              "\t\t<dd>395611</dd>\n",
              "\t<dt>$testing</dt>\n",
              "\t\t<dd>49395</dd>\n",
              "\t<dt>$testing_pos</dt>\n",
              "\t\t<dd>379</dd>\n",
              "\t<dt>$envios</dt>\n",
              "\t\t<dd>3808</dd>\n",
              "\t<dt>$aciertos</dt>\n",
              "\t\t<dd>198</dd>\n",
              "\t<dt>$ganancia_test</dt>\n",
              "\t\t<dd>41120000</dd>\n",
              "</dl>\n",
              "</li>\n",
              "\t<li><dl>\n",
              "\t<dt>$semilla</dt>\n",
              "\t\t<dd>896009</dd>\n",
              "\t<dt>$testing</dt>\n",
              "\t\t<dd>49379</dd>\n",
              "\t<dt>$testing_pos</dt>\n",
              "\t\t<dd>372</dd>\n",
              "\t<dt>$envios</dt>\n",
              "\t\t<dd>3809</dd>\n",
              "\t<dt>$aciertos</dt>\n",
              "\t\t<dd>210</dd>\n",
              "\t<dt>$ganancia_test</dt>\n",
              "\t\t<dd>45910000</dd>\n",
              "</dl>\n",
              "</li>\n",
              "\t<li><dl>\n",
              "\t<dt>$semilla</dt>\n",
              "\t\t<dd>526763</dd>\n",
              "\t<dt>$testing</dt>\n",
              "\t\t<dd>49378</dd>\n",
              "\t<dt>$testing_pos</dt>\n",
              "\t\t<dd>370</dd>\n",
              "\t<dt>$envios</dt>\n",
              "\t\t<dd>3245</dd>\n",
              "\t<dt>$aciertos</dt>\n",
              "\t\t<dd>189</dd>\n",
              "\t<dt>$ganancia_test</dt>\n",
              "\t\t<dd>43150000</dd>\n",
              "</dl>\n",
              "</li>\n",
              "\t<li><dl>\n",
              "\t<dt>$semilla</dt>\n",
              "\t\t<dd>305329</dd>\n",
              "\t<dt>$testing</dt>\n",
              "\t\t<dd>49383</dd>\n",
              "\t<dt>$testing_pos</dt>\n",
              "\t\t<dd>376</dd>\n",
              "\t<dt>$envios</dt>\n",
              "\t\t<dd>3367</dd>\n",
              "\t<dt>$aciertos</dt>\n",
              "\t\t<dd>196</dd>\n",
              "\t<dt>$ganancia_test</dt>\n",
              "\t\t<dd>44730000</dd>\n",
              "</dl>\n",
              "</li>\n",
              "\t<li><dl>\n",
              "\t<dt>$semilla</dt>\n",
              "\t\t<dd>702469</dd>\n",
              "\t<dt>$testing</dt>\n",
              "\t\t<dd>49374</dd>\n",
              "\t<dt>$testing_pos</dt>\n",
              "\t\t<dd>373</dd>\n",
              "\t<dt>$envios</dt>\n",
              "\t\t<dd>3141</dd>\n",
              "\t<dt>$aciertos</dt>\n",
              "\t\t<dd>184</dd>\n",
              "\t<dt>$ganancia_test</dt>\n",
              "\t\t<dd>42190000</dd>\n",
              "</dl>\n",
              "</li>\n",
              "\t<li><dl>\n",
              "\t<dt>$semilla</dt>\n",
              "\t\t<dd>827213</dd>\n",
              "\t<dt>$testing</dt>\n",
              "\t\t<dd>49373</dd>\n",
              "\t<dt>$testing_pos</dt>\n",
              "\t\t<dd>374</dd>\n",
              "\t<dt>$envios</dt>\n",
              "\t\t<dd>3085</dd>\n",
              "\t<dt>$aciertos</dt>\n",
              "\t\t<dd>201</dd>\n",
              "\t<dt>$ganancia_test</dt>\n",
              "\t\t<dd>49550000</dd>\n",
              "</dl>\n",
              "</li>\n",
              "\t<li><dl>\n",
              "\t<dt>$semilla</dt>\n",
              "\t\t<dd>754979</dd>\n",
              "\t<dt>$testing</dt>\n",
              "\t\t<dd>49362</dd>\n",
              "\t<dt>$testing_pos</dt>\n",
              "\t\t<dd>373</dd>\n",
              "\t<dt>$envios</dt>\n",
              "\t\t<dd>3386</dd>\n",
              "\t<dt>$aciertos</dt>\n",
              "\t\t<dd>206</dd>\n",
              "\t<dt>$ganancia_test</dt>\n",
              "\t\t<dd>48540000</dd>\n",
              "</dl>\n",
              "</li>\n",
              "\t<li><dl>\n",
              "\t<dt>$semilla</dt>\n",
              "\t\t<dd>929057</dd>\n",
              "\t<dt>$testing</dt>\n",
              "\t\t<dd>49385</dd>\n",
              "\t<dt>$testing_pos</dt>\n",
              "\t\t<dd>374</dd>\n",
              "\t<dt>$envios</dt>\n",
              "\t\t<dd>2906</dd>\n",
              "\t<dt>$aciertos</dt>\n",
              "\t\t<dd>185</dd>\n",
              "\t<dt>$ganancia_test</dt>\n",
              "\t\t<dd>44940000</dd>\n",
              "</dl>\n",
              "</li>\n",
              "\t<li><dl>\n",
              "\t<dt>$semilla</dt>\n",
              "\t\t<dd>400243</dd>\n",
              "\t<dt>$testing</dt>\n",
              "\t\t<dd>49377</dd>\n",
              "\t<dt>$testing_pos</dt>\n",
              "\t\t<dd>374</dd>\n",
              "\t<dt>$envios</dt>\n",
              "\t\t<dd>3286</dd>\n",
              "\t<dt>$aciertos</dt>\n",
              "\t\t<dd>209</dd>\n",
              "\t<dt>$ganancia_test</dt>\n",
              "\t\t<dd>50740000</dd>\n",
              "</dl>\n",
              "</li>\n",
              "\t<li><dl>\n",
              "\t<dt>$semilla</dt>\n",
              "\t\t<dd>481133</dd>\n",
              "\t<dt>$testing</dt>\n",
              "\t\t<dd>49374</dd>\n",
              "\t<dt>$testing_pos</dt>\n",
              "\t\t<dd>376</dd>\n",
              "\t<dt>$envios</dt>\n",
              "\t\t<dd>3275</dd>\n",
              "\t<dt>$aciertos</dt>\n",
              "\t\t<dd>199</dd>\n",
              "\t<dt>$ganancia_test</dt>\n",
              "\t\t<dd>46850000</dd>\n",
              "</dl>\n",
              "</li>\n",
              "\t<li><dl>\n",
              "\t<dt>$semilla</dt>\n",
              "\t\t<dd>629773</dd>\n",
              "\t<dt>$testing</dt>\n",
              "\t\t<dd>49383</dd>\n",
              "\t<dt>$testing_pos</dt>\n",
              "\t\t<dd>370</dd>\n",
              "\t<dt>$envios</dt>\n",
              "\t\t<dd>3197</dd>\n",
              "\t<dt>$aciertos</dt>\n",
              "\t\t<dd>201</dd>\n",
              "\t<dt>$ganancia_test</dt>\n",
              "\t\t<dd>48430000</dd>\n",
              "</dl>\n",
              "</li>\n",
              "\t<li><dl>\n",
              "\t<dt>$semilla</dt>\n",
              "\t\t<dd>274811</dd>\n",
              "\t<dt>$testing</dt>\n",
              "\t\t<dd>49369</dd>\n",
              "\t<dt>$testing_pos</dt>\n",
              "\t\t<dd>375</dd>\n",
              "\t<dt>$envios</dt>\n",
              "\t\t<dd>3995</dd>\n",
              "\t<dt>$aciertos</dt>\n",
              "\t\t<dd>225</dd>\n",
              "\t<dt>$ganancia_test</dt>\n",
              "\t\t<dd>50050000</dd>\n",
              "</dl>\n",
              "</li>\n",
              "\t<li><dl>\n",
              "\t<dt>$semilla</dt>\n",
              "\t\t<dd>474037</dd>\n",
              "\t<dt>$testing</dt>\n",
              "\t\t<dd>49381</dd>\n",
              "\t<dt>$testing_pos</dt>\n",
              "\t\t<dd>378</dd>\n",
              "\t<dt>$envios</dt>\n",
              "\t\t<dd>3909</dd>\n",
              "\t<dt>$aciertos</dt>\n",
              "\t\t<dd>214</dd>\n",
              "\t<dt>$ganancia_test</dt>\n",
              "\t\t<dd>46510000</dd>\n",
              "</dl>\n",
              "</li>\n",
              "\t<li><dl>\n",
              "\t<dt>$semilla</dt>\n",
              "\t\t<dd>333719</dd>\n",
              "\t<dt>$testing</dt>\n",
              "\t\t<dd>49382</dd>\n",
              "\t<dt>$testing_pos</dt>\n",
              "\t\t<dd>376</dd>\n",
              "\t<dt>$envios</dt>\n",
              "\t\t<dd>3378</dd>\n",
              "\t<dt>$aciertos</dt>\n",
              "\t\t<dd>206</dd>\n",
              "\t<dt>$ganancia_test</dt>\n",
              "\t\t<dd>48620000</dd>\n",
              "</dl>\n",
              "</li>\n",
              "\t<li><dl>\n",
              "\t<dt>$semilla</dt>\n",
              "\t\t<dd>653713</dd>\n",
              "\t<dt>$testing</dt>\n",
              "\t\t<dd>49385</dd>\n",
              "\t<dt>$testing_pos</dt>\n",
              "\t\t<dd>381</dd>\n",
              "\t<dt>$envios</dt>\n",
              "\t\t<dd>2948</dd>\n",
              "\t<dt>$aciertos</dt>\n",
              "\t\t<dd>206</dd>\n",
              "\t<dt>$ganancia_test</dt>\n",
              "\t\t<dd>52920000</dd>\n",
              "</dl>\n",
              "</li>\n",
              "\t<li><dl>\n",
              "\t<dt>$semilla</dt>\n",
              "\t\t<dd>152767</dd>\n",
              "\t<dt>$testing</dt>\n",
              "\t\t<dd>49380</dd>\n",
              "\t<dt>$testing_pos</dt>\n",
              "\t\t<dd>382</dd>\n",
              "\t<dt>$envios</dt>\n",
              "\t\t<dd>3266</dd>\n",
              "\t<dt>$aciertos</dt>\n",
              "\t\t<dd>220</dd>\n",
              "\t<dt>$ganancia_test</dt>\n",
              "\t\t<dd>55340000</dd>\n",
              "</dl>\n",
              "</li>\n",
              "\t<li><dl>\n",
              "\t<dt>$semilla</dt>\n",
              "\t\t<dd>156677</dd>\n",
              "\t<dt>$testing</dt>\n",
              "\t\t<dd>49366</dd>\n",
              "\t<dt>$testing_pos</dt>\n",
              "\t\t<dd>366</dd>\n",
              "\t<dt>$envios</dt>\n",
              "\t\t<dd>4158</dd>\n",
              "\t<dt>$aciertos</dt>\n",
              "\t\t<dd>217</dd>\n",
              "\t<dt>$ganancia_test</dt>\n",
              "\t\t<dd>45220000</dd>\n",
              "</dl>\n",
              "</li>\n",
              "\t<li><dl>\n",
              "\t<dt>$semilla</dt>\n",
              "\t\t<dd>892861</dd>\n",
              "\t<dt>$testing</dt>\n",
              "\t\t<dd>49381</dd>\n",
              "\t<dt>$testing_pos</dt>\n",
              "\t\t<dd>370</dd>\n",
              "\t<dt>$envios</dt>\n",
              "\t\t<dd>3864</dd>\n",
              "\t<dt>$aciertos</dt>\n",
              "\t\t<dd>208</dd>\n",
              "\t<dt>$ganancia_test</dt>\n",
              "\t\t<dd>44560000</dd>\n",
              "</dl>\n",
              "</li>\n",
              "\t<li><dl>\n",
              "\t<dt>$semilla</dt>\n",
              "\t\t<dd>727409</dd>\n",
              "\t<dt>$testing</dt>\n",
              "\t\t<dd>49378</dd>\n",
              "\t<dt>$testing_pos</dt>\n",
              "\t\t<dd>379</dd>\n",
              "\t<dt>$envios</dt>\n",
              "\t\t<dd>2871</dd>\n",
              "\t<dt>$aciertos</dt>\n",
              "\t\t<dd>192</dd>\n",
              "\t<dt>$ganancia_test</dt>\n",
              "\t\t<dd>48090000</dd>\n",
              "</dl>\n",
              "</li>\n",
              "\t<li><dl>\n",
              "\t<dt>$semilla</dt>\n",
              "\t\t<dd>755329</dd>\n",
              "\t<dt>$testing</dt>\n",
              "\t\t<dd>49378</dd>\n",
              "\t<dt>$testing_pos</dt>\n",
              "\t\t<dd>368</dd>\n",
              "\t<dt>$envios</dt>\n",
              "\t\t<dd>3645</dd>\n",
              "\t<dt>$aciertos</dt>\n",
              "\t\t<dd>199</dd>\n",
              "\t<dt>$ganancia_test</dt>\n",
              "\t\t<dd>43150000</dd>\n",
              "</dl>\n",
              "</li>\n",
              "\t<li><dl>\n",
              "\t<dt>$semilla</dt>\n",
              "\t\t<dd>123091</dd>\n",
              "\t<dt>$testing</dt>\n",
              "\t\t<dd>49387</dd>\n",
              "\t<dt>$testing_pos</dt>\n",
              "\t\t<dd>377</dd>\n",
              "\t<dt>$envios</dt>\n",
              "\t\t<dd>3700</dd>\n",
              "\t<dt>$aciertos</dt>\n",
              "\t\t<dd>219</dd>\n",
              "\t<dt>$ganancia_test</dt>\n",
              "\t\t<dd>50600000</dd>\n",
              "</dl>\n",
              "</li>\n",
              "\t<li><dl>\n",
              "\t<dt>$semilla</dt>\n",
              "\t\t<dd>503159</dd>\n",
              "\t<dt>$testing</dt>\n",
              "\t\t<dd>49394</dd>\n",
              "\t<dt>$testing_pos</dt>\n",
              "\t\t<dd>382</dd>\n",
              "\t<dt>$envios</dt>\n",
              "\t\t<dd>3440</dd>\n",
              "\t<dt>$aciertos</dt>\n",
              "\t\t<dd>221</dd>\n",
              "\t<dt>$ganancia_test</dt>\n",
              "\t\t<dd>5.4e+07</dd>\n",
              "</dl>\n",
              "</li>\n",
              "\t<li><dl>\n",
              "\t<dt>$semilla</dt>\n",
              "\t\t<dd>447353</dd>\n",
              "\t<dt>$testing</dt>\n",
              "\t\t<dd>49374</dd>\n",
              "\t<dt>$testing_pos</dt>\n",
              "\t\t<dd>373</dd>\n",
              "\t<dt>$envios</dt>\n",
              "\t\t<dd>4030</dd>\n",
              "\t<dt>$aciertos</dt>\n",
              "\t\t<dd>200</dd>\n",
              "\t<dt>$ganancia_test</dt>\n",
              "\t\t<dd>39700000</dd>\n",
              "</dl>\n",
              "</li>\n",
              "\t<li><dl>\n",
              "\t<dt>$semilla</dt>\n",
              "\t\t<dd>548459</dd>\n",
              "\t<dt>$testing</dt>\n",
              "\t\t<dd>49371</dd>\n",
              "\t<dt>$testing_pos</dt>\n",
              "\t\t<dd>372</dd>\n",
              "\t<dt>$envios</dt>\n",
              "\t\t<dd>3489</dd>\n",
              "\t<dt>$aciertos</dt>\n",
              "\t\t<dd>215</dd>\n",
              "\t<dt>$ganancia_test</dt>\n",
              "\t\t<dd>51110000</dd>\n",
              "</dl>\n",
              "</li>\n",
              "\t<li><dl>\n",
              "\t<dt>$semilla</dt>\n",
              "\t\t<dd>707573</dd>\n",
              "\t<dt>$testing</dt>\n",
              "\t\t<dd>49380</dd>\n",
              "\t<dt>$testing_pos</dt>\n",
              "\t\t<dd>376</dd>\n",
              "\t<dt>$envios</dt>\n",
              "\t\t<dd>3694</dd>\n",
              "\t<dt>$aciertos</dt>\n",
              "\t\t<dd>206</dd>\n",
              "\t<dt>$ganancia_test</dt>\n",
              "\t\t<dd>45460000</dd>\n",
              "</dl>\n",
              "</li>\n",
              "\t<li><dl>\n",
              "\t<dt>$semilla</dt>\n",
              "\t\t<dd>442217</dd>\n",
              "\t<dt>$testing</dt>\n",
              "\t\t<dd>49389</dd>\n",
              "\t<dt>$testing_pos</dt>\n",
              "\t\t<dd>381</dd>\n",
              "\t<dt>$envios</dt>\n",
              "\t\t<dd>2909</dd>\n",
              "\t<dt>$aciertos</dt>\n",
              "\t\t<dd>197</dd>\n",
              "\t<dt>$ganancia_test</dt>\n",
              "\t\t<dd>49710000</dd>\n",
              "</dl>\n",
              "</li>\n",
              "\t<li><dl>\n",
              "\t<dt>$semilla</dt>\n",
              "\t\t<dd>928399</dd>\n",
              "\t<dt>$testing</dt>\n",
              "\t\t<dd>49383</dd>\n",
              "\t<dt>$testing_pos</dt>\n",
              "\t\t<dd>376</dd>\n",
              "\t<dt>$envios</dt>\n",
              "\t\t<dd>4059</dd>\n",
              "\t<dt>$aciertos</dt>\n",
              "\t\t<dd>222</dd>\n",
              "\t<dt>$ganancia_test</dt>\n",
              "\t\t<dd>48210000</dd>\n",
              "</dl>\n",
              "</li>\n",
              "\t<li><dl>\n",
              "\t<dt>$semilla</dt>\n",
              "\t\t<dd>787817</dd>\n",
              "\t<dt>$testing</dt>\n",
              "\t\t<dd>49386</dd>\n",
              "\t<dt>$testing_pos</dt>\n",
              "\t\t<dd>375</dd>\n",
              "\t<dt>$envios</dt>\n",
              "\t\t<dd>3484</dd>\n",
              "\t<dt>$aciertos</dt>\n",
              "\t\t<dd>204</dd>\n",
              "\t<dt>$ganancia_test</dt>\n",
              "\t\t<dd>46760000</dd>\n",
              "</dl>\n",
              "</li>\n",
              "\t<li><dl>\n",
              "\t<dt>$semilla</dt>\n",
              "\t\t<dd>302563</dd>\n",
              "\t<dt>$testing</dt>\n",
              "\t\t<dd>49383</dd>\n",
              "\t<dt>$testing_pos</dt>\n",
              "\t\t<dd>371</dd>\n",
              "\t<dt>$envios</dt>\n",
              "\t\t<dd>3608</dd>\n",
              "\t<dt>$aciertos</dt>\n",
              "\t\t<dd>217</dd>\n",
              "\t<dt>$ganancia_test</dt>\n",
              "\t\t<dd>50720000</dd>\n",
              "</dl>\n",
              "</li>\n",
              "\t<li><dl>\n",
              "\t<dt>$semilla</dt>\n",
              "\t\t<dd>251903</dd>\n",
              "\t<dt>$testing</dt>\n",
              "\t\t<dd>49378</dd>\n",
              "\t<dt>$testing_pos</dt>\n",
              "\t\t<dd>375</dd>\n",
              "\t<dt>$envios</dt>\n",
              "\t\t<dd>3561</dd>\n",
              "\t<dt>$aciertos</dt>\n",
              "\t\t<dd>206</dd>\n",
              "\t<dt>$ganancia_test</dt>\n",
              "\t\t<dd>46790000</dd>\n",
              "</dl>\n",
              "</li>\n",
              "\t<li><dl>\n",
              "\t<dt>$semilla</dt>\n",
              "\t\t<dd>796307</dd>\n",
              "\t<dt>$testing</dt>\n",
              "\t\t<dd>49386</dd>\n",
              "\t<dt>$testing_pos</dt>\n",
              "\t\t<dd>374</dd>\n",
              "\t<dt>$envios</dt>\n",
              "\t\t<dd>3849</dd>\n",
              "\t<dt>$aciertos</dt>\n",
              "\t\t<dd>220</dd>\n",
              "\t<dt>$ganancia_test</dt>\n",
              "\t\t<dd>49510000</dd>\n",
              "</dl>\n",
              "</li>\n",
              "\t<li><dl>\n",
              "\t<dt>$semilla</dt>\n",
              "\t\t<dd>622481</dd>\n",
              "\t<dt>$testing</dt>\n",
              "\t\t<dd>49382</dd>\n",
              "\t<dt>$testing_pos</dt>\n",
              "\t\t<dd>378</dd>\n",
              "\t<dt>$envios</dt>\n",
              "\t\t<dd>3523</dd>\n",
              "\t<dt>$aciertos</dt>\n",
              "\t\t<dd>205</dd>\n",
              "\t<dt>$ganancia_test</dt>\n",
              "\t\t<dd>46770000</dd>\n",
              "</dl>\n",
              "</li>\n",
              "\t<li><dl>\n",
              "\t<dt>$semilla</dt>\n",
              "\t\t<dd>192553</dd>\n",
              "\t<dt>$testing</dt>\n",
              "\t\t<dd>49375</dd>\n",
              "\t<dt>$testing_pos</dt>\n",
              "\t\t<dd>376</dd>\n",
              "\t<dt>$envios</dt>\n",
              "\t\t<dd>3347</dd>\n",
              "\t<dt>$aciertos</dt>\n",
              "\t\t<dd>201</dd>\n",
              "\t<dt>$ganancia_test</dt>\n",
              "\t\t<dd>46930000</dd>\n",
              "</dl>\n",
              "</li>\n",
              "\t<li><dl>\n",
              "\t<dt>$semilla</dt>\n",
              "\t\t<dd>428027</dd>\n",
              "\t<dt>$testing</dt>\n",
              "\t\t<dd>49387</dd>\n",
              "\t<dt>$testing_pos</dt>\n",
              "\t\t<dd>377</dd>\n",
              "\t<dt>$envios</dt>\n",
              "\t\t<dd>3461</dd>\n",
              "\t<dt>$aciertos</dt>\n",
              "\t\t<dd>206</dd>\n",
              "\t<dt>$ganancia_test</dt>\n",
              "\t\t<dd>47790000</dd>\n",
              "</dl>\n",
              "</li>\n",
              "\t<li><dl>\n",
              "\t<dt>$semilla</dt>\n",
              "\t\t<dd>230339</dd>\n",
              "\t<dt>$testing</dt>\n",
              "\t\t<dd>49379</dd>\n",
              "\t<dt>$testing_pos</dt>\n",
              "\t\t<dd>374</dd>\n",
              "\t<dt>$envios</dt>\n",
              "\t\t<dd>2386</dd>\n",
              "\t<dt>$aciertos</dt>\n",
              "\t\t<dd>176</dd>\n",
              "\t<dt>$ganancia_test</dt>\n",
              "\t\t<dd>46540000</dd>\n",
              "</dl>\n",
              "</li>\n",
              "\t<li><dl>\n",
              "\t<dt>$semilla</dt>\n",
              "\t\t<dd>555683</dd>\n",
              "\t<dt>$testing</dt>\n",
              "\t\t<dd>49381</dd>\n",
              "\t<dt>$testing_pos</dt>\n",
              "\t\t<dd>372</dd>\n",
              "\t<dt>$envios</dt>\n",
              "\t\t<dd>4067</dd>\n",
              "\t<dt>$aciertos</dt>\n",
              "\t\t<dd>226</dd>\n",
              "\t<dt>$ganancia_test</dt>\n",
              "\t\t<dd>49730000</dd>\n",
              "</dl>\n",
              "</li>\n",
              "\t<li><dl>\n",
              "\t<dt>$semilla</dt>\n",
              "\t\t<dd>501001</dd>\n",
              "\t<dt>$testing</dt>\n",
              "\t\t<dd>49368</dd>\n",
              "\t<dt>$testing_pos</dt>\n",
              "\t\t<dd>374</dd>\n",
              "\t<dt>$envios</dt>\n",
              "\t\t<dd>3624</dd>\n",
              "\t<dt>$aciertos</dt>\n",
              "\t\t<dd>202</dd>\n",
              "\t<dt>$ganancia_test</dt>\n",
              "\t\t<dd>44560000</dd>\n",
              "</dl>\n",
              "</li>\n",
              "\t<li><dl>\n",
              "\t<dt>$semilla</dt>\n",
              "\t\t<dd>689879</dd>\n",
              "\t<dt>$testing</dt>\n",
              "\t\t<dd>49375</dd>\n",
              "\t<dt>$testing_pos</dt>\n",
              "\t\t<dd>372</dd>\n",
              "\t<dt>$envios</dt>\n",
              "\t\t<dd>3908</dd>\n",
              "\t<dt>$aciertos</dt>\n",
              "\t\t<dd>217</dd>\n",
              "\t<dt>$ganancia_test</dt>\n",
              "\t\t<dd>47720000</dd>\n",
              "</dl>\n",
              "</li>\n",
              "\t<li><dl>\n",
              "\t<dt>$semilla</dt>\n",
              "\t\t<dd>810973</dd>\n",
              "\t<dt>$testing</dt>\n",
              "\t\t<dd>49383</dd>\n",
              "\t<dt>$testing_pos</dt>\n",
              "\t\t<dd>379</dd>\n",
              "\t<dt>$envios</dt>\n",
              "\t\t<dd>3473</dd>\n",
              "\t<dt>$aciertos</dt>\n",
              "\t\t<dd>216</dd>\n",
              "\t<dt>$ganancia_test</dt>\n",
              "\t\t<dd>51670000</dd>\n",
              "</dl>\n",
              "</li>\n",
              "\t<li><dl>\n",
              "\t<dt>$semilla</dt>\n",
              "\t\t<dd>122323</dd>\n",
              "\t<dt>$testing</dt>\n",
              "\t\t<dd>49370</dd>\n",
              "\t<dt>$testing_pos</dt>\n",
              "\t\t<dd>371</dd>\n",
              "\t<dt>$envios</dt>\n",
              "\t\t<dd>2970</dd>\n",
              "\t<dt>$aciertos</dt>\n",
              "\t\t<dd>193</dd>\n",
              "\t<dt>$ganancia_test</dt>\n",
              "\t\t<dd>47500000</dd>\n",
              "</dl>\n",
              "</li>\n",
              "\t<li><dl>\n",
              "\t<dt>$semilla</dt>\n",
              "\t\t<dd>478679</dd>\n",
              "\t<dt>$testing</dt>\n",
              "\t\t<dd>49393</dd>\n",
              "\t<dt>$testing_pos</dt>\n",
              "\t\t<dd>379</dd>\n",
              "\t<dt>$envios</dt>\n",
              "\t\t<dd>4005</dd>\n",
              "\t<dt>$aciertos</dt>\n",
              "\t\t<dd>234</dd>\n",
              "\t<dt>$ganancia_test</dt>\n",
              "\t\t<dd>53550000</dd>\n",
              "</dl>\n",
              "</li>\n",
              "\t<li><dl>\n",
              "\t<dt>$semilla</dt>\n",
              "\t\t<dd>502001</dd>\n",
              "\t<dt>$testing</dt>\n",
              "\t\t<dd>49384</dd>\n",
              "\t<dt>$testing_pos</dt>\n",
              "\t\t<dd>375</dd>\n",
              "\t<dt>$envios</dt>\n",
              "\t\t<dd>2850</dd>\n",
              "\t<dt>$aciertos</dt>\n",
              "\t\t<dd>195</dd>\n",
              "\t<dt>$ganancia_test</dt>\n",
              "\t\t<dd>49500000</dd>\n",
              "</dl>\n",
              "</li>\n",
              "\t<li><dl>\n",
              "\t<dt>$semilla</dt>\n",
              "\t\t<dd>986903</dd>\n",
              "\t<dt>$testing</dt>\n",
              "\t\t<dd>49375</dd>\n",
              "\t<dt>$testing_pos</dt>\n",
              "\t\t<dd>374</dd>\n",
              "\t<dt>$envios</dt>\n",
              "\t\t<dd>4222</dd>\n",
              "\t<dt>$aciertos</dt>\n",
              "\t\t<dd>234</dd>\n",
              "\t<dt>$ganancia_test</dt>\n",
              "\t\t<dd>51380000</dd>\n",
              "</dl>\n",
              "</li>\n",
              "\t<li><dl>\n",
              "\t<dt>$semilla</dt>\n",
              "\t\t<dd>787051</dd>\n",
              "\t<dt>$testing</dt>\n",
              "\t\t<dd>49381</dd>\n",
              "\t<dt>$testing_pos</dt>\n",
              "\t\t<dd>373</dd>\n",
              "\t<dt>$envios</dt>\n",
              "\t\t<dd>3230</dd>\n",
              "\t<dt>$aciertos</dt>\n",
              "\t\t<dd>201</dd>\n",
              "\t<dt>$ganancia_test</dt>\n",
              "\t\t<dd>48100000</dd>\n",
              "</dl>\n",
              "</li>\n",
              "\t<li><dl>\n",
              "\t<dt>$semilla</dt>\n",
              "\t\t<dd>418637</dd>\n",
              "\t<dt>$testing</dt>\n",
              "\t\t<dd>49374</dd>\n",
              "\t<dt>$testing_pos</dt>\n",
              "\t\t<dd>372</dd>\n",
              "\t<dt>$envios</dt>\n",
              "\t\t<dd>3972</dd>\n",
              "\t<dt>$aciertos</dt>\n",
              "\t\t<dd>223</dd>\n",
              "\t<dt>$ganancia_test</dt>\n",
              "\t\t<dd>49480000</dd>\n",
              "</dl>\n",
              "</li>\n",
              "\t<li><dl>\n",
              "\t<dt>$semilla</dt>\n",
              "\t\t<dd>601687</dd>\n",
              "\t<dt>$testing</dt>\n",
              "\t\t<dd>49379</dd>\n",
              "\t<dt>$testing_pos</dt>\n",
              "\t\t<dd>373</dd>\n",
              "\t<dt>$envios</dt>\n",
              "\t\t<dd>3615</dd>\n",
              "\t<dt>$aciertos</dt>\n",
              "\t\t<dd>207</dd>\n",
              "\t<dt>$ganancia_test</dt>\n",
              "\t\t<dd>46650000</dd>\n",
              "</dl>\n",
              "</li>\n",
              "\t<li><dl>\n",
              "\t<dt>$semilla</dt>\n",
              "\t\t<dd>160723</dd>\n",
              "\t<dt>$testing</dt>\n",
              "\t\t<dd>49380</dd>\n",
              "\t<dt>$testing_pos</dt>\n",
              "\t\t<dd>376</dd>\n",
              "\t<dt>$envios</dt>\n",
              "\t\t<dd>3875</dd>\n",
              "\t<dt>$aciertos</dt>\n",
              "\t\t<dd>209</dd>\n",
              "\t<dt>$ganancia_test</dt>\n",
              "\t\t<dd>44850000</dd>\n",
              "</dl>\n",
              "</li>\n",
              "\t<li><dl>\n",
              "\t<dt>$semilla</dt>\n",
              "\t\t<dd>346543</dd>\n",
              "\t<dt>$testing</dt>\n",
              "\t\t<dd>49376</dd>\n",
              "\t<dt>$testing_pos</dt>\n",
              "\t\t<dd>379</dd>\n",
              "\t<dt>$envios</dt>\n",
              "\t\t<dd>3620</dd>\n",
              "\t<dt>$aciertos</dt>\n",
              "\t\t<dd>229</dd>\n",
              "\t<dt>$ganancia_test</dt>\n",
              "\t\t<dd>55400000</dd>\n",
              "</dl>\n",
              "</li>\n",
              "\t<li><dl>\n",
              "\t<dt>$semilla</dt>\n",
              "\t\t<dd>448607</dd>\n",
              "\t<dt>$testing</dt>\n",
              "\t\t<dd>49382</dd>\n",
              "\t<dt>$testing_pos</dt>\n",
              "\t\t<dd>373</dd>\n",
              "\t<dt>$envios</dt>\n",
              "\t\t<dd>3066</dd>\n",
              "\t<dt>$aciertos</dt>\n",
              "\t\t<dd>192</dd>\n",
              "\t<dt>$ganancia_test</dt>\n",
              "\t\t<dd>46140000</dd>\n",
              "</dl>\n",
              "</li>\n",
              "\t<li><dl>\n",
              "\t<dt>$semilla</dt>\n",
              "\t\t<dd>300757</dd>\n",
              "\t<dt>$testing</dt>\n",
              "\t\t<dd>49379</dd>\n",
              "\t<dt>$testing_pos</dt>\n",
              "\t\t<dd>372</dd>\n",
              "\t<dt>$envios</dt>\n",
              "\t\t<dd>4570</dd>\n",
              "\t<dt>$aciertos</dt>\n",
              "\t\t<dd>212</dd>\n",
              "\t<dt>$ganancia_test</dt>\n",
              "\t\t<dd>39100000</dd>\n",
              "</dl>\n",
              "</li>\n",
              "\t<li><dl>\n",
              "\t<dt>$semilla</dt>\n",
              "\t\t<dd>374291</dd>\n",
              "\t<dt>$testing</dt>\n",
              "\t\t<dd>49378</dd>\n",
              "\t<dt>$testing_pos</dt>\n",
              "\t\t<dd>370</dd>\n",
              "\t<dt>$envios</dt>\n",
              "\t\t<dd>3764</dd>\n",
              "\t<dt>$aciertos</dt>\n",
              "\t\t<dd>203</dd>\n",
              "\t<dt>$ganancia_test</dt>\n",
              "\t\t<dd>43560000</dd>\n",
              "</dl>\n",
              "</li>\n",
              "\t<li><dl>\n",
              "\t<dt>$semilla</dt>\n",
              "\t\t<dd>340007</dd>\n",
              "\t<dt>$testing</dt>\n",
              "\t\t<dd>49366</dd>\n",
              "\t<dt>$testing_pos</dt>\n",
              "\t\t<dd>365</dd>\n",
              "\t<dt>$envios</dt>\n",
              "\t\t<dd>3086</dd>\n",
              "\t<dt>$aciertos</dt>\n",
              "\t\t<dd>195</dd>\n",
              "\t<dt>$ganancia_test</dt>\n",
              "\t\t<dd>47140000</dd>\n",
              "</dl>\n",
              "</li>\n",
              "\t<li><dl>\n",
              "\t<dt>$semilla</dt>\n",
              "\t\t<dd>101701</dd>\n",
              "\t<dt>$testing</dt>\n",
              "\t\t<dd>49374</dd>\n",
              "\t<dt>$testing_pos</dt>\n",
              "\t\t<dd>376</dd>\n",
              "\t<dt>$envios</dt>\n",
              "\t\t<dd>3496</dd>\n",
              "\t<dt>$aciertos</dt>\n",
              "\t\t<dd>214</dd>\n",
              "\t<dt>$ganancia_test</dt>\n",
              "\t\t<dd>50640000</dd>\n",
              "</dl>\n",
              "</li>\n",
              "\t<li><dl>\n",
              "\t<dt>$semilla</dt>\n",
              "\t\t<dd>665503</dd>\n",
              "\t<dt>$testing</dt>\n",
              "\t\t<dd>49384</dd>\n",
              "\t<dt>$testing_pos</dt>\n",
              "\t\t<dd>374</dd>\n",
              "\t<dt>$envios</dt>\n",
              "\t\t<dd>3669</dd>\n",
              "\t<dt>$aciertos</dt>\n",
              "\t\t<dd>202</dd>\n",
              "\t<dt>$ganancia_test</dt>\n",
              "\t\t<dd>44110000</dd>\n",
              "</dl>\n",
              "</li>\n",
              "\t<li><dl>\n",
              "\t<dt>$semilla</dt>\n",
              "\t\t<dd>401957</dd>\n",
              "\t<dt>$testing</dt>\n",
              "\t\t<dd>49364</dd>\n",
              "\t<dt>$testing_pos</dt>\n",
              "\t\t<dd>370</dd>\n",
              "\t<dt>$envios</dt>\n",
              "\t\t<dd>3458</dd>\n",
              "\t<dt>$aciertos</dt>\n",
              "\t\t<dd>213</dd>\n",
              "\t<dt>$ganancia_test</dt>\n",
              "\t\t<dd>50620000</dd>\n",
              "</dl>\n",
              "</li>\n",
              "\t<li><dl>\n",
              "\t<dt>$semilla</dt>\n",
              "\t\t<dd>851813</dd>\n",
              "\t<dt>$testing</dt>\n",
              "\t\t<dd>49370</dd>\n",
              "\t<dt>$testing_pos</dt>\n",
              "\t\t<dd>368</dd>\n",
              "\t<dt>$envios</dt>\n",
              "\t\t<dd>3008</dd>\n",
              "\t<dt>$aciertos</dt>\n",
              "\t\t<dd>195</dd>\n",
              "\t<dt>$ganancia_test</dt>\n",
              "\t\t<dd>47920000</dd>\n",
              "</dl>\n",
              "</li>\n",
              "\t<li><dl>\n",
              "\t<dt>$semilla</dt>\n",
              "\t\t<dd>209639</dd>\n",
              "\t<dt>$testing</dt>\n",
              "\t\t<dd>49373</dd>\n",
              "\t<dt>$testing_pos</dt>\n",
              "\t\t<dd>372</dd>\n",
              "\t<dt>$envios</dt>\n",
              "\t\t<dd>3729</dd>\n",
              "\t<dt>$aciertos</dt>\n",
              "\t\t<dd>220</dd>\n",
              "\t<dt>$ganancia_test</dt>\n",
              "\t\t<dd>50710000</dd>\n",
              "</dl>\n",
              "</li>\n",
              "\t<li><dl>\n",
              "\t<dt>$semilla</dt>\n",
              "\t\t<dd>197647</dd>\n",
              "\t<dt>$testing</dt>\n",
              "\t\t<dd>49371</dd>\n",
              "\t<dt>$testing_pos</dt>\n",
              "\t\t<dd>370</dd>\n",
              "\t<dt>$envios</dt>\n",
              "\t\t<dd>2661</dd>\n",
              "\t<dt>$aciertos</dt>\n",
              "\t\t<dd>195</dd>\n",
              "\t<dt>$ganancia_test</dt>\n",
              "\t\t<dd>51390000</dd>\n",
              "</dl>\n",
              "</li>\n",
              "\t<li><dl>\n",
              "\t<dt>$semilla</dt>\n",
              "\t\t<dd>635731</dd>\n",
              "\t<dt>$testing</dt>\n",
              "\t\t<dd>49373</dd>\n",
              "\t<dt>$testing_pos</dt>\n",
              "\t\t<dd>376</dd>\n",
              "\t<dt>$envios</dt>\n",
              "\t\t<dd>3413</dd>\n",
              "\t<dt>$aciertos</dt>\n",
              "\t\t<dd>212</dd>\n",
              "\t<dt>$ganancia_test</dt>\n",
              "\t\t<dd>50670000</dd>\n",
              "</dl>\n",
              "</li>\n",
              "\t<li><dl>\n",
              "\t<dt>$semilla</dt>\n",
              "\t\t<dd>199721</dd>\n",
              "\t<dt>$testing</dt>\n",
              "\t\t<dd>49380</dd>\n",
              "\t<dt>$testing_pos</dt>\n",
              "\t\t<dd>376</dd>\n",
              "\t<dt>$envios</dt>\n",
              "\t\t<dd>3412</dd>\n",
              "\t<dt>$aciertos</dt>\n",
              "\t\t<dd>200</dd>\n",
              "\t<dt>$ganancia_test</dt>\n",
              "\t\t<dd>45880000</dd>\n",
              "</dl>\n",
              "</li>\n",
              "\t<li><dl>\n",
              "\t<dt>$semilla</dt>\n",
              "\t\t<dd>248401</dd>\n",
              "\t<dt>$testing</dt>\n",
              "\t\t<dd>49382</dd>\n",
              "\t<dt>$testing_pos</dt>\n",
              "\t\t<dd>375</dd>\n",
              "\t<dt>$envios</dt>\n",
              "\t\t<dd>3510</dd>\n",
              "\t<dt>$aciertos</dt>\n",
              "\t\t<dd>208</dd>\n",
              "\t<dt>$ganancia_test</dt>\n",
              "\t\t<dd>48100000</dd>\n",
              "</dl>\n",
              "</li>\n",
              "\t<li><dl>\n",
              "\t<dt>$semilla</dt>\n",
              "\t\t<dd>229739</dd>\n",
              "\t<dt>$testing</dt>\n",
              "\t\t<dd>49377</dd>\n",
              "\t<dt>$testing_pos</dt>\n",
              "\t\t<dd>369</dd>\n",
              "\t<dt>$envios</dt>\n",
              "\t\t<dd>3167</dd>\n",
              "\t<dt>$aciertos</dt>\n",
              "\t\t<dd>199</dd>\n",
              "\t<dt>$ganancia_test</dt>\n",
              "\t\t<dd>47930000</dd>\n",
              "</dl>\n",
              "</li>\n",
              "\t<li><dl>\n",
              "\t<dt>$semilla</dt>\n",
              "\t\t<dd>705871</dd>\n",
              "\t<dt>$testing</dt>\n",
              "\t\t<dd>49391</dd>\n",
              "\t<dt>$testing_pos</dt>\n",
              "\t\t<dd>378</dd>\n",
              "\t<dt>$envios</dt>\n",
              "\t\t<dd>4097</dd>\n",
              "\t<dt>$aciertos</dt>\n",
              "\t\t<dd>234</dd>\n",
              "\t<dt>$ganancia_test</dt>\n",
              "\t\t<dd>52630000</dd>\n",
              "</dl>\n",
              "</li>\n",
              "\t<li><dl>\n",
              "\t<dt>$semilla</dt>\n",
              "\t\t<dd>284111</dd>\n",
              "\t<dt>$testing</dt>\n",
              "\t\t<dd>49371</dd>\n",
              "\t<dt>$testing_pos</dt>\n",
              "\t\t<dd>368</dd>\n",
              "\t<dt>$envios</dt>\n",
              "\t\t<dd>3592</dd>\n",
              "\t<dt>$aciertos</dt>\n",
              "\t\t<dd>194</dd>\n",
              "\t<dt>$ganancia_test</dt>\n",
              "\t\t<dd>41680000</dd>\n",
              "</dl>\n",
              "</li>\n",
              "\t<li><dl>\n",
              "\t<dt>$semilla</dt>\n",
              "\t\t<dd>649787</dd>\n",
              "\t<dt>$testing</dt>\n",
              "\t\t<dd>49377</dd>\n",
              "\t<dt>$testing_pos</dt>\n",
              "\t\t<dd>367</dd>\n",
              "\t<dt>$envios</dt>\n",
              "\t\t<dd>2843</dd>\n",
              "\t<dt>$aciertos</dt>\n",
              "\t\t<dd>187</dd>\n",
              "\t<dt>$ganancia_test</dt>\n",
              "\t\t<dd>46370000</dd>\n",
              "</dl>\n",
              "</li>\n",
              "\t<li><dl>\n",
              "\t<dt>$semilla</dt>\n",
              "\t\t<dd>848251</dd>\n",
              "\t<dt>$testing</dt>\n",
              "\t\t<dd>49384</dd>\n",
              "\t<dt>$testing_pos</dt>\n",
              "\t\t<dd>374</dd>\n",
              "\t<dt>$envios</dt>\n",
              "\t\t<dd>3666</dd>\n",
              "\t<dt>$aciertos</dt>\n",
              "\t\t<dd>210</dd>\n",
              "\t<dt>$ganancia_test</dt>\n",
              "\t\t<dd>47340000</dd>\n",
              "</dl>\n",
              "</li>\n",
              "\t<li><dl>\n",
              "\t<dt>$semilla</dt>\n",
              "\t\t<dd>924059</dd>\n",
              "\t<dt>$testing</dt>\n",
              "\t\t<dd>49397</dd>\n",
              "\t<dt>$testing_pos</dt>\n",
              "\t\t<dd>378</dd>\n",
              "\t<dt>$envios</dt>\n",
              "\t\t<dd>3503</dd>\n",
              "\t<dt>$aciertos</dt>\n",
              "\t\t<dd>217</dd>\n",
              "\t<dt>$ganancia_test</dt>\n",
              "\t\t<dd>51770000</dd>\n",
              "</dl>\n",
              "</li>\n",
              "\t<li><dl>\n",
              "\t<dt>$semilla</dt>\n",
              "\t\t<dd>341491</dd>\n",
              "\t<dt>$testing</dt>\n",
              "\t\t<dd>49380</dd>\n",
              "\t<dt>$testing_pos</dt>\n",
              "\t\t<dd>369</dd>\n",
              "\t<dt>$envios</dt>\n",
              "\t\t<dd>3231</dd>\n",
              "\t<dt>$aciertos</dt>\n",
              "\t\t<dd>186</dd>\n",
              "\t<dt>$ganancia_test</dt>\n",
              "\t\t<dd>42090000</dd>\n",
              "</dl>\n",
              "</li>\n",
              "\t<li><dl>\n",
              "\t<dt>$semilla</dt>\n",
              "\t\t<dd>675319</dd>\n",
              "\t<dt>$testing</dt>\n",
              "\t\t<dd>49377</dd>\n",
              "\t<dt>$testing_pos</dt>\n",
              "\t\t<dd>373</dd>\n",
              "\t<dt>$envios</dt>\n",
              "\t\t<dd>3051</dd>\n",
              "\t<dt>$aciertos</dt>\n",
              "\t\t<dd>185</dd>\n",
              "\t<dt>$ganancia_test</dt>\n",
              "\t\t<dd>43490000</dd>\n",
              "</dl>\n",
              "</li>\n",
              "</ol>\n"
            ],
            "text/markdown": "1. $semilla\n:   872609\n$testing\n:   49376\n$testing_pos\n:   369\n$envios\n:   4341\n$aciertos\n:   234\n$ganancia_test\n:   50190000\n\n\n\n2. $semilla\n:   219881\n$testing\n:   49381\n$testing_pos\n:   379\n$envios\n:   3210\n$aciertos\n:   212\n$ganancia_test\n:   52700000\n\n\n\n3. $semilla\n:   538001\n$testing\n:   49373\n$testing_pos\n:   373\n$envios\n:   3208\n$aciertos\n:   194\n$ganancia_test\n:   45520000\n\n\n\n4. $semilla\n:   804191\n$testing\n:   49380\n$testing_pos\n:   374\n$envios\n:   4016\n$aciertos\n:   222\n$ganancia_test\n:   48640000\n\n\n\n5. $semilla\n:   497279\n$testing\n:   49364\n$testing_pos\n:   371\n$envios\n:   2386\n$aciertos\n:   188\n$ganancia_test\n:   51340000\n\n\n\n6. $semilla\n:   176129\n$testing\n:   49383\n$testing_pos\n:   375\n$envios\n:   3427\n$aciertos\n:   215\n$ganancia_test\n:   51730000\n\n\n\n7. $semilla\n:   765991\n$testing\n:   49375\n$testing_pos\n:   373\n$envios\n:   3140\n$aciertos\n:   197\n$ganancia_test\n:   47400000\n\n\n\n8. $semilla\n:   667673\n$testing\n:   49390\n$testing_pos\n:   378\n$envios\n:   3331\n$aciertos\n:   201\n$ganancia_test\n:   47090000\n\n\n\n9. $semilla\n:   583409\n$testing\n:   49378\n$testing_pos\n:   372\n$envios\n:   3610\n$aciertos\n:   212\n$ganancia_test\n:   48700000\n\n\n\n10. $semilla\n:   104537\n$testing\n:   49388\n$testing_pos\n:   375\n$envios\n:   3683\n$aciertos\n:   229\n$ganancia_test\n:   54770000\n\n\n\n11. $semilla\n:   677119\n$testing\n:   49374\n$testing_pos\n:   374\n$envios\n:   3411\n$aciertos\n:   204\n$ganancia_test\n:   47490000\n\n\n\n12. $semilla\n:   610843\n$testing\n:   49367\n$testing_pos\n:   376\n$envios\n:   3553\n$aciertos\n:   211\n$ganancia_test\n:   48870000\n\n\n\n13. $semilla\n:   822839\n$testing\n:   49374\n$testing_pos\n:   377\n$envios\n:   2955\n$aciertos\n:   210\n$ganancia_test\n:   54450000\n\n\n\n14. $semilla\n:   375923\n$testing\n:   49376\n$testing_pos\n:   371\n$envios\n:   3811\n$aciertos\n:   195\n$ganancia_test\n:   39890000\n\n\n\n15. $semilla\n:   149771\n$testing\n:   49389\n$testing_pos\n:   373\n$envios\n:   3733\n$aciertos\n:   210\n$ganancia_test\n:   46670000\n\n\n\n16. $semilla\n:   985403\n$testing\n:   49385\n$testing_pos\n:   381\n$envios\n:   3161\n$aciertos\n:   206\n$ganancia_test\n:   50790000\n\n\n\n17. $semilla\n:   893933\n$testing\n:   49371\n$testing_pos\n:   375\n$envios\n:   3256\n$aciertos\n:   222\n$ganancia_test\n:   56240000\n\n\n\n18. $semilla\n:   861937\n$testing\n:   49378\n$testing_pos\n:   371\n$envios\n:   4052\n$aciertos\n:   230\n$ganancia_test\n:   51480000\n\n\n\n19. $semilla\n:   146009\n$testing\n:   49374\n$testing_pos\n:   374\n$envios\n:   3458\n$aciertos\n:   219\n$ganancia_test\n:   53020000\n\n\n\n20. $semilla\n:   867371\n$testing\n:   49372\n$testing_pos\n:   378\n$envios\n:   3568\n$aciertos\n:   218\n$ganancia_test\n:   51520000\n\n\n\n21. $semilla\n:   576013\n$testing\n:   49377\n$testing_pos\n:   376\n$envios\n:   3393\n$aciertos\n:   208\n$ganancia_test\n:   49270000\n\n\n\n22. $semilla\n:   657947\n$testing\n:   49377\n$testing_pos\n:   377\n$envios\n:   3712\n$aciertos\n:   217\n$ganancia_test\n:   49680000\n\n\n\n23. $semilla\n:   630193\n$testing\n:   49380\n$testing_pos\n:   371\n$envios\n:   3854\n$aciertos\n:   214\n$ganancia_test\n:   47060000\n\n\n\n24. $semilla\n:   531281\n$testing\n:   49377\n$testing_pos\n:   374\n$envios\n:   3785\n$aciertos\n:   210\n$ganancia_test\n:   46150000\n\n\n\n25. $semilla\n:   371561\n$testing\n:   49373\n$testing_pos\n:   375\n$envios\n:   3381\n$aciertos\n:   207\n$ganancia_test\n:   48990000\n\n\n\n26. $semilla\n:   726367\n$testing\n:   49383\n$testing_pos\n:   371\n$envios\n:   3887\n$aciertos\n:   218\n$ganancia_test\n:   48330000\n\n\n\n27. $semilla\n:   224129\n$testing\n:   49389\n$testing_pos\n:   376\n$envios\n:   3601\n$aciertos\n:   209\n$ganancia_test\n:   47590000\n\n\n\n28. $semilla\n:   584399\n$testing\n:   49381\n$testing_pos\n:   377\n$envios\n:   2464\n$aciertos\n:   184\n$ganancia_test\n:   48960000\n\n\n\n29. $semilla\n:   925961\n$testing\n:   49372\n$testing_pos\n:   368\n$envios\n:   3382\n$aciertos\n:   194\n$ganancia_test\n:   43780000\n\n\n\n30. $semilla\n:   732023\n$testing\n:   49385\n$testing_pos\n:   381\n$envios\n:   3745\n$aciertos\n:   223\n$ganancia_test\n:   51750000\n\n\n\n31. $semilla\n:   785803\n$testing\n:   49385\n$testing_pos\n:   377\n$envios\n:   3480\n$aciertos\n:   218\n$ganancia_test\n:   52400000\n\n\n\n32. $semilla\n:   395611\n$testing\n:   49395\n$testing_pos\n:   379\n$envios\n:   3808\n$aciertos\n:   198\n$ganancia_test\n:   41120000\n\n\n\n33. $semilla\n:   896009\n$testing\n:   49379\n$testing_pos\n:   372\n$envios\n:   3809\n$aciertos\n:   210\n$ganancia_test\n:   45910000\n\n\n\n34. $semilla\n:   526763\n$testing\n:   49378\n$testing_pos\n:   370\n$envios\n:   3245\n$aciertos\n:   189\n$ganancia_test\n:   43150000\n\n\n\n35. $semilla\n:   305329\n$testing\n:   49383\n$testing_pos\n:   376\n$envios\n:   3367\n$aciertos\n:   196\n$ganancia_test\n:   44730000\n\n\n\n36. $semilla\n:   702469\n$testing\n:   49374\n$testing_pos\n:   373\n$envios\n:   3141\n$aciertos\n:   184\n$ganancia_test\n:   42190000\n\n\n\n37. $semilla\n:   827213\n$testing\n:   49373\n$testing_pos\n:   374\n$envios\n:   3085\n$aciertos\n:   201\n$ganancia_test\n:   49550000\n\n\n\n38. $semilla\n:   754979\n$testing\n:   49362\n$testing_pos\n:   373\n$envios\n:   3386\n$aciertos\n:   206\n$ganancia_test\n:   48540000\n\n\n\n39. $semilla\n:   929057\n$testing\n:   49385\n$testing_pos\n:   374\n$envios\n:   2906\n$aciertos\n:   185\n$ganancia_test\n:   44940000\n\n\n\n40. $semilla\n:   400243\n$testing\n:   49377\n$testing_pos\n:   374\n$envios\n:   3286\n$aciertos\n:   209\n$ganancia_test\n:   50740000\n\n\n\n41. $semilla\n:   481133\n$testing\n:   49374\n$testing_pos\n:   376\n$envios\n:   3275\n$aciertos\n:   199\n$ganancia_test\n:   46850000\n\n\n\n42. $semilla\n:   629773\n$testing\n:   49383\n$testing_pos\n:   370\n$envios\n:   3197\n$aciertos\n:   201\n$ganancia_test\n:   48430000\n\n\n\n43. $semilla\n:   274811\n$testing\n:   49369\n$testing_pos\n:   375\n$envios\n:   3995\n$aciertos\n:   225\n$ganancia_test\n:   50050000\n\n\n\n44. $semilla\n:   474037\n$testing\n:   49381\n$testing_pos\n:   378\n$envios\n:   3909\n$aciertos\n:   214\n$ganancia_test\n:   46510000\n\n\n\n45. $semilla\n:   333719\n$testing\n:   49382\n$testing_pos\n:   376\n$envios\n:   3378\n$aciertos\n:   206\n$ganancia_test\n:   48620000\n\n\n\n46. $semilla\n:   653713\n$testing\n:   49385\n$testing_pos\n:   381\n$envios\n:   2948\n$aciertos\n:   206\n$ganancia_test\n:   52920000\n\n\n\n47. $semilla\n:   152767\n$testing\n:   49380\n$testing_pos\n:   382\n$envios\n:   3266\n$aciertos\n:   220\n$ganancia_test\n:   55340000\n\n\n\n48. $semilla\n:   156677\n$testing\n:   49366\n$testing_pos\n:   366\n$envios\n:   4158\n$aciertos\n:   217\n$ganancia_test\n:   45220000\n\n\n\n49. $semilla\n:   892861\n$testing\n:   49381\n$testing_pos\n:   370\n$envios\n:   3864\n$aciertos\n:   208\n$ganancia_test\n:   44560000\n\n\n\n50. $semilla\n:   727409\n$testing\n:   49378\n$testing_pos\n:   379\n$envios\n:   2871\n$aciertos\n:   192\n$ganancia_test\n:   48090000\n\n\n\n51. $semilla\n:   755329\n$testing\n:   49378\n$testing_pos\n:   368\n$envios\n:   3645\n$aciertos\n:   199\n$ganancia_test\n:   43150000\n\n\n\n52. $semilla\n:   123091\n$testing\n:   49387\n$testing_pos\n:   377\n$envios\n:   3700\n$aciertos\n:   219\n$ganancia_test\n:   50600000\n\n\n\n53. $semilla\n:   503159\n$testing\n:   49394\n$testing_pos\n:   382\n$envios\n:   3440\n$aciertos\n:   221\n$ganancia_test\n:   5.4e+07\n\n\n\n54. $semilla\n:   447353\n$testing\n:   49374\n$testing_pos\n:   373\n$envios\n:   4030\n$aciertos\n:   200\n$ganancia_test\n:   39700000\n\n\n\n55. $semilla\n:   548459\n$testing\n:   49371\n$testing_pos\n:   372\n$envios\n:   3489\n$aciertos\n:   215\n$ganancia_test\n:   51110000\n\n\n\n56. $semilla\n:   707573\n$testing\n:   49380\n$testing_pos\n:   376\n$envios\n:   3694\n$aciertos\n:   206\n$ganancia_test\n:   45460000\n\n\n\n57. $semilla\n:   442217\n$testing\n:   49389\n$testing_pos\n:   381\n$envios\n:   2909\n$aciertos\n:   197\n$ganancia_test\n:   49710000\n\n\n\n58. $semilla\n:   928399\n$testing\n:   49383\n$testing_pos\n:   376\n$envios\n:   4059\n$aciertos\n:   222\n$ganancia_test\n:   48210000\n\n\n\n59. $semilla\n:   787817\n$testing\n:   49386\n$testing_pos\n:   375\n$envios\n:   3484\n$aciertos\n:   204\n$ganancia_test\n:   46760000\n\n\n\n60. $semilla\n:   302563\n$testing\n:   49383\n$testing_pos\n:   371\n$envios\n:   3608\n$aciertos\n:   217\n$ganancia_test\n:   50720000\n\n\n\n61. $semilla\n:   251903\n$testing\n:   49378\n$testing_pos\n:   375\n$envios\n:   3561\n$aciertos\n:   206\n$ganancia_test\n:   46790000\n\n\n\n62. $semilla\n:   796307\n$testing\n:   49386\n$testing_pos\n:   374\n$envios\n:   3849\n$aciertos\n:   220\n$ganancia_test\n:   49510000\n\n\n\n63. $semilla\n:   622481\n$testing\n:   49382\n$testing_pos\n:   378\n$envios\n:   3523\n$aciertos\n:   205\n$ganancia_test\n:   46770000\n\n\n\n64. $semilla\n:   192553\n$testing\n:   49375\n$testing_pos\n:   376\n$envios\n:   3347\n$aciertos\n:   201\n$ganancia_test\n:   46930000\n\n\n\n65. $semilla\n:   428027\n$testing\n:   49387\n$testing_pos\n:   377\n$envios\n:   3461\n$aciertos\n:   206\n$ganancia_test\n:   47790000\n\n\n\n66. $semilla\n:   230339\n$testing\n:   49379\n$testing_pos\n:   374\n$envios\n:   2386\n$aciertos\n:   176\n$ganancia_test\n:   46540000\n\n\n\n67. $semilla\n:   555683\n$testing\n:   49381\n$testing_pos\n:   372\n$envios\n:   4067\n$aciertos\n:   226\n$ganancia_test\n:   49730000\n\n\n\n68. $semilla\n:   501001\n$testing\n:   49368\n$testing_pos\n:   374\n$envios\n:   3624\n$aciertos\n:   202\n$ganancia_test\n:   44560000\n\n\n\n69. $semilla\n:   689879\n$testing\n:   49375\n$testing_pos\n:   372\n$envios\n:   3908\n$aciertos\n:   217\n$ganancia_test\n:   47720000\n\n\n\n70. $semilla\n:   810973\n$testing\n:   49383\n$testing_pos\n:   379\n$envios\n:   3473\n$aciertos\n:   216\n$ganancia_test\n:   51670000\n\n\n\n71. $semilla\n:   122323\n$testing\n:   49370\n$testing_pos\n:   371\n$envios\n:   2970\n$aciertos\n:   193\n$ganancia_test\n:   47500000\n\n\n\n72. $semilla\n:   478679\n$testing\n:   49393\n$testing_pos\n:   379\n$envios\n:   4005\n$aciertos\n:   234\n$ganancia_test\n:   53550000\n\n\n\n73. $semilla\n:   502001\n$testing\n:   49384\n$testing_pos\n:   375\n$envios\n:   2850\n$aciertos\n:   195\n$ganancia_test\n:   49500000\n\n\n\n74. $semilla\n:   986903\n$testing\n:   49375\n$testing_pos\n:   374\n$envios\n:   4222\n$aciertos\n:   234\n$ganancia_test\n:   51380000\n\n\n\n75. $semilla\n:   787051\n$testing\n:   49381\n$testing_pos\n:   373\n$envios\n:   3230\n$aciertos\n:   201\n$ganancia_test\n:   48100000\n\n\n\n76. $semilla\n:   418637\n$testing\n:   49374\n$testing_pos\n:   372\n$envios\n:   3972\n$aciertos\n:   223\n$ganancia_test\n:   49480000\n\n\n\n77. $semilla\n:   601687\n$testing\n:   49379\n$testing_pos\n:   373\n$envios\n:   3615\n$aciertos\n:   207\n$ganancia_test\n:   46650000\n\n\n\n78. $semilla\n:   160723\n$testing\n:   49380\n$testing_pos\n:   376\n$envios\n:   3875\n$aciertos\n:   209\n$ganancia_test\n:   44850000\n\n\n\n79. $semilla\n:   346543\n$testing\n:   49376\n$testing_pos\n:   379\n$envios\n:   3620\n$aciertos\n:   229\n$ganancia_test\n:   55400000\n\n\n\n80. $semilla\n:   448607\n$testing\n:   49382\n$testing_pos\n:   373\n$envios\n:   3066\n$aciertos\n:   192\n$ganancia_test\n:   46140000\n\n\n\n81. $semilla\n:   300757\n$testing\n:   49379\n$testing_pos\n:   372\n$envios\n:   4570\n$aciertos\n:   212\n$ganancia_test\n:   39100000\n\n\n\n82. $semilla\n:   374291\n$testing\n:   49378\n$testing_pos\n:   370\n$envios\n:   3764\n$aciertos\n:   203\n$ganancia_test\n:   43560000\n\n\n\n83. $semilla\n:   340007\n$testing\n:   49366\n$testing_pos\n:   365\n$envios\n:   3086\n$aciertos\n:   195\n$ganancia_test\n:   47140000\n\n\n\n84. $semilla\n:   101701\n$testing\n:   49374\n$testing_pos\n:   376\n$envios\n:   3496\n$aciertos\n:   214\n$ganancia_test\n:   50640000\n\n\n\n85. $semilla\n:   665503\n$testing\n:   49384\n$testing_pos\n:   374\n$envios\n:   3669\n$aciertos\n:   202\n$ganancia_test\n:   44110000\n\n\n\n86. $semilla\n:   401957\n$testing\n:   49364\n$testing_pos\n:   370\n$envios\n:   3458\n$aciertos\n:   213\n$ganancia_test\n:   50620000\n\n\n\n87. $semilla\n:   851813\n$testing\n:   49370\n$testing_pos\n:   368\n$envios\n:   3008\n$aciertos\n:   195\n$ganancia_test\n:   47920000\n\n\n\n88. $semilla\n:   209639\n$testing\n:   49373\n$testing_pos\n:   372\n$envios\n:   3729\n$aciertos\n:   220\n$ganancia_test\n:   50710000\n\n\n\n89. $semilla\n:   197647\n$testing\n:   49371\n$testing_pos\n:   370\n$envios\n:   2661\n$aciertos\n:   195\n$ganancia_test\n:   51390000\n\n\n\n90. $semilla\n:   635731\n$testing\n:   49373\n$testing_pos\n:   376\n$envios\n:   3413\n$aciertos\n:   212\n$ganancia_test\n:   50670000\n\n\n\n91. $semilla\n:   199721\n$testing\n:   49380\n$testing_pos\n:   376\n$envios\n:   3412\n$aciertos\n:   200\n$ganancia_test\n:   45880000\n\n\n\n92. $semilla\n:   248401\n$testing\n:   49382\n$testing_pos\n:   375\n$envios\n:   3510\n$aciertos\n:   208\n$ganancia_test\n:   48100000\n\n\n\n93. $semilla\n:   229739\n$testing\n:   49377\n$testing_pos\n:   369\n$envios\n:   3167\n$aciertos\n:   199\n$ganancia_test\n:   47930000\n\n\n\n94. $semilla\n:   705871\n$testing\n:   49391\n$testing_pos\n:   378\n$envios\n:   4097\n$aciertos\n:   234\n$ganancia_test\n:   52630000\n\n\n\n95. $semilla\n:   284111\n$testing\n:   49371\n$testing_pos\n:   368\n$envios\n:   3592\n$aciertos\n:   194\n$ganancia_test\n:   41680000\n\n\n\n96. $semilla\n:   649787\n$testing\n:   49377\n$testing_pos\n:   367\n$envios\n:   2843\n$aciertos\n:   187\n$ganancia_test\n:   46370000\n\n\n\n97. $semilla\n:   848251\n$testing\n:   49384\n$testing_pos\n:   374\n$envios\n:   3666\n$aciertos\n:   210\n$ganancia_test\n:   47340000\n\n\n\n98. $semilla\n:   924059\n$testing\n:   49397\n$testing_pos\n:   378\n$envios\n:   3503\n$aciertos\n:   217\n$ganancia_test\n:   51770000\n\n\n\n99. $semilla\n:   341491\n$testing\n:   49380\n$testing_pos\n:   369\n$envios\n:   3231\n$aciertos\n:   186\n$ganancia_test\n:   42090000\n\n\n\n100. $semilla\n:   675319\n$testing\n:   49377\n$testing_pos\n:   373\n$envios\n:   3051\n$aciertos\n:   185\n$ganancia_test\n:   43490000\n\n\n\n\n\n",
            "text/latex": "\\begin{enumerate}\n\\item \\begin{description}\n\\item[\\$semilla] 872609\n\\item[\\$testing] 49376\n\\item[\\$testing\\_pos] 369\n\\item[\\$envios] 4341\n\\item[\\$aciertos] 234\n\\item[\\$ganancia\\_test] 50190000\n\\end{description}\n\n\\item \\begin{description}\n\\item[\\$semilla] 219881\n\\item[\\$testing] 49381\n\\item[\\$testing\\_pos] 379\n\\item[\\$envios] 3210\n\\item[\\$aciertos] 212\n\\item[\\$ganancia\\_test] 52700000\n\\end{description}\n\n\\item \\begin{description}\n\\item[\\$semilla] 538001\n\\item[\\$testing] 49373\n\\item[\\$testing\\_pos] 373\n\\item[\\$envios] 3208\n\\item[\\$aciertos] 194\n\\item[\\$ganancia\\_test] 45520000\n\\end{description}\n\n\\item \\begin{description}\n\\item[\\$semilla] 804191\n\\item[\\$testing] 49380\n\\item[\\$testing\\_pos] 374\n\\item[\\$envios] 4016\n\\item[\\$aciertos] 222\n\\item[\\$ganancia\\_test] 48640000\n\\end{description}\n\n\\item \\begin{description}\n\\item[\\$semilla] 497279\n\\item[\\$testing] 49364\n\\item[\\$testing\\_pos] 371\n\\item[\\$envios] 2386\n\\item[\\$aciertos] 188\n\\item[\\$ganancia\\_test] 51340000\n\\end{description}\n\n\\item \\begin{description}\n\\item[\\$semilla] 176129\n\\item[\\$testing] 49383\n\\item[\\$testing\\_pos] 375\n\\item[\\$envios] 3427\n\\item[\\$aciertos] 215\n\\item[\\$ganancia\\_test] 51730000\n\\end{description}\n\n\\item \\begin{description}\n\\item[\\$semilla] 765991\n\\item[\\$testing] 49375\n\\item[\\$testing\\_pos] 373\n\\item[\\$envios] 3140\n\\item[\\$aciertos] 197\n\\item[\\$ganancia\\_test] 47400000\n\\end{description}\n\n\\item \\begin{description}\n\\item[\\$semilla] 667673\n\\item[\\$testing] 49390\n\\item[\\$testing\\_pos] 378\n\\item[\\$envios] 3331\n\\item[\\$aciertos] 201\n\\item[\\$ganancia\\_test] 47090000\n\\end{description}\n\n\\item \\begin{description}\n\\item[\\$semilla] 583409\n\\item[\\$testing] 49378\n\\item[\\$testing\\_pos] 372\n\\item[\\$envios] 3610\n\\item[\\$aciertos] 212\n\\item[\\$ganancia\\_test] 48700000\n\\end{description}\n\n\\item \\begin{description}\n\\item[\\$semilla] 104537\n\\item[\\$testing] 49388\n\\item[\\$testing\\_pos] 375\n\\item[\\$envios] 3683\n\\item[\\$aciertos] 229\n\\item[\\$ganancia\\_test] 54770000\n\\end{description}\n\n\\item \\begin{description}\n\\item[\\$semilla] 677119\n\\item[\\$testing] 49374\n\\item[\\$testing\\_pos] 374\n\\item[\\$envios] 3411\n\\item[\\$aciertos] 204\n\\item[\\$ganancia\\_test] 47490000\n\\end{description}\n\n\\item \\begin{description}\n\\item[\\$semilla] 610843\n\\item[\\$testing] 49367\n\\item[\\$testing\\_pos] 376\n\\item[\\$envios] 3553\n\\item[\\$aciertos] 211\n\\item[\\$ganancia\\_test] 48870000\n\\end{description}\n\n\\item \\begin{description}\n\\item[\\$semilla] 822839\n\\item[\\$testing] 49374\n\\item[\\$testing\\_pos] 377\n\\item[\\$envios] 2955\n\\item[\\$aciertos] 210\n\\item[\\$ganancia\\_test] 54450000\n\\end{description}\n\n\\item \\begin{description}\n\\item[\\$semilla] 375923\n\\item[\\$testing] 49376\n\\item[\\$testing\\_pos] 371\n\\item[\\$envios] 3811\n\\item[\\$aciertos] 195\n\\item[\\$ganancia\\_test] 39890000\n\\end{description}\n\n\\item \\begin{description}\n\\item[\\$semilla] 149771\n\\item[\\$testing] 49389\n\\item[\\$testing\\_pos] 373\n\\item[\\$envios] 3733\n\\item[\\$aciertos] 210\n\\item[\\$ganancia\\_test] 46670000\n\\end{description}\n\n\\item \\begin{description}\n\\item[\\$semilla] 985403\n\\item[\\$testing] 49385\n\\item[\\$testing\\_pos] 381\n\\item[\\$envios] 3161\n\\item[\\$aciertos] 206\n\\item[\\$ganancia\\_test] 50790000\n\\end{description}\n\n\\item \\begin{description}\n\\item[\\$semilla] 893933\n\\item[\\$testing] 49371\n\\item[\\$testing\\_pos] 375\n\\item[\\$envios] 3256\n\\item[\\$aciertos] 222\n\\item[\\$ganancia\\_test] 56240000\n\\end{description}\n\n\\item \\begin{description}\n\\item[\\$semilla] 861937\n\\item[\\$testing] 49378\n\\item[\\$testing\\_pos] 371\n\\item[\\$envios] 4052\n\\item[\\$aciertos] 230\n\\item[\\$ganancia\\_test] 51480000\n\\end{description}\n\n\\item \\begin{description}\n\\item[\\$semilla] 146009\n\\item[\\$testing] 49374\n\\item[\\$testing\\_pos] 374\n\\item[\\$envios] 3458\n\\item[\\$aciertos] 219\n\\item[\\$ganancia\\_test] 53020000\n\\end{description}\n\n\\item \\begin{description}\n\\item[\\$semilla] 867371\n\\item[\\$testing] 49372\n\\item[\\$testing\\_pos] 378\n\\item[\\$envios] 3568\n\\item[\\$aciertos] 218\n\\item[\\$ganancia\\_test] 51520000\n\\end{description}\n\n\\item \\begin{description}\n\\item[\\$semilla] 576013\n\\item[\\$testing] 49377\n\\item[\\$testing\\_pos] 376\n\\item[\\$envios] 3393\n\\item[\\$aciertos] 208\n\\item[\\$ganancia\\_test] 49270000\n\\end{description}\n\n\\item \\begin{description}\n\\item[\\$semilla] 657947\n\\item[\\$testing] 49377\n\\item[\\$testing\\_pos] 377\n\\item[\\$envios] 3712\n\\item[\\$aciertos] 217\n\\item[\\$ganancia\\_test] 49680000\n\\end{description}\n\n\\item \\begin{description}\n\\item[\\$semilla] 630193\n\\item[\\$testing] 49380\n\\item[\\$testing\\_pos] 371\n\\item[\\$envios] 3854\n\\item[\\$aciertos] 214\n\\item[\\$ganancia\\_test] 47060000\n\\end{description}\n\n\\item \\begin{description}\n\\item[\\$semilla] 531281\n\\item[\\$testing] 49377\n\\item[\\$testing\\_pos] 374\n\\item[\\$envios] 3785\n\\item[\\$aciertos] 210\n\\item[\\$ganancia\\_test] 46150000\n\\end{description}\n\n\\item \\begin{description}\n\\item[\\$semilla] 371561\n\\item[\\$testing] 49373\n\\item[\\$testing\\_pos] 375\n\\item[\\$envios] 3381\n\\item[\\$aciertos] 207\n\\item[\\$ganancia\\_test] 48990000\n\\end{description}\n\n\\item \\begin{description}\n\\item[\\$semilla] 726367\n\\item[\\$testing] 49383\n\\item[\\$testing\\_pos] 371\n\\item[\\$envios] 3887\n\\item[\\$aciertos] 218\n\\item[\\$ganancia\\_test] 48330000\n\\end{description}\n\n\\item \\begin{description}\n\\item[\\$semilla] 224129\n\\item[\\$testing] 49389\n\\item[\\$testing\\_pos] 376\n\\item[\\$envios] 3601\n\\item[\\$aciertos] 209\n\\item[\\$ganancia\\_test] 47590000\n\\end{description}\n\n\\item \\begin{description}\n\\item[\\$semilla] 584399\n\\item[\\$testing] 49381\n\\item[\\$testing\\_pos] 377\n\\item[\\$envios] 2464\n\\item[\\$aciertos] 184\n\\item[\\$ganancia\\_test] 48960000\n\\end{description}\n\n\\item \\begin{description}\n\\item[\\$semilla] 925961\n\\item[\\$testing] 49372\n\\item[\\$testing\\_pos] 368\n\\item[\\$envios] 3382\n\\item[\\$aciertos] 194\n\\item[\\$ganancia\\_test] 43780000\n\\end{description}\n\n\\item \\begin{description}\n\\item[\\$semilla] 732023\n\\item[\\$testing] 49385\n\\item[\\$testing\\_pos] 381\n\\item[\\$envios] 3745\n\\item[\\$aciertos] 223\n\\item[\\$ganancia\\_test] 51750000\n\\end{description}\n\n\\item \\begin{description}\n\\item[\\$semilla] 785803\n\\item[\\$testing] 49385\n\\item[\\$testing\\_pos] 377\n\\item[\\$envios] 3480\n\\item[\\$aciertos] 218\n\\item[\\$ganancia\\_test] 52400000\n\\end{description}\n\n\\item \\begin{description}\n\\item[\\$semilla] 395611\n\\item[\\$testing] 49395\n\\item[\\$testing\\_pos] 379\n\\item[\\$envios] 3808\n\\item[\\$aciertos] 198\n\\item[\\$ganancia\\_test] 41120000\n\\end{description}\n\n\\item \\begin{description}\n\\item[\\$semilla] 896009\n\\item[\\$testing] 49379\n\\item[\\$testing\\_pos] 372\n\\item[\\$envios] 3809\n\\item[\\$aciertos] 210\n\\item[\\$ganancia\\_test] 45910000\n\\end{description}\n\n\\item \\begin{description}\n\\item[\\$semilla] 526763\n\\item[\\$testing] 49378\n\\item[\\$testing\\_pos] 370\n\\item[\\$envios] 3245\n\\item[\\$aciertos] 189\n\\item[\\$ganancia\\_test] 43150000\n\\end{description}\n\n\\item \\begin{description}\n\\item[\\$semilla] 305329\n\\item[\\$testing] 49383\n\\item[\\$testing\\_pos] 376\n\\item[\\$envios] 3367\n\\item[\\$aciertos] 196\n\\item[\\$ganancia\\_test] 44730000\n\\end{description}\n\n\\item \\begin{description}\n\\item[\\$semilla] 702469\n\\item[\\$testing] 49374\n\\item[\\$testing\\_pos] 373\n\\item[\\$envios] 3141\n\\item[\\$aciertos] 184\n\\item[\\$ganancia\\_test] 42190000\n\\end{description}\n\n\\item \\begin{description}\n\\item[\\$semilla] 827213\n\\item[\\$testing] 49373\n\\item[\\$testing\\_pos] 374\n\\item[\\$envios] 3085\n\\item[\\$aciertos] 201\n\\item[\\$ganancia\\_test] 49550000\n\\end{description}\n\n\\item \\begin{description}\n\\item[\\$semilla] 754979\n\\item[\\$testing] 49362\n\\item[\\$testing\\_pos] 373\n\\item[\\$envios] 3386\n\\item[\\$aciertos] 206\n\\item[\\$ganancia\\_test] 48540000\n\\end{description}\n\n\\item \\begin{description}\n\\item[\\$semilla] 929057\n\\item[\\$testing] 49385\n\\item[\\$testing\\_pos] 374\n\\item[\\$envios] 2906\n\\item[\\$aciertos] 185\n\\item[\\$ganancia\\_test] 44940000\n\\end{description}\n\n\\item \\begin{description}\n\\item[\\$semilla] 400243\n\\item[\\$testing] 49377\n\\item[\\$testing\\_pos] 374\n\\item[\\$envios] 3286\n\\item[\\$aciertos] 209\n\\item[\\$ganancia\\_test] 50740000\n\\end{description}\n\n\\item \\begin{description}\n\\item[\\$semilla] 481133\n\\item[\\$testing] 49374\n\\item[\\$testing\\_pos] 376\n\\item[\\$envios] 3275\n\\item[\\$aciertos] 199\n\\item[\\$ganancia\\_test] 46850000\n\\end{description}\n\n\\item \\begin{description}\n\\item[\\$semilla] 629773\n\\item[\\$testing] 49383\n\\item[\\$testing\\_pos] 370\n\\item[\\$envios] 3197\n\\item[\\$aciertos] 201\n\\item[\\$ganancia\\_test] 48430000\n\\end{description}\n\n\\item \\begin{description}\n\\item[\\$semilla] 274811\n\\item[\\$testing] 49369\n\\item[\\$testing\\_pos] 375\n\\item[\\$envios] 3995\n\\item[\\$aciertos] 225\n\\item[\\$ganancia\\_test] 50050000\n\\end{description}\n\n\\item \\begin{description}\n\\item[\\$semilla] 474037\n\\item[\\$testing] 49381\n\\item[\\$testing\\_pos] 378\n\\item[\\$envios] 3909\n\\item[\\$aciertos] 214\n\\item[\\$ganancia\\_test] 46510000\n\\end{description}\n\n\\item \\begin{description}\n\\item[\\$semilla] 333719\n\\item[\\$testing] 49382\n\\item[\\$testing\\_pos] 376\n\\item[\\$envios] 3378\n\\item[\\$aciertos] 206\n\\item[\\$ganancia\\_test] 48620000\n\\end{description}\n\n\\item \\begin{description}\n\\item[\\$semilla] 653713\n\\item[\\$testing] 49385\n\\item[\\$testing\\_pos] 381\n\\item[\\$envios] 2948\n\\item[\\$aciertos] 206\n\\item[\\$ganancia\\_test] 52920000\n\\end{description}\n\n\\item \\begin{description}\n\\item[\\$semilla] 152767\n\\item[\\$testing] 49380\n\\item[\\$testing\\_pos] 382\n\\item[\\$envios] 3266\n\\item[\\$aciertos] 220\n\\item[\\$ganancia\\_test] 55340000\n\\end{description}\n\n\\item \\begin{description}\n\\item[\\$semilla] 156677\n\\item[\\$testing] 49366\n\\item[\\$testing\\_pos] 366\n\\item[\\$envios] 4158\n\\item[\\$aciertos] 217\n\\item[\\$ganancia\\_test] 45220000\n\\end{description}\n\n\\item \\begin{description}\n\\item[\\$semilla] 892861\n\\item[\\$testing] 49381\n\\item[\\$testing\\_pos] 370\n\\item[\\$envios] 3864\n\\item[\\$aciertos] 208\n\\item[\\$ganancia\\_test] 44560000\n\\end{description}\n\n\\item \\begin{description}\n\\item[\\$semilla] 727409\n\\item[\\$testing] 49378\n\\item[\\$testing\\_pos] 379\n\\item[\\$envios] 2871\n\\item[\\$aciertos] 192\n\\item[\\$ganancia\\_test] 48090000\n\\end{description}\n\n\\item \\begin{description}\n\\item[\\$semilla] 755329\n\\item[\\$testing] 49378\n\\item[\\$testing\\_pos] 368\n\\item[\\$envios] 3645\n\\item[\\$aciertos] 199\n\\item[\\$ganancia\\_test] 43150000\n\\end{description}\n\n\\item \\begin{description}\n\\item[\\$semilla] 123091\n\\item[\\$testing] 49387\n\\item[\\$testing\\_pos] 377\n\\item[\\$envios] 3700\n\\item[\\$aciertos] 219\n\\item[\\$ganancia\\_test] 50600000\n\\end{description}\n\n\\item \\begin{description}\n\\item[\\$semilla] 503159\n\\item[\\$testing] 49394\n\\item[\\$testing\\_pos] 382\n\\item[\\$envios] 3440\n\\item[\\$aciertos] 221\n\\item[\\$ganancia\\_test] 5.4e+07\n\\end{description}\n\n\\item \\begin{description}\n\\item[\\$semilla] 447353\n\\item[\\$testing] 49374\n\\item[\\$testing\\_pos] 373\n\\item[\\$envios] 4030\n\\item[\\$aciertos] 200\n\\item[\\$ganancia\\_test] 39700000\n\\end{description}\n\n\\item \\begin{description}\n\\item[\\$semilla] 548459\n\\item[\\$testing] 49371\n\\item[\\$testing\\_pos] 372\n\\item[\\$envios] 3489\n\\item[\\$aciertos] 215\n\\item[\\$ganancia\\_test] 51110000\n\\end{description}\n\n\\item \\begin{description}\n\\item[\\$semilla] 707573\n\\item[\\$testing] 49380\n\\item[\\$testing\\_pos] 376\n\\item[\\$envios] 3694\n\\item[\\$aciertos] 206\n\\item[\\$ganancia\\_test] 45460000\n\\end{description}\n\n\\item \\begin{description}\n\\item[\\$semilla] 442217\n\\item[\\$testing] 49389\n\\item[\\$testing\\_pos] 381\n\\item[\\$envios] 2909\n\\item[\\$aciertos] 197\n\\item[\\$ganancia\\_test] 49710000\n\\end{description}\n\n\\item \\begin{description}\n\\item[\\$semilla] 928399\n\\item[\\$testing] 49383\n\\item[\\$testing\\_pos] 376\n\\item[\\$envios] 4059\n\\item[\\$aciertos] 222\n\\item[\\$ganancia\\_test] 48210000\n\\end{description}\n\n\\item \\begin{description}\n\\item[\\$semilla] 787817\n\\item[\\$testing] 49386\n\\item[\\$testing\\_pos] 375\n\\item[\\$envios] 3484\n\\item[\\$aciertos] 204\n\\item[\\$ganancia\\_test] 46760000\n\\end{description}\n\n\\item \\begin{description}\n\\item[\\$semilla] 302563\n\\item[\\$testing] 49383\n\\item[\\$testing\\_pos] 371\n\\item[\\$envios] 3608\n\\item[\\$aciertos] 217\n\\item[\\$ganancia\\_test] 50720000\n\\end{description}\n\n\\item \\begin{description}\n\\item[\\$semilla] 251903\n\\item[\\$testing] 49378\n\\item[\\$testing\\_pos] 375\n\\item[\\$envios] 3561\n\\item[\\$aciertos] 206\n\\item[\\$ganancia\\_test] 46790000\n\\end{description}\n\n\\item \\begin{description}\n\\item[\\$semilla] 796307\n\\item[\\$testing] 49386\n\\item[\\$testing\\_pos] 374\n\\item[\\$envios] 3849\n\\item[\\$aciertos] 220\n\\item[\\$ganancia\\_test] 49510000\n\\end{description}\n\n\\item \\begin{description}\n\\item[\\$semilla] 622481\n\\item[\\$testing] 49382\n\\item[\\$testing\\_pos] 378\n\\item[\\$envios] 3523\n\\item[\\$aciertos] 205\n\\item[\\$ganancia\\_test] 46770000\n\\end{description}\n\n\\item \\begin{description}\n\\item[\\$semilla] 192553\n\\item[\\$testing] 49375\n\\item[\\$testing\\_pos] 376\n\\item[\\$envios] 3347\n\\item[\\$aciertos] 201\n\\item[\\$ganancia\\_test] 46930000\n\\end{description}\n\n\\item \\begin{description}\n\\item[\\$semilla] 428027\n\\item[\\$testing] 49387\n\\item[\\$testing\\_pos] 377\n\\item[\\$envios] 3461\n\\item[\\$aciertos] 206\n\\item[\\$ganancia\\_test] 47790000\n\\end{description}\n\n\\item \\begin{description}\n\\item[\\$semilla] 230339\n\\item[\\$testing] 49379\n\\item[\\$testing\\_pos] 374\n\\item[\\$envios] 2386\n\\item[\\$aciertos] 176\n\\item[\\$ganancia\\_test] 46540000\n\\end{description}\n\n\\item \\begin{description}\n\\item[\\$semilla] 555683\n\\item[\\$testing] 49381\n\\item[\\$testing\\_pos] 372\n\\item[\\$envios] 4067\n\\item[\\$aciertos] 226\n\\item[\\$ganancia\\_test] 49730000\n\\end{description}\n\n\\item \\begin{description}\n\\item[\\$semilla] 501001\n\\item[\\$testing] 49368\n\\item[\\$testing\\_pos] 374\n\\item[\\$envios] 3624\n\\item[\\$aciertos] 202\n\\item[\\$ganancia\\_test] 44560000\n\\end{description}\n\n\\item \\begin{description}\n\\item[\\$semilla] 689879\n\\item[\\$testing] 49375\n\\item[\\$testing\\_pos] 372\n\\item[\\$envios] 3908\n\\item[\\$aciertos] 217\n\\item[\\$ganancia\\_test] 47720000\n\\end{description}\n\n\\item \\begin{description}\n\\item[\\$semilla] 810973\n\\item[\\$testing] 49383\n\\item[\\$testing\\_pos] 379\n\\item[\\$envios] 3473\n\\item[\\$aciertos] 216\n\\item[\\$ganancia\\_test] 51670000\n\\end{description}\n\n\\item \\begin{description}\n\\item[\\$semilla] 122323\n\\item[\\$testing] 49370\n\\item[\\$testing\\_pos] 371\n\\item[\\$envios] 2970\n\\item[\\$aciertos] 193\n\\item[\\$ganancia\\_test] 47500000\n\\end{description}\n\n\\item \\begin{description}\n\\item[\\$semilla] 478679\n\\item[\\$testing] 49393\n\\item[\\$testing\\_pos] 379\n\\item[\\$envios] 4005\n\\item[\\$aciertos] 234\n\\item[\\$ganancia\\_test] 53550000\n\\end{description}\n\n\\item \\begin{description}\n\\item[\\$semilla] 502001\n\\item[\\$testing] 49384\n\\item[\\$testing\\_pos] 375\n\\item[\\$envios] 2850\n\\item[\\$aciertos] 195\n\\item[\\$ganancia\\_test] 49500000\n\\end{description}\n\n\\item \\begin{description}\n\\item[\\$semilla] 986903\n\\item[\\$testing] 49375\n\\item[\\$testing\\_pos] 374\n\\item[\\$envios] 4222\n\\item[\\$aciertos] 234\n\\item[\\$ganancia\\_test] 51380000\n\\end{description}\n\n\\item \\begin{description}\n\\item[\\$semilla] 787051\n\\item[\\$testing] 49381\n\\item[\\$testing\\_pos] 373\n\\item[\\$envios] 3230\n\\item[\\$aciertos] 201\n\\item[\\$ganancia\\_test] 48100000\n\\end{description}\n\n\\item \\begin{description}\n\\item[\\$semilla] 418637\n\\item[\\$testing] 49374\n\\item[\\$testing\\_pos] 372\n\\item[\\$envios] 3972\n\\item[\\$aciertos] 223\n\\item[\\$ganancia\\_test] 49480000\n\\end{description}\n\n\\item \\begin{description}\n\\item[\\$semilla] 601687\n\\item[\\$testing] 49379\n\\item[\\$testing\\_pos] 373\n\\item[\\$envios] 3615\n\\item[\\$aciertos] 207\n\\item[\\$ganancia\\_test] 46650000\n\\end{description}\n\n\\item \\begin{description}\n\\item[\\$semilla] 160723\n\\item[\\$testing] 49380\n\\item[\\$testing\\_pos] 376\n\\item[\\$envios] 3875\n\\item[\\$aciertos] 209\n\\item[\\$ganancia\\_test] 44850000\n\\end{description}\n\n\\item \\begin{description}\n\\item[\\$semilla] 346543\n\\item[\\$testing] 49376\n\\item[\\$testing\\_pos] 379\n\\item[\\$envios] 3620\n\\item[\\$aciertos] 229\n\\item[\\$ganancia\\_test] 55400000\n\\end{description}\n\n\\item \\begin{description}\n\\item[\\$semilla] 448607\n\\item[\\$testing] 49382\n\\item[\\$testing\\_pos] 373\n\\item[\\$envios] 3066\n\\item[\\$aciertos] 192\n\\item[\\$ganancia\\_test] 46140000\n\\end{description}\n\n\\item \\begin{description}\n\\item[\\$semilla] 300757\n\\item[\\$testing] 49379\n\\item[\\$testing\\_pos] 372\n\\item[\\$envios] 4570\n\\item[\\$aciertos] 212\n\\item[\\$ganancia\\_test] 39100000\n\\end{description}\n\n\\item \\begin{description}\n\\item[\\$semilla] 374291\n\\item[\\$testing] 49378\n\\item[\\$testing\\_pos] 370\n\\item[\\$envios] 3764\n\\item[\\$aciertos] 203\n\\item[\\$ganancia\\_test] 43560000\n\\end{description}\n\n\\item \\begin{description}\n\\item[\\$semilla] 340007\n\\item[\\$testing] 49366\n\\item[\\$testing\\_pos] 365\n\\item[\\$envios] 3086\n\\item[\\$aciertos] 195\n\\item[\\$ganancia\\_test] 47140000\n\\end{description}\n\n\\item \\begin{description}\n\\item[\\$semilla] 101701\n\\item[\\$testing] 49374\n\\item[\\$testing\\_pos] 376\n\\item[\\$envios] 3496\n\\item[\\$aciertos] 214\n\\item[\\$ganancia\\_test] 50640000\n\\end{description}\n\n\\item \\begin{description}\n\\item[\\$semilla] 665503\n\\item[\\$testing] 49384\n\\item[\\$testing\\_pos] 374\n\\item[\\$envios] 3669\n\\item[\\$aciertos] 202\n\\item[\\$ganancia\\_test] 44110000\n\\end{description}\n\n\\item \\begin{description}\n\\item[\\$semilla] 401957\n\\item[\\$testing] 49364\n\\item[\\$testing\\_pos] 370\n\\item[\\$envios] 3458\n\\item[\\$aciertos] 213\n\\item[\\$ganancia\\_test] 50620000\n\\end{description}\n\n\\item \\begin{description}\n\\item[\\$semilla] 851813\n\\item[\\$testing] 49370\n\\item[\\$testing\\_pos] 368\n\\item[\\$envios] 3008\n\\item[\\$aciertos] 195\n\\item[\\$ganancia\\_test] 47920000\n\\end{description}\n\n\\item \\begin{description}\n\\item[\\$semilla] 209639\n\\item[\\$testing] 49373\n\\item[\\$testing\\_pos] 372\n\\item[\\$envios] 3729\n\\item[\\$aciertos] 220\n\\item[\\$ganancia\\_test] 50710000\n\\end{description}\n\n\\item \\begin{description}\n\\item[\\$semilla] 197647\n\\item[\\$testing] 49371\n\\item[\\$testing\\_pos] 370\n\\item[\\$envios] 2661\n\\item[\\$aciertos] 195\n\\item[\\$ganancia\\_test] 51390000\n\\end{description}\n\n\\item \\begin{description}\n\\item[\\$semilla] 635731\n\\item[\\$testing] 49373\n\\item[\\$testing\\_pos] 376\n\\item[\\$envios] 3413\n\\item[\\$aciertos] 212\n\\item[\\$ganancia\\_test] 50670000\n\\end{description}\n\n\\item \\begin{description}\n\\item[\\$semilla] 199721\n\\item[\\$testing] 49380\n\\item[\\$testing\\_pos] 376\n\\item[\\$envios] 3412\n\\item[\\$aciertos] 200\n\\item[\\$ganancia\\_test] 45880000\n\\end{description}\n\n\\item \\begin{description}\n\\item[\\$semilla] 248401\n\\item[\\$testing] 49382\n\\item[\\$testing\\_pos] 375\n\\item[\\$envios] 3510\n\\item[\\$aciertos] 208\n\\item[\\$ganancia\\_test] 48100000\n\\end{description}\n\n\\item \\begin{description}\n\\item[\\$semilla] 229739\n\\item[\\$testing] 49377\n\\item[\\$testing\\_pos] 369\n\\item[\\$envios] 3167\n\\item[\\$aciertos] 199\n\\item[\\$ganancia\\_test] 47930000\n\\end{description}\n\n\\item \\begin{description}\n\\item[\\$semilla] 705871\n\\item[\\$testing] 49391\n\\item[\\$testing\\_pos] 378\n\\item[\\$envios] 4097\n\\item[\\$aciertos] 234\n\\item[\\$ganancia\\_test] 52630000\n\\end{description}\n\n\\item \\begin{description}\n\\item[\\$semilla] 284111\n\\item[\\$testing] 49371\n\\item[\\$testing\\_pos] 368\n\\item[\\$envios] 3592\n\\item[\\$aciertos] 194\n\\item[\\$ganancia\\_test] 41680000\n\\end{description}\n\n\\item \\begin{description}\n\\item[\\$semilla] 649787\n\\item[\\$testing] 49377\n\\item[\\$testing\\_pos] 367\n\\item[\\$envios] 2843\n\\item[\\$aciertos] 187\n\\item[\\$ganancia\\_test] 46370000\n\\end{description}\n\n\\item \\begin{description}\n\\item[\\$semilla] 848251\n\\item[\\$testing] 49384\n\\item[\\$testing\\_pos] 374\n\\item[\\$envios] 3666\n\\item[\\$aciertos] 210\n\\item[\\$ganancia\\_test] 47340000\n\\end{description}\n\n\\item \\begin{description}\n\\item[\\$semilla] 924059\n\\item[\\$testing] 49397\n\\item[\\$testing\\_pos] 378\n\\item[\\$envios] 3503\n\\item[\\$aciertos] 217\n\\item[\\$ganancia\\_test] 51770000\n\\end{description}\n\n\\item \\begin{description}\n\\item[\\$semilla] 341491\n\\item[\\$testing] 49380\n\\item[\\$testing\\_pos] 369\n\\item[\\$envios] 3231\n\\item[\\$aciertos] 186\n\\item[\\$ganancia\\_test] 42090000\n\\end{description}\n\n\\item \\begin{description}\n\\item[\\$semilla] 675319\n\\item[\\$testing] 49377\n\\item[\\$testing\\_pos] 373\n\\item[\\$envios] 3051\n\\item[\\$aciertos] 185\n\\item[\\$ganancia\\_test] 43490000\n\\end{description}\n\n\\end{enumerate}\n",
            "text/plain": [
              "[[1]]\n",
              "[[1]]$semilla\n",
              "[1] 872609\n",
              "\n",
              "[[1]]$testing\n",
              "[1] 49376\n",
              "\n",
              "[[1]]$testing_pos\n",
              "[1] 369\n",
              "\n",
              "[[1]]$envios\n",
              "[1] 4341\n",
              "\n",
              "[[1]]$aciertos\n",
              "[1] 234\n",
              "\n",
              "[[1]]$ganancia_test\n",
              "[1] 50190000\n",
              "\n",
              "\n",
              "[[2]]\n",
              "[[2]]$semilla\n",
              "[1] 219881\n",
              "\n",
              "[[2]]$testing\n",
              "[1] 49381\n",
              "\n",
              "[[2]]$testing_pos\n",
              "[1] 379\n",
              "\n",
              "[[2]]$envios\n",
              "[1] 3210\n",
              "\n",
              "[[2]]$aciertos\n",
              "[1] 212\n",
              "\n",
              "[[2]]$ganancia_test\n",
              "[1] 52700000\n",
              "\n",
              "\n",
              "[[3]]\n",
              "[[3]]$semilla\n",
              "[1] 538001\n",
              "\n",
              "[[3]]$testing\n",
              "[1] 49373\n",
              "\n",
              "[[3]]$testing_pos\n",
              "[1] 373\n",
              "\n",
              "[[3]]$envios\n",
              "[1] 3208\n",
              "\n",
              "[[3]]$aciertos\n",
              "[1] 194\n",
              "\n",
              "[[3]]$ganancia_test\n",
              "[1] 45520000\n",
              "\n",
              "\n",
              "[[4]]\n",
              "[[4]]$semilla\n",
              "[1] 804191\n",
              "\n",
              "[[4]]$testing\n",
              "[1] 49380\n",
              "\n",
              "[[4]]$testing_pos\n",
              "[1] 374\n",
              "\n",
              "[[4]]$envios\n",
              "[1] 4016\n",
              "\n",
              "[[4]]$aciertos\n",
              "[1] 222\n",
              "\n",
              "[[4]]$ganancia_test\n",
              "[1] 48640000\n",
              "\n",
              "\n",
              "[[5]]\n",
              "[[5]]$semilla\n",
              "[1] 497279\n",
              "\n",
              "[[5]]$testing\n",
              "[1] 49364\n",
              "\n",
              "[[5]]$testing_pos\n",
              "[1] 371\n",
              "\n",
              "[[5]]$envios\n",
              "[1] 2386\n",
              "\n",
              "[[5]]$aciertos\n",
              "[1] 188\n",
              "\n",
              "[[5]]$ganancia_test\n",
              "[1] 51340000\n",
              "\n",
              "\n",
              "[[6]]\n",
              "[[6]]$semilla\n",
              "[1] 176129\n",
              "\n",
              "[[6]]$testing\n",
              "[1] 49383\n",
              "\n",
              "[[6]]$testing_pos\n",
              "[1] 375\n",
              "\n",
              "[[6]]$envios\n",
              "[1] 3427\n",
              "\n",
              "[[6]]$aciertos\n",
              "[1] 215\n",
              "\n",
              "[[6]]$ganancia_test\n",
              "[1] 51730000\n",
              "\n",
              "\n",
              "[[7]]\n",
              "[[7]]$semilla\n",
              "[1] 765991\n",
              "\n",
              "[[7]]$testing\n",
              "[1] 49375\n",
              "\n",
              "[[7]]$testing_pos\n",
              "[1] 373\n",
              "\n",
              "[[7]]$envios\n",
              "[1] 3140\n",
              "\n",
              "[[7]]$aciertos\n",
              "[1] 197\n",
              "\n",
              "[[7]]$ganancia_test\n",
              "[1] 47400000\n",
              "\n",
              "\n",
              "[[8]]\n",
              "[[8]]$semilla\n",
              "[1] 667673\n",
              "\n",
              "[[8]]$testing\n",
              "[1] 49390\n",
              "\n",
              "[[8]]$testing_pos\n",
              "[1] 378\n",
              "\n",
              "[[8]]$envios\n",
              "[1] 3331\n",
              "\n",
              "[[8]]$aciertos\n",
              "[1] 201\n",
              "\n",
              "[[8]]$ganancia_test\n",
              "[1] 47090000\n",
              "\n",
              "\n",
              "[[9]]\n",
              "[[9]]$semilla\n",
              "[1] 583409\n",
              "\n",
              "[[9]]$testing\n",
              "[1] 49378\n",
              "\n",
              "[[9]]$testing_pos\n",
              "[1] 372\n",
              "\n",
              "[[9]]$envios\n",
              "[1] 3610\n",
              "\n",
              "[[9]]$aciertos\n",
              "[1] 212\n",
              "\n",
              "[[9]]$ganancia_test\n",
              "[1] 48700000\n",
              "\n",
              "\n",
              "[[10]]\n",
              "[[10]]$semilla\n",
              "[1] 104537\n",
              "\n",
              "[[10]]$testing\n",
              "[1] 49388\n",
              "\n",
              "[[10]]$testing_pos\n",
              "[1] 375\n",
              "\n",
              "[[10]]$envios\n",
              "[1] 3683\n",
              "\n",
              "[[10]]$aciertos\n",
              "[1] 229\n",
              "\n",
              "[[10]]$ganancia_test\n",
              "[1] 54770000\n",
              "\n",
              "\n",
              "[[11]]\n",
              "[[11]]$semilla\n",
              "[1] 677119\n",
              "\n",
              "[[11]]$testing\n",
              "[1] 49374\n",
              "\n",
              "[[11]]$testing_pos\n",
              "[1] 374\n",
              "\n",
              "[[11]]$envios\n",
              "[1] 3411\n",
              "\n",
              "[[11]]$aciertos\n",
              "[1] 204\n",
              "\n",
              "[[11]]$ganancia_test\n",
              "[1] 47490000\n",
              "\n",
              "\n",
              "[[12]]\n",
              "[[12]]$semilla\n",
              "[1] 610843\n",
              "\n",
              "[[12]]$testing\n",
              "[1] 49367\n",
              "\n",
              "[[12]]$testing_pos\n",
              "[1] 376\n",
              "\n",
              "[[12]]$envios\n",
              "[1] 3553\n",
              "\n",
              "[[12]]$aciertos\n",
              "[1] 211\n",
              "\n",
              "[[12]]$ganancia_test\n",
              "[1] 48870000\n",
              "\n",
              "\n",
              "[[13]]\n",
              "[[13]]$semilla\n",
              "[1] 822839\n",
              "\n",
              "[[13]]$testing\n",
              "[1] 49374\n",
              "\n",
              "[[13]]$testing_pos\n",
              "[1] 377\n",
              "\n",
              "[[13]]$envios\n",
              "[1] 2955\n",
              "\n",
              "[[13]]$aciertos\n",
              "[1] 210\n",
              "\n",
              "[[13]]$ganancia_test\n",
              "[1] 54450000\n",
              "\n",
              "\n",
              "[[14]]\n",
              "[[14]]$semilla\n",
              "[1] 375923\n",
              "\n",
              "[[14]]$testing\n",
              "[1] 49376\n",
              "\n",
              "[[14]]$testing_pos\n",
              "[1] 371\n",
              "\n",
              "[[14]]$envios\n",
              "[1] 3811\n",
              "\n",
              "[[14]]$aciertos\n",
              "[1] 195\n",
              "\n",
              "[[14]]$ganancia_test\n",
              "[1] 39890000\n",
              "\n",
              "\n",
              "[[15]]\n",
              "[[15]]$semilla\n",
              "[1] 149771\n",
              "\n",
              "[[15]]$testing\n",
              "[1] 49389\n",
              "\n",
              "[[15]]$testing_pos\n",
              "[1] 373\n",
              "\n",
              "[[15]]$envios\n",
              "[1] 3733\n",
              "\n",
              "[[15]]$aciertos\n",
              "[1] 210\n",
              "\n",
              "[[15]]$ganancia_test\n",
              "[1] 46670000\n",
              "\n",
              "\n",
              "[[16]]\n",
              "[[16]]$semilla\n",
              "[1] 985403\n",
              "\n",
              "[[16]]$testing\n",
              "[1] 49385\n",
              "\n",
              "[[16]]$testing_pos\n",
              "[1] 381\n",
              "\n",
              "[[16]]$envios\n",
              "[1] 3161\n",
              "\n",
              "[[16]]$aciertos\n",
              "[1] 206\n",
              "\n",
              "[[16]]$ganancia_test\n",
              "[1] 50790000\n",
              "\n",
              "\n",
              "[[17]]\n",
              "[[17]]$semilla\n",
              "[1] 893933\n",
              "\n",
              "[[17]]$testing\n",
              "[1] 49371\n",
              "\n",
              "[[17]]$testing_pos\n",
              "[1] 375\n",
              "\n",
              "[[17]]$envios\n",
              "[1] 3256\n",
              "\n",
              "[[17]]$aciertos\n",
              "[1] 222\n",
              "\n",
              "[[17]]$ganancia_test\n",
              "[1] 56240000\n",
              "\n",
              "\n",
              "[[18]]\n",
              "[[18]]$semilla\n",
              "[1] 861937\n",
              "\n",
              "[[18]]$testing\n",
              "[1] 49378\n",
              "\n",
              "[[18]]$testing_pos\n",
              "[1] 371\n",
              "\n",
              "[[18]]$envios\n",
              "[1] 4052\n",
              "\n",
              "[[18]]$aciertos\n",
              "[1] 230\n",
              "\n",
              "[[18]]$ganancia_test\n",
              "[1] 51480000\n",
              "\n",
              "\n",
              "[[19]]\n",
              "[[19]]$semilla\n",
              "[1] 146009\n",
              "\n",
              "[[19]]$testing\n",
              "[1] 49374\n",
              "\n",
              "[[19]]$testing_pos\n",
              "[1] 374\n",
              "\n",
              "[[19]]$envios\n",
              "[1] 3458\n",
              "\n",
              "[[19]]$aciertos\n",
              "[1] 219\n",
              "\n",
              "[[19]]$ganancia_test\n",
              "[1] 53020000\n",
              "\n",
              "\n",
              "[[20]]\n",
              "[[20]]$semilla\n",
              "[1] 867371\n",
              "\n",
              "[[20]]$testing\n",
              "[1] 49372\n",
              "\n",
              "[[20]]$testing_pos\n",
              "[1] 378\n",
              "\n",
              "[[20]]$envios\n",
              "[1] 3568\n",
              "\n",
              "[[20]]$aciertos\n",
              "[1] 218\n",
              "\n",
              "[[20]]$ganancia_test\n",
              "[1] 51520000\n",
              "\n",
              "\n",
              "[[21]]\n",
              "[[21]]$semilla\n",
              "[1] 576013\n",
              "\n",
              "[[21]]$testing\n",
              "[1] 49377\n",
              "\n",
              "[[21]]$testing_pos\n",
              "[1] 376\n",
              "\n",
              "[[21]]$envios\n",
              "[1] 3393\n",
              "\n",
              "[[21]]$aciertos\n",
              "[1] 208\n",
              "\n",
              "[[21]]$ganancia_test\n",
              "[1] 49270000\n",
              "\n",
              "\n",
              "[[22]]\n",
              "[[22]]$semilla\n",
              "[1] 657947\n",
              "\n",
              "[[22]]$testing\n",
              "[1] 49377\n",
              "\n",
              "[[22]]$testing_pos\n",
              "[1] 377\n",
              "\n",
              "[[22]]$envios\n",
              "[1] 3712\n",
              "\n",
              "[[22]]$aciertos\n",
              "[1] 217\n",
              "\n",
              "[[22]]$ganancia_test\n",
              "[1] 49680000\n",
              "\n",
              "\n",
              "[[23]]\n",
              "[[23]]$semilla\n",
              "[1] 630193\n",
              "\n",
              "[[23]]$testing\n",
              "[1] 49380\n",
              "\n",
              "[[23]]$testing_pos\n",
              "[1] 371\n",
              "\n",
              "[[23]]$envios\n",
              "[1] 3854\n",
              "\n",
              "[[23]]$aciertos\n",
              "[1] 214\n",
              "\n",
              "[[23]]$ganancia_test\n",
              "[1] 47060000\n",
              "\n",
              "\n",
              "[[24]]\n",
              "[[24]]$semilla\n",
              "[1] 531281\n",
              "\n",
              "[[24]]$testing\n",
              "[1] 49377\n",
              "\n",
              "[[24]]$testing_pos\n",
              "[1] 374\n",
              "\n",
              "[[24]]$envios\n",
              "[1] 3785\n",
              "\n",
              "[[24]]$aciertos\n",
              "[1] 210\n",
              "\n",
              "[[24]]$ganancia_test\n",
              "[1] 46150000\n",
              "\n",
              "\n",
              "[[25]]\n",
              "[[25]]$semilla\n",
              "[1] 371561\n",
              "\n",
              "[[25]]$testing\n",
              "[1] 49373\n",
              "\n",
              "[[25]]$testing_pos\n",
              "[1] 375\n",
              "\n",
              "[[25]]$envios\n",
              "[1] 3381\n",
              "\n",
              "[[25]]$aciertos\n",
              "[1] 207\n",
              "\n",
              "[[25]]$ganancia_test\n",
              "[1] 48990000\n",
              "\n",
              "\n",
              "[[26]]\n",
              "[[26]]$semilla\n",
              "[1] 726367\n",
              "\n",
              "[[26]]$testing\n",
              "[1] 49383\n",
              "\n",
              "[[26]]$testing_pos\n",
              "[1] 371\n",
              "\n",
              "[[26]]$envios\n",
              "[1] 3887\n",
              "\n",
              "[[26]]$aciertos\n",
              "[1] 218\n",
              "\n",
              "[[26]]$ganancia_test\n",
              "[1] 48330000\n",
              "\n",
              "\n",
              "[[27]]\n",
              "[[27]]$semilla\n",
              "[1] 224129\n",
              "\n",
              "[[27]]$testing\n",
              "[1] 49389\n",
              "\n",
              "[[27]]$testing_pos\n",
              "[1] 376\n",
              "\n",
              "[[27]]$envios\n",
              "[1] 3601\n",
              "\n",
              "[[27]]$aciertos\n",
              "[1] 209\n",
              "\n",
              "[[27]]$ganancia_test\n",
              "[1] 47590000\n",
              "\n",
              "\n",
              "[[28]]\n",
              "[[28]]$semilla\n",
              "[1] 584399\n",
              "\n",
              "[[28]]$testing\n",
              "[1] 49381\n",
              "\n",
              "[[28]]$testing_pos\n",
              "[1] 377\n",
              "\n",
              "[[28]]$envios\n",
              "[1] 2464\n",
              "\n",
              "[[28]]$aciertos\n",
              "[1] 184\n",
              "\n",
              "[[28]]$ganancia_test\n",
              "[1] 48960000\n",
              "\n",
              "\n",
              "[[29]]\n",
              "[[29]]$semilla\n",
              "[1] 925961\n",
              "\n",
              "[[29]]$testing\n",
              "[1] 49372\n",
              "\n",
              "[[29]]$testing_pos\n",
              "[1] 368\n",
              "\n",
              "[[29]]$envios\n",
              "[1] 3382\n",
              "\n",
              "[[29]]$aciertos\n",
              "[1] 194\n",
              "\n",
              "[[29]]$ganancia_test\n",
              "[1] 43780000\n",
              "\n",
              "\n",
              "[[30]]\n",
              "[[30]]$semilla\n",
              "[1] 732023\n",
              "\n",
              "[[30]]$testing\n",
              "[1] 49385\n",
              "\n",
              "[[30]]$testing_pos\n",
              "[1] 381\n",
              "\n",
              "[[30]]$envios\n",
              "[1] 3745\n",
              "\n",
              "[[30]]$aciertos\n",
              "[1] 223\n",
              "\n",
              "[[30]]$ganancia_test\n",
              "[1] 51750000\n",
              "\n",
              "\n",
              "[[31]]\n",
              "[[31]]$semilla\n",
              "[1] 785803\n",
              "\n",
              "[[31]]$testing\n",
              "[1] 49385\n",
              "\n",
              "[[31]]$testing_pos\n",
              "[1] 377\n",
              "\n",
              "[[31]]$envios\n",
              "[1] 3480\n",
              "\n",
              "[[31]]$aciertos\n",
              "[1] 218\n",
              "\n",
              "[[31]]$ganancia_test\n",
              "[1] 52400000\n",
              "\n",
              "\n",
              "[[32]]\n",
              "[[32]]$semilla\n",
              "[1] 395611\n",
              "\n",
              "[[32]]$testing\n",
              "[1] 49395\n",
              "\n",
              "[[32]]$testing_pos\n",
              "[1] 379\n",
              "\n",
              "[[32]]$envios\n",
              "[1] 3808\n",
              "\n",
              "[[32]]$aciertos\n",
              "[1] 198\n",
              "\n",
              "[[32]]$ganancia_test\n",
              "[1] 41120000\n",
              "\n",
              "\n",
              "[[33]]\n",
              "[[33]]$semilla\n",
              "[1] 896009\n",
              "\n",
              "[[33]]$testing\n",
              "[1] 49379\n",
              "\n",
              "[[33]]$testing_pos\n",
              "[1] 372\n",
              "\n",
              "[[33]]$envios\n",
              "[1] 3809\n",
              "\n",
              "[[33]]$aciertos\n",
              "[1] 210\n",
              "\n",
              "[[33]]$ganancia_test\n",
              "[1] 45910000\n",
              "\n",
              "\n",
              "[[34]]\n",
              "[[34]]$semilla\n",
              "[1] 526763\n",
              "\n",
              "[[34]]$testing\n",
              "[1] 49378\n",
              "\n",
              "[[34]]$testing_pos\n",
              "[1] 370\n",
              "\n",
              "[[34]]$envios\n",
              "[1] 3245\n",
              "\n",
              "[[34]]$aciertos\n",
              "[1] 189\n",
              "\n",
              "[[34]]$ganancia_test\n",
              "[1] 43150000\n",
              "\n",
              "\n",
              "[[35]]\n",
              "[[35]]$semilla\n",
              "[1] 305329\n",
              "\n",
              "[[35]]$testing\n",
              "[1] 49383\n",
              "\n",
              "[[35]]$testing_pos\n",
              "[1] 376\n",
              "\n",
              "[[35]]$envios\n",
              "[1] 3367\n",
              "\n",
              "[[35]]$aciertos\n",
              "[1] 196\n",
              "\n",
              "[[35]]$ganancia_test\n",
              "[1] 44730000\n",
              "\n",
              "\n",
              "[[36]]\n",
              "[[36]]$semilla\n",
              "[1] 702469\n",
              "\n",
              "[[36]]$testing\n",
              "[1] 49374\n",
              "\n",
              "[[36]]$testing_pos\n",
              "[1] 373\n",
              "\n",
              "[[36]]$envios\n",
              "[1] 3141\n",
              "\n",
              "[[36]]$aciertos\n",
              "[1] 184\n",
              "\n",
              "[[36]]$ganancia_test\n",
              "[1] 42190000\n",
              "\n",
              "\n",
              "[[37]]\n",
              "[[37]]$semilla\n",
              "[1] 827213\n",
              "\n",
              "[[37]]$testing\n",
              "[1] 49373\n",
              "\n",
              "[[37]]$testing_pos\n",
              "[1] 374\n",
              "\n",
              "[[37]]$envios\n",
              "[1] 3085\n",
              "\n",
              "[[37]]$aciertos\n",
              "[1] 201\n",
              "\n",
              "[[37]]$ganancia_test\n",
              "[1] 49550000\n",
              "\n",
              "\n",
              "[[38]]\n",
              "[[38]]$semilla\n",
              "[1] 754979\n",
              "\n",
              "[[38]]$testing\n",
              "[1] 49362\n",
              "\n",
              "[[38]]$testing_pos\n",
              "[1] 373\n",
              "\n",
              "[[38]]$envios\n",
              "[1] 3386\n",
              "\n",
              "[[38]]$aciertos\n",
              "[1] 206\n",
              "\n",
              "[[38]]$ganancia_test\n",
              "[1] 48540000\n",
              "\n",
              "\n",
              "[[39]]\n",
              "[[39]]$semilla\n",
              "[1] 929057\n",
              "\n",
              "[[39]]$testing\n",
              "[1] 49385\n",
              "\n",
              "[[39]]$testing_pos\n",
              "[1] 374\n",
              "\n",
              "[[39]]$envios\n",
              "[1] 2906\n",
              "\n",
              "[[39]]$aciertos\n",
              "[1] 185\n",
              "\n",
              "[[39]]$ganancia_test\n",
              "[1] 44940000\n",
              "\n",
              "\n",
              "[[40]]\n",
              "[[40]]$semilla\n",
              "[1] 400243\n",
              "\n",
              "[[40]]$testing\n",
              "[1] 49377\n",
              "\n",
              "[[40]]$testing_pos\n",
              "[1] 374\n",
              "\n",
              "[[40]]$envios\n",
              "[1] 3286\n",
              "\n",
              "[[40]]$aciertos\n",
              "[1] 209\n",
              "\n",
              "[[40]]$ganancia_test\n",
              "[1] 50740000\n",
              "\n",
              "\n",
              "[[41]]\n",
              "[[41]]$semilla\n",
              "[1] 481133\n",
              "\n",
              "[[41]]$testing\n",
              "[1] 49374\n",
              "\n",
              "[[41]]$testing_pos\n",
              "[1] 376\n",
              "\n",
              "[[41]]$envios\n",
              "[1] 3275\n",
              "\n",
              "[[41]]$aciertos\n",
              "[1] 199\n",
              "\n",
              "[[41]]$ganancia_test\n",
              "[1] 46850000\n",
              "\n",
              "\n",
              "[[42]]\n",
              "[[42]]$semilla\n",
              "[1] 629773\n",
              "\n",
              "[[42]]$testing\n",
              "[1] 49383\n",
              "\n",
              "[[42]]$testing_pos\n",
              "[1] 370\n",
              "\n",
              "[[42]]$envios\n",
              "[1] 3197\n",
              "\n",
              "[[42]]$aciertos\n",
              "[1] 201\n",
              "\n",
              "[[42]]$ganancia_test\n",
              "[1] 48430000\n",
              "\n",
              "\n",
              "[[43]]\n",
              "[[43]]$semilla\n",
              "[1] 274811\n",
              "\n",
              "[[43]]$testing\n",
              "[1] 49369\n",
              "\n",
              "[[43]]$testing_pos\n",
              "[1] 375\n",
              "\n",
              "[[43]]$envios\n",
              "[1] 3995\n",
              "\n",
              "[[43]]$aciertos\n",
              "[1] 225\n",
              "\n",
              "[[43]]$ganancia_test\n",
              "[1] 50050000\n",
              "\n",
              "\n",
              "[[44]]\n",
              "[[44]]$semilla\n",
              "[1] 474037\n",
              "\n",
              "[[44]]$testing\n",
              "[1] 49381\n",
              "\n",
              "[[44]]$testing_pos\n",
              "[1] 378\n",
              "\n",
              "[[44]]$envios\n",
              "[1] 3909\n",
              "\n",
              "[[44]]$aciertos\n",
              "[1] 214\n",
              "\n",
              "[[44]]$ganancia_test\n",
              "[1] 46510000\n",
              "\n",
              "\n",
              "[[45]]\n",
              "[[45]]$semilla\n",
              "[1] 333719\n",
              "\n",
              "[[45]]$testing\n",
              "[1] 49382\n",
              "\n",
              "[[45]]$testing_pos\n",
              "[1] 376\n",
              "\n",
              "[[45]]$envios\n",
              "[1] 3378\n",
              "\n",
              "[[45]]$aciertos\n",
              "[1] 206\n",
              "\n",
              "[[45]]$ganancia_test\n",
              "[1] 48620000\n",
              "\n",
              "\n",
              "[[46]]\n",
              "[[46]]$semilla\n",
              "[1] 653713\n",
              "\n",
              "[[46]]$testing\n",
              "[1] 49385\n",
              "\n",
              "[[46]]$testing_pos\n",
              "[1] 381\n",
              "\n",
              "[[46]]$envios\n",
              "[1] 2948\n",
              "\n",
              "[[46]]$aciertos\n",
              "[1] 206\n",
              "\n",
              "[[46]]$ganancia_test\n",
              "[1] 52920000\n",
              "\n",
              "\n",
              "[[47]]\n",
              "[[47]]$semilla\n",
              "[1] 152767\n",
              "\n",
              "[[47]]$testing\n",
              "[1] 49380\n",
              "\n",
              "[[47]]$testing_pos\n",
              "[1] 382\n",
              "\n",
              "[[47]]$envios\n",
              "[1] 3266\n",
              "\n",
              "[[47]]$aciertos\n",
              "[1] 220\n",
              "\n",
              "[[47]]$ganancia_test\n",
              "[1] 55340000\n",
              "\n",
              "\n",
              "[[48]]\n",
              "[[48]]$semilla\n",
              "[1] 156677\n",
              "\n",
              "[[48]]$testing\n",
              "[1] 49366\n",
              "\n",
              "[[48]]$testing_pos\n",
              "[1] 366\n",
              "\n",
              "[[48]]$envios\n",
              "[1] 4158\n",
              "\n",
              "[[48]]$aciertos\n",
              "[1] 217\n",
              "\n",
              "[[48]]$ganancia_test\n",
              "[1] 45220000\n",
              "\n",
              "\n",
              "[[49]]\n",
              "[[49]]$semilla\n",
              "[1] 892861\n",
              "\n",
              "[[49]]$testing\n",
              "[1] 49381\n",
              "\n",
              "[[49]]$testing_pos\n",
              "[1] 370\n",
              "\n",
              "[[49]]$envios\n",
              "[1] 3864\n",
              "\n",
              "[[49]]$aciertos\n",
              "[1] 208\n",
              "\n",
              "[[49]]$ganancia_test\n",
              "[1] 44560000\n",
              "\n",
              "\n",
              "[[50]]\n",
              "[[50]]$semilla\n",
              "[1] 727409\n",
              "\n",
              "[[50]]$testing\n",
              "[1] 49378\n",
              "\n",
              "[[50]]$testing_pos\n",
              "[1] 379\n",
              "\n",
              "[[50]]$envios\n",
              "[1] 2871\n",
              "\n",
              "[[50]]$aciertos\n",
              "[1] 192\n",
              "\n",
              "[[50]]$ganancia_test\n",
              "[1] 48090000\n",
              "\n",
              "\n",
              "[[51]]\n",
              "[[51]]$semilla\n",
              "[1] 755329\n",
              "\n",
              "[[51]]$testing\n",
              "[1] 49378\n",
              "\n",
              "[[51]]$testing_pos\n",
              "[1] 368\n",
              "\n",
              "[[51]]$envios\n",
              "[1] 3645\n",
              "\n",
              "[[51]]$aciertos\n",
              "[1] 199\n",
              "\n",
              "[[51]]$ganancia_test\n",
              "[1] 43150000\n",
              "\n",
              "\n",
              "[[52]]\n",
              "[[52]]$semilla\n",
              "[1] 123091\n",
              "\n",
              "[[52]]$testing\n",
              "[1] 49387\n",
              "\n",
              "[[52]]$testing_pos\n",
              "[1] 377\n",
              "\n",
              "[[52]]$envios\n",
              "[1] 3700\n",
              "\n",
              "[[52]]$aciertos\n",
              "[1] 219\n",
              "\n",
              "[[52]]$ganancia_test\n",
              "[1] 50600000\n",
              "\n",
              "\n",
              "[[53]]\n",
              "[[53]]$semilla\n",
              "[1] 503159\n",
              "\n",
              "[[53]]$testing\n",
              "[1] 49394\n",
              "\n",
              "[[53]]$testing_pos\n",
              "[1] 382\n",
              "\n",
              "[[53]]$envios\n",
              "[1] 3440\n",
              "\n",
              "[[53]]$aciertos\n",
              "[1] 221\n",
              "\n",
              "[[53]]$ganancia_test\n",
              "[1] 5.4e+07\n",
              "\n",
              "\n",
              "[[54]]\n",
              "[[54]]$semilla\n",
              "[1] 447353\n",
              "\n",
              "[[54]]$testing\n",
              "[1] 49374\n",
              "\n",
              "[[54]]$testing_pos\n",
              "[1] 373\n",
              "\n",
              "[[54]]$envios\n",
              "[1] 4030\n",
              "\n",
              "[[54]]$aciertos\n",
              "[1] 200\n",
              "\n",
              "[[54]]$ganancia_test\n",
              "[1] 39700000\n",
              "\n",
              "\n",
              "[[55]]\n",
              "[[55]]$semilla\n",
              "[1] 548459\n",
              "\n",
              "[[55]]$testing\n",
              "[1] 49371\n",
              "\n",
              "[[55]]$testing_pos\n",
              "[1] 372\n",
              "\n",
              "[[55]]$envios\n",
              "[1] 3489\n",
              "\n",
              "[[55]]$aciertos\n",
              "[1] 215\n",
              "\n",
              "[[55]]$ganancia_test\n",
              "[1] 51110000\n",
              "\n",
              "\n",
              "[[56]]\n",
              "[[56]]$semilla\n",
              "[1] 707573\n",
              "\n",
              "[[56]]$testing\n",
              "[1] 49380\n",
              "\n",
              "[[56]]$testing_pos\n",
              "[1] 376\n",
              "\n",
              "[[56]]$envios\n",
              "[1] 3694\n",
              "\n",
              "[[56]]$aciertos\n",
              "[1] 206\n",
              "\n",
              "[[56]]$ganancia_test\n",
              "[1] 45460000\n",
              "\n",
              "\n",
              "[[57]]\n",
              "[[57]]$semilla\n",
              "[1] 442217\n",
              "\n",
              "[[57]]$testing\n",
              "[1] 49389\n",
              "\n",
              "[[57]]$testing_pos\n",
              "[1] 381\n",
              "\n",
              "[[57]]$envios\n",
              "[1] 2909\n",
              "\n",
              "[[57]]$aciertos\n",
              "[1] 197\n",
              "\n",
              "[[57]]$ganancia_test\n",
              "[1] 49710000\n",
              "\n",
              "\n",
              "[[58]]\n",
              "[[58]]$semilla\n",
              "[1] 928399\n",
              "\n",
              "[[58]]$testing\n",
              "[1] 49383\n",
              "\n",
              "[[58]]$testing_pos\n",
              "[1] 376\n",
              "\n",
              "[[58]]$envios\n",
              "[1] 4059\n",
              "\n",
              "[[58]]$aciertos\n",
              "[1] 222\n",
              "\n",
              "[[58]]$ganancia_test\n",
              "[1] 48210000\n",
              "\n",
              "\n",
              "[[59]]\n",
              "[[59]]$semilla\n",
              "[1] 787817\n",
              "\n",
              "[[59]]$testing\n",
              "[1] 49386\n",
              "\n",
              "[[59]]$testing_pos\n",
              "[1] 375\n",
              "\n",
              "[[59]]$envios\n",
              "[1] 3484\n",
              "\n",
              "[[59]]$aciertos\n",
              "[1] 204\n",
              "\n",
              "[[59]]$ganancia_test\n",
              "[1] 46760000\n",
              "\n",
              "\n",
              "[[60]]\n",
              "[[60]]$semilla\n",
              "[1] 302563\n",
              "\n",
              "[[60]]$testing\n",
              "[1] 49383\n",
              "\n",
              "[[60]]$testing_pos\n",
              "[1] 371\n",
              "\n",
              "[[60]]$envios\n",
              "[1] 3608\n",
              "\n",
              "[[60]]$aciertos\n",
              "[1] 217\n",
              "\n",
              "[[60]]$ganancia_test\n",
              "[1] 50720000\n",
              "\n",
              "\n",
              "[[61]]\n",
              "[[61]]$semilla\n",
              "[1] 251903\n",
              "\n",
              "[[61]]$testing\n",
              "[1] 49378\n",
              "\n",
              "[[61]]$testing_pos\n",
              "[1] 375\n",
              "\n",
              "[[61]]$envios\n",
              "[1] 3561\n",
              "\n",
              "[[61]]$aciertos\n",
              "[1] 206\n",
              "\n",
              "[[61]]$ganancia_test\n",
              "[1] 46790000\n",
              "\n",
              "\n",
              "[[62]]\n",
              "[[62]]$semilla\n",
              "[1] 796307\n",
              "\n",
              "[[62]]$testing\n",
              "[1] 49386\n",
              "\n",
              "[[62]]$testing_pos\n",
              "[1] 374\n",
              "\n",
              "[[62]]$envios\n",
              "[1] 3849\n",
              "\n",
              "[[62]]$aciertos\n",
              "[1] 220\n",
              "\n",
              "[[62]]$ganancia_test\n",
              "[1] 49510000\n",
              "\n",
              "\n",
              "[[63]]\n",
              "[[63]]$semilla\n",
              "[1] 622481\n",
              "\n",
              "[[63]]$testing\n",
              "[1] 49382\n",
              "\n",
              "[[63]]$testing_pos\n",
              "[1] 378\n",
              "\n",
              "[[63]]$envios\n",
              "[1] 3523\n",
              "\n",
              "[[63]]$aciertos\n",
              "[1] 205\n",
              "\n",
              "[[63]]$ganancia_test\n",
              "[1] 46770000\n",
              "\n",
              "\n",
              "[[64]]\n",
              "[[64]]$semilla\n",
              "[1] 192553\n",
              "\n",
              "[[64]]$testing\n",
              "[1] 49375\n",
              "\n",
              "[[64]]$testing_pos\n",
              "[1] 376\n",
              "\n",
              "[[64]]$envios\n",
              "[1] 3347\n",
              "\n",
              "[[64]]$aciertos\n",
              "[1] 201\n",
              "\n",
              "[[64]]$ganancia_test\n",
              "[1] 46930000\n",
              "\n",
              "\n",
              "[[65]]\n",
              "[[65]]$semilla\n",
              "[1] 428027\n",
              "\n",
              "[[65]]$testing\n",
              "[1] 49387\n",
              "\n",
              "[[65]]$testing_pos\n",
              "[1] 377\n",
              "\n",
              "[[65]]$envios\n",
              "[1] 3461\n",
              "\n",
              "[[65]]$aciertos\n",
              "[1] 206\n",
              "\n",
              "[[65]]$ganancia_test\n",
              "[1] 47790000\n",
              "\n",
              "\n",
              "[[66]]\n",
              "[[66]]$semilla\n",
              "[1] 230339\n",
              "\n",
              "[[66]]$testing\n",
              "[1] 49379\n",
              "\n",
              "[[66]]$testing_pos\n",
              "[1] 374\n",
              "\n",
              "[[66]]$envios\n",
              "[1] 2386\n",
              "\n",
              "[[66]]$aciertos\n",
              "[1] 176\n",
              "\n",
              "[[66]]$ganancia_test\n",
              "[1] 46540000\n",
              "\n",
              "\n",
              "[[67]]\n",
              "[[67]]$semilla\n",
              "[1] 555683\n",
              "\n",
              "[[67]]$testing\n",
              "[1] 49381\n",
              "\n",
              "[[67]]$testing_pos\n",
              "[1] 372\n",
              "\n",
              "[[67]]$envios\n",
              "[1] 4067\n",
              "\n",
              "[[67]]$aciertos\n",
              "[1] 226\n",
              "\n",
              "[[67]]$ganancia_test\n",
              "[1] 49730000\n",
              "\n",
              "\n",
              "[[68]]\n",
              "[[68]]$semilla\n",
              "[1] 501001\n",
              "\n",
              "[[68]]$testing\n",
              "[1] 49368\n",
              "\n",
              "[[68]]$testing_pos\n",
              "[1] 374\n",
              "\n",
              "[[68]]$envios\n",
              "[1] 3624\n",
              "\n",
              "[[68]]$aciertos\n",
              "[1] 202\n",
              "\n",
              "[[68]]$ganancia_test\n",
              "[1] 44560000\n",
              "\n",
              "\n",
              "[[69]]\n",
              "[[69]]$semilla\n",
              "[1] 689879\n",
              "\n",
              "[[69]]$testing\n",
              "[1] 49375\n",
              "\n",
              "[[69]]$testing_pos\n",
              "[1] 372\n",
              "\n",
              "[[69]]$envios\n",
              "[1] 3908\n",
              "\n",
              "[[69]]$aciertos\n",
              "[1] 217\n",
              "\n",
              "[[69]]$ganancia_test\n",
              "[1] 47720000\n",
              "\n",
              "\n",
              "[[70]]\n",
              "[[70]]$semilla\n",
              "[1] 810973\n",
              "\n",
              "[[70]]$testing\n",
              "[1] 49383\n",
              "\n",
              "[[70]]$testing_pos\n",
              "[1] 379\n",
              "\n",
              "[[70]]$envios\n",
              "[1] 3473\n",
              "\n",
              "[[70]]$aciertos\n",
              "[1] 216\n",
              "\n",
              "[[70]]$ganancia_test\n",
              "[1] 51670000\n",
              "\n",
              "\n",
              "[[71]]\n",
              "[[71]]$semilla\n",
              "[1] 122323\n",
              "\n",
              "[[71]]$testing\n",
              "[1] 49370\n",
              "\n",
              "[[71]]$testing_pos\n",
              "[1] 371\n",
              "\n",
              "[[71]]$envios\n",
              "[1] 2970\n",
              "\n",
              "[[71]]$aciertos\n",
              "[1] 193\n",
              "\n",
              "[[71]]$ganancia_test\n",
              "[1] 47500000\n",
              "\n",
              "\n",
              "[[72]]\n",
              "[[72]]$semilla\n",
              "[1] 478679\n",
              "\n",
              "[[72]]$testing\n",
              "[1] 49393\n",
              "\n",
              "[[72]]$testing_pos\n",
              "[1] 379\n",
              "\n",
              "[[72]]$envios\n",
              "[1] 4005\n",
              "\n",
              "[[72]]$aciertos\n",
              "[1] 234\n",
              "\n",
              "[[72]]$ganancia_test\n",
              "[1] 53550000\n",
              "\n",
              "\n",
              "[[73]]\n",
              "[[73]]$semilla\n",
              "[1] 502001\n",
              "\n",
              "[[73]]$testing\n",
              "[1] 49384\n",
              "\n",
              "[[73]]$testing_pos\n",
              "[1] 375\n",
              "\n",
              "[[73]]$envios\n",
              "[1] 2850\n",
              "\n",
              "[[73]]$aciertos\n",
              "[1] 195\n",
              "\n",
              "[[73]]$ganancia_test\n",
              "[1] 49500000\n",
              "\n",
              "\n",
              "[[74]]\n",
              "[[74]]$semilla\n",
              "[1] 986903\n",
              "\n",
              "[[74]]$testing\n",
              "[1] 49375\n",
              "\n",
              "[[74]]$testing_pos\n",
              "[1] 374\n",
              "\n",
              "[[74]]$envios\n",
              "[1] 4222\n",
              "\n",
              "[[74]]$aciertos\n",
              "[1] 234\n",
              "\n",
              "[[74]]$ganancia_test\n",
              "[1] 51380000\n",
              "\n",
              "\n",
              "[[75]]\n",
              "[[75]]$semilla\n",
              "[1] 787051\n",
              "\n",
              "[[75]]$testing\n",
              "[1] 49381\n",
              "\n",
              "[[75]]$testing_pos\n",
              "[1] 373\n",
              "\n",
              "[[75]]$envios\n",
              "[1] 3230\n",
              "\n",
              "[[75]]$aciertos\n",
              "[1] 201\n",
              "\n",
              "[[75]]$ganancia_test\n",
              "[1] 48100000\n",
              "\n",
              "\n",
              "[[76]]\n",
              "[[76]]$semilla\n",
              "[1] 418637\n",
              "\n",
              "[[76]]$testing\n",
              "[1] 49374\n",
              "\n",
              "[[76]]$testing_pos\n",
              "[1] 372\n",
              "\n",
              "[[76]]$envios\n",
              "[1] 3972\n",
              "\n",
              "[[76]]$aciertos\n",
              "[1] 223\n",
              "\n",
              "[[76]]$ganancia_test\n",
              "[1] 49480000\n",
              "\n",
              "\n",
              "[[77]]\n",
              "[[77]]$semilla\n",
              "[1] 601687\n",
              "\n",
              "[[77]]$testing\n",
              "[1] 49379\n",
              "\n",
              "[[77]]$testing_pos\n",
              "[1] 373\n",
              "\n",
              "[[77]]$envios\n",
              "[1] 3615\n",
              "\n",
              "[[77]]$aciertos\n",
              "[1] 207\n",
              "\n",
              "[[77]]$ganancia_test\n",
              "[1] 46650000\n",
              "\n",
              "\n",
              "[[78]]\n",
              "[[78]]$semilla\n",
              "[1] 160723\n",
              "\n",
              "[[78]]$testing\n",
              "[1] 49380\n",
              "\n",
              "[[78]]$testing_pos\n",
              "[1] 376\n",
              "\n",
              "[[78]]$envios\n",
              "[1] 3875\n",
              "\n",
              "[[78]]$aciertos\n",
              "[1] 209\n",
              "\n",
              "[[78]]$ganancia_test\n",
              "[1] 44850000\n",
              "\n",
              "\n",
              "[[79]]\n",
              "[[79]]$semilla\n",
              "[1] 346543\n",
              "\n",
              "[[79]]$testing\n",
              "[1] 49376\n",
              "\n",
              "[[79]]$testing_pos\n",
              "[1] 379\n",
              "\n",
              "[[79]]$envios\n",
              "[1] 3620\n",
              "\n",
              "[[79]]$aciertos\n",
              "[1] 229\n",
              "\n",
              "[[79]]$ganancia_test\n",
              "[1] 55400000\n",
              "\n",
              "\n",
              "[[80]]\n",
              "[[80]]$semilla\n",
              "[1] 448607\n",
              "\n",
              "[[80]]$testing\n",
              "[1] 49382\n",
              "\n",
              "[[80]]$testing_pos\n",
              "[1] 373\n",
              "\n",
              "[[80]]$envios\n",
              "[1] 3066\n",
              "\n",
              "[[80]]$aciertos\n",
              "[1] 192\n",
              "\n",
              "[[80]]$ganancia_test\n",
              "[1] 46140000\n",
              "\n",
              "\n",
              "[[81]]\n",
              "[[81]]$semilla\n",
              "[1] 300757\n",
              "\n",
              "[[81]]$testing\n",
              "[1] 49379\n",
              "\n",
              "[[81]]$testing_pos\n",
              "[1] 372\n",
              "\n",
              "[[81]]$envios\n",
              "[1] 4570\n",
              "\n",
              "[[81]]$aciertos\n",
              "[1] 212\n",
              "\n",
              "[[81]]$ganancia_test\n",
              "[1] 39100000\n",
              "\n",
              "\n",
              "[[82]]\n",
              "[[82]]$semilla\n",
              "[1] 374291\n",
              "\n",
              "[[82]]$testing\n",
              "[1] 49378\n",
              "\n",
              "[[82]]$testing_pos\n",
              "[1] 370\n",
              "\n",
              "[[82]]$envios\n",
              "[1] 3764\n",
              "\n",
              "[[82]]$aciertos\n",
              "[1] 203\n",
              "\n",
              "[[82]]$ganancia_test\n",
              "[1] 43560000\n",
              "\n",
              "\n",
              "[[83]]\n",
              "[[83]]$semilla\n",
              "[1] 340007\n",
              "\n",
              "[[83]]$testing\n",
              "[1] 49366\n",
              "\n",
              "[[83]]$testing_pos\n",
              "[1] 365\n",
              "\n",
              "[[83]]$envios\n",
              "[1] 3086\n",
              "\n",
              "[[83]]$aciertos\n",
              "[1] 195\n",
              "\n",
              "[[83]]$ganancia_test\n",
              "[1] 47140000\n",
              "\n",
              "\n",
              "[[84]]\n",
              "[[84]]$semilla\n",
              "[1] 101701\n",
              "\n",
              "[[84]]$testing\n",
              "[1] 49374\n",
              "\n",
              "[[84]]$testing_pos\n",
              "[1] 376\n",
              "\n",
              "[[84]]$envios\n",
              "[1] 3496\n",
              "\n",
              "[[84]]$aciertos\n",
              "[1] 214\n",
              "\n",
              "[[84]]$ganancia_test\n",
              "[1] 50640000\n",
              "\n",
              "\n",
              "[[85]]\n",
              "[[85]]$semilla\n",
              "[1] 665503\n",
              "\n",
              "[[85]]$testing\n",
              "[1] 49384\n",
              "\n",
              "[[85]]$testing_pos\n",
              "[1] 374\n",
              "\n",
              "[[85]]$envios\n",
              "[1] 3669\n",
              "\n",
              "[[85]]$aciertos\n",
              "[1] 202\n",
              "\n",
              "[[85]]$ganancia_test\n",
              "[1] 44110000\n",
              "\n",
              "\n",
              "[[86]]\n",
              "[[86]]$semilla\n",
              "[1] 401957\n",
              "\n",
              "[[86]]$testing\n",
              "[1] 49364\n",
              "\n",
              "[[86]]$testing_pos\n",
              "[1] 370\n",
              "\n",
              "[[86]]$envios\n",
              "[1] 3458\n",
              "\n",
              "[[86]]$aciertos\n",
              "[1] 213\n",
              "\n",
              "[[86]]$ganancia_test\n",
              "[1] 50620000\n",
              "\n",
              "\n",
              "[[87]]\n",
              "[[87]]$semilla\n",
              "[1] 851813\n",
              "\n",
              "[[87]]$testing\n",
              "[1] 49370\n",
              "\n",
              "[[87]]$testing_pos\n",
              "[1] 368\n",
              "\n",
              "[[87]]$envios\n",
              "[1] 3008\n",
              "\n",
              "[[87]]$aciertos\n",
              "[1] 195\n",
              "\n",
              "[[87]]$ganancia_test\n",
              "[1] 47920000\n",
              "\n",
              "\n",
              "[[88]]\n",
              "[[88]]$semilla\n",
              "[1] 209639\n",
              "\n",
              "[[88]]$testing\n",
              "[1] 49373\n",
              "\n",
              "[[88]]$testing_pos\n",
              "[1] 372\n",
              "\n",
              "[[88]]$envios\n",
              "[1] 3729\n",
              "\n",
              "[[88]]$aciertos\n",
              "[1] 220\n",
              "\n",
              "[[88]]$ganancia_test\n",
              "[1] 50710000\n",
              "\n",
              "\n",
              "[[89]]\n",
              "[[89]]$semilla\n",
              "[1] 197647\n",
              "\n",
              "[[89]]$testing\n",
              "[1] 49371\n",
              "\n",
              "[[89]]$testing_pos\n",
              "[1] 370\n",
              "\n",
              "[[89]]$envios\n",
              "[1] 2661\n",
              "\n",
              "[[89]]$aciertos\n",
              "[1] 195\n",
              "\n",
              "[[89]]$ganancia_test\n",
              "[1] 51390000\n",
              "\n",
              "\n",
              "[[90]]\n",
              "[[90]]$semilla\n",
              "[1] 635731\n",
              "\n",
              "[[90]]$testing\n",
              "[1] 49373\n",
              "\n",
              "[[90]]$testing_pos\n",
              "[1] 376\n",
              "\n",
              "[[90]]$envios\n",
              "[1] 3413\n",
              "\n",
              "[[90]]$aciertos\n",
              "[1] 212\n",
              "\n",
              "[[90]]$ganancia_test\n",
              "[1] 50670000\n",
              "\n",
              "\n",
              "[[91]]\n",
              "[[91]]$semilla\n",
              "[1] 199721\n",
              "\n",
              "[[91]]$testing\n",
              "[1] 49380\n",
              "\n",
              "[[91]]$testing_pos\n",
              "[1] 376\n",
              "\n",
              "[[91]]$envios\n",
              "[1] 3412\n",
              "\n",
              "[[91]]$aciertos\n",
              "[1] 200\n",
              "\n",
              "[[91]]$ganancia_test\n",
              "[1] 45880000\n",
              "\n",
              "\n",
              "[[92]]\n",
              "[[92]]$semilla\n",
              "[1] 248401\n",
              "\n",
              "[[92]]$testing\n",
              "[1] 49382\n",
              "\n",
              "[[92]]$testing_pos\n",
              "[1] 375\n",
              "\n",
              "[[92]]$envios\n",
              "[1] 3510\n",
              "\n",
              "[[92]]$aciertos\n",
              "[1] 208\n",
              "\n",
              "[[92]]$ganancia_test\n",
              "[1] 48100000\n",
              "\n",
              "\n",
              "[[93]]\n",
              "[[93]]$semilla\n",
              "[1] 229739\n",
              "\n",
              "[[93]]$testing\n",
              "[1] 49377\n",
              "\n",
              "[[93]]$testing_pos\n",
              "[1] 369\n",
              "\n",
              "[[93]]$envios\n",
              "[1] 3167\n",
              "\n",
              "[[93]]$aciertos\n",
              "[1] 199\n",
              "\n",
              "[[93]]$ganancia_test\n",
              "[1] 47930000\n",
              "\n",
              "\n",
              "[[94]]\n",
              "[[94]]$semilla\n",
              "[1] 705871\n",
              "\n",
              "[[94]]$testing\n",
              "[1] 49391\n",
              "\n",
              "[[94]]$testing_pos\n",
              "[1] 378\n",
              "\n",
              "[[94]]$envios\n",
              "[1] 4097\n",
              "\n",
              "[[94]]$aciertos\n",
              "[1] 234\n",
              "\n",
              "[[94]]$ganancia_test\n",
              "[1] 52630000\n",
              "\n",
              "\n",
              "[[95]]\n",
              "[[95]]$semilla\n",
              "[1] 284111\n",
              "\n",
              "[[95]]$testing\n",
              "[1] 49371\n",
              "\n",
              "[[95]]$testing_pos\n",
              "[1] 368\n",
              "\n",
              "[[95]]$envios\n",
              "[1] 3592\n",
              "\n",
              "[[95]]$aciertos\n",
              "[1] 194\n",
              "\n",
              "[[95]]$ganancia_test\n",
              "[1] 41680000\n",
              "\n",
              "\n",
              "[[96]]\n",
              "[[96]]$semilla\n",
              "[1] 649787\n",
              "\n",
              "[[96]]$testing\n",
              "[1] 49377\n",
              "\n",
              "[[96]]$testing_pos\n",
              "[1] 367\n",
              "\n",
              "[[96]]$envios\n",
              "[1] 2843\n",
              "\n",
              "[[96]]$aciertos\n",
              "[1] 187\n",
              "\n",
              "[[96]]$ganancia_test\n",
              "[1] 46370000\n",
              "\n",
              "\n",
              "[[97]]\n",
              "[[97]]$semilla\n",
              "[1] 848251\n",
              "\n",
              "[[97]]$testing\n",
              "[1] 49384\n",
              "\n",
              "[[97]]$testing_pos\n",
              "[1] 374\n",
              "\n",
              "[[97]]$envios\n",
              "[1] 3666\n",
              "\n",
              "[[97]]$aciertos\n",
              "[1] 210\n",
              "\n",
              "[[97]]$ganancia_test\n",
              "[1] 47340000\n",
              "\n",
              "\n",
              "[[98]]\n",
              "[[98]]$semilla\n",
              "[1] 924059\n",
              "\n",
              "[[98]]$testing\n",
              "[1] 49397\n",
              "\n",
              "[[98]]$testing_pos\n",
              "[1] 378\n",
              "\n",
              "[[98]]$envios\n",
              "[1] 3503\n",
              "\n",
              "[[98]]$aciertos\n",
              "[1] 217\n",
              "\n",
              "[[98]]$ganancia_test\n",
              "[1] 51770000\n",
              "\n",
              "\n",
              "[[99]]\n",
              "[[99]]$semilla\n",
              "[1] 341491\n",
              "\n",
              "[[99]]$testing\n",
              "[1] 49380\n",
              "\n",
              "[[99]]$testing_pos\n",
              "[1] 369\n",
              "\n",
              "[[99]]$envios\n",
              "[1] 3231\n",
              "\n",
              "[[99]]$aciertos\n",
              "[1] 186\n",
              "\n",
              "[[99]]$ganancia_test\n",
              "[1] 42090000\n",
              "\n",
              "\n",
              "[[100]]\n",
              "[[100]]$semilla\n",
              "[1] 675319\n",
              "\n",
              "[[100]]$testing\n",
              "[1] 49377\n",
              "\n",
              "[[100]]$testing_pos\n",
              "[1] 373\n",
              "\n",
              "[[100]]$envios\n",
              "[1] 3051\n",
              "\n",
              "[[100]]$aciertos\n",
              "[1] 185\n",
              "\n",
              "[[100]]$ganancia_test\n",
              "[1] 43490000\n",
              "\n"
            ]
          },
          "metadata": {}
        }
      ]
    },
    {
      "cell_type": "code",
      "source": [
        "# paso la lista a vector\n",
        "tb_salida <- rbindlist(salidas)\n",
        "print( tb_salida)"
      ],
      "metadata": {
        "id": "unGWiKRMGimU",
        "outputId": "deb5130e-092d-47a6-e8ea-521d4c88e44e",
        "colab": {
          "base_uri": "https://localhost:8080/"
        }
      },
      "execution_count": null,
      "outputs": [
        {
          "output_type": "stream",
          "name": "stdout",
          "text": [
            "     semilla testing testing_pos envios aciertos ganancia_test\n",
            "       <int>   <int>       <int>  <int>    <int>         <num>\n",
            "  1:  872609   49376         369   4341      234      50190000\n",
            "  2:  219881   49381         379   3210      212      52700000\n",
            "  3:  538001   49373         373   3208      194      45520000\n",
            "  4:  804191   49380         374   4016      222      48640000\n",
            "  5:  497279   49364         371   2386      188      51340000\n",
            "  6:  176129   49383         375   3427      215      51730000\n",
            "  7:  765991   49375         373   3140      197      47400000\n",
            "  8:  667673   49390         378   3331      201      47090000\n",
            "  9:  583409   49378         372   3610      212      48700000\n",
            " 10:  104537   49388         375   3683      229      54770000\n",
            " 11:  677119   49374         374   3411      204      47490000\n",
            " 12:  610843   49367         376   3553      211      48870000\n",
            " 13:  822839   49374         377   2955      210      54450000\n",
            " 14:  375923   49376         371   3811      195      39890000\n",
            " 15:  149771   49389         373   3733      210      46670000\n",
            " 16:  985403   49385         381   3161      206      50790000\n",
            " 17:  893933   49371         375   3256      222      56240000\n",
            " 18:  861937   49378         371   4052      230      51480000\n",
            " 19:  146009   49374         374   3458      219      53020000\n",
            " 20:  867371   49372         378   3568      218      51520000\n",
            " 21:  576013   49377         376   3393      208      49270000\n",
            " 22:  657947   49377         377   3712      217      49680000\n",
            " 23:  630193   49380         371   3854      214      47060000\n",
            " 24:  531281   49377         374   3785      210      46150000\n",
            " 25:  371561   49373         375   3381      207      48990000\n",
            " 26:  726367   49383         371   3887      218      48330000\n",
            " 27:  224129   49389         376   3601      209      47590000\n",
            " 28:  584399   49381         377   2464      184      48960000\n",
            " 29:  925961   49372         368   3382      194      43780000\n",
            " 30:  732023   49385         381   3745      223      51750000\n",
            " 31:  785803   49385         377   3480      218      52400000\n",
            " 32:  395611   49395         379   3808      198      41120000\n",
            " 33:  896009   49379         372   3809      210      45910000\n",
            " 34:  526763   49378         370   3245      189      43150000\n",
            " 35:  305329   49383         376   3367      196      44730000\n",
            " 36:  702469   49374         373   3141      184      42190000\n",
            " 37:  827213   49373         374   3085      201      49550000\n",
            " 38:  754979   49362         373   3386      206      48540000\n",
            " 39:  929057   49385         374   2906      185      44940000\n",
            " 40:  400243   49377         374   3286      209      50740000\n",
            " 41:  481133   49374         376   3275      199      46850000\n",
            " 42:  629773   49383         370   3197      201      48430000\n",
            " 43:  274811   49369         375   3995      225      50050000\n",
            " 44:  474037   49381         378   3909      214      46510000\n",
            " 45:  333719   49382         376   3378      206      48620000\n",
            " 46:  653713   49385         381   2948      206      52920000\n",
            " 47:  152767   49380         382   3266      220      55340000\n",
            " 48:  156677   49366         366   4158      217      45220000\n",
            " 49:  892861   49381         370   3864      208      44560000\n",
            " 50:  727409   49378         379   2871      192      48090000\n",
            " 51:  755329   49378         368   3645      199      43150000\n",
            " 52:  123091   49387         377   3700      219      50600000\n",
            " 53:  503159   49394         382   3440      221      54000000\n",
            " 54:  447353   49374         373   4030      200      39700000\n",
            " 55:  548459   49371         372   3489      215      51110000\n",
            " 56:  707573   49380         376   3694      206      45460000\n",
            " 57:  442217   49389         381   2909      197      49710000\n",
            " 58:  928399   49383         376   4059      222      48210000\n",
            " 59:  787817   49386         375   3484      204      46760000\n",
            " 60:  302563   49383         371   3608      217      50720000\n",
            " 61:  251903   49378         375   3561      206      46790000\n",
            " 62:  796307   49386         374   3849      220      49510000\n",
            " 63:  622481   49382         378   3523      205      46770000\n",
            " 64:  192553   49375         376   3347      201      46930000\n",
            " 65:  428027   49387         377   3461      206      47790000\n",
            " 66:  230339   49379         374   2386      176      46540000\n",
            " 67:  555683   49381         372   4067      226      49730000\n",
            " 68:  501001   49368         374   3624      202      44560000\n",
            " 69:  689879   49375         372   3908      217      47720000\n",
            " 70:  810973   49383         379   3473      216      51670000\n",
            " 71:  122323   49370         371   2970      193      47500000\n",
            " 72:  478679   49393         379   4005      234      53550000\n",
            " 73:  502001   49384         375   2850      195      49500000\n",
            " 74:  986903   49375         374   4222      234      51380000\n",
            " 75:  787051   49381         373   3230      201      48100000\n",
            " 76:  418637   49374         372   3972      223      49480000\n",
            " 77:  601687   49379         373   3615      207      46650000\n",
            " 78:  160723   49380         376   3875      209      44850000\n",
            " 79:  346543   49376         379   3620      229      55400000\n",
            " 80:  448607   49382         373   3066      192      46140000\n",
            " 81:  300757   49379         372   4570      212      39100000\n",
            " 82:  374291   49378         370   3764      203      43560000\n",
            " 83:  340007   49366         365   3086      195      47140000\n",
            " 84:  101701   49374         376   3496      214      50640000\n",
            " 85:  665503   49384         374   3669      202      44110000\n",
            " 86:  401957   49364         370   3458      213      50620000\n",
            " 87:  851813   49370         368   3008      195      47920000\n",
            " 88:  209639   49373         372   3729      220      50710000\n",
            " 89:  197647   49371         370   2661      195      51390000\n",
            " 90:  635731   49373         376   3413      212      50670000\n",
            " 91:  199721   49380         376   3412      200      45880000\n",
            " 92:  248401   49382         375   3510      208      48100000\n",
            " 93:  229739   49377         369   3167      199      47930000\n",
            " 94:  705871   49391         378   4097      234      52630000\n",
            " 95:  284111   49371         368   3592      194      41680000\n",
            " 96:  649787   49377         367   2843      187      46370000\n",
            " 97:  848251   49384         374   3666      210      47340000\n",
            " 98:  924059   49397         378   3503      217      51770000\n",
            " 99:  341491   49380         369   3231      186      42090000\n",
            "100:  675319   49377         373   3051      185      43490000\n",
            "     semilla testing testing_pos envios aciertos ganancia_test\n"
          ]
        }
      ]
    },
    {
      "cell_type": "code",
      "source": [
        "# calulo la salida\n",
        "for( i in seq(10, 100, 10) )\n",
        "{\n",
        "  cat( i, \"\\t\", tb_salida[ 1:i, mean(ganancia_test)], \"\\n\" )\n",
        "}\n"
      ],
      "metadata": {
        "id": "oGoadhBKGimV",
        "outputId": "495e02e3-04d6-4573-8fba-c6bdbe5a4150",
        "colab": {
          "base_uri": "https://localhost:8080/"
        }
      },
      "execution_count": null,
      "outputs": [
        {
          "output_type": "stream",
          "name": "stdout",
          "text": [
            "10 \t 49808000 \n",
            "20 \t 49925000 \n",
            "30 \t 49335333 \n",
            "40 \t 48583250 \n",
            "50 \t 48598400 \n",
            "60 \t 48489000 \n",
            "70 \t 48390714 \n",
            "80 \t 48498750 \n",
            "90 \t 48397333 \n",
            "100 \t 48230400 \n"
          ]
        }
      ]
    },
    {
      "cell_type": "markdown",
      "source": [
        "### Acciones a realizar\n",
        "* Reportar la  los resultados en la planilla colaborativa hoja  **C2-nsem**\n",
        "* Se discutirá en clase la variabilidad de las distintas cantidades de semillas"
      ],
      "metadata": {
        "id": "dO9yQKt7GimV"
      }
    },
    {
      "cell_type": "markdown",
      "source": [
        "\n",
        "\n",
        "---\n",
        "\n"
      ],
      "metadata": {
        "id": "ziFKwIlBGimW"
      }
    },
    {
      "cell_type": "markdown",
      "source": [
        "# 5  DiezMil -Monte Carlo Cross Validation\n",
        "## Clase 02  Experimento 5"
      ],
      "metadata": {
        "id": "2jncHe-KJLUg"
      }
    },
    {
      "cell_type": "markdown",
      "source": [
        "Mostrar a los estudiantes el resultado de un experimento en donde se ha corrido una Monte Carlo Cross Validation utilizando diez mil semillas y relacionar la cantidad de semillas con el resultado del Teorema Central del Límite\n",
        "<br>Los resultados se muestran en esta misma guia y se comentan en clase,Bajo ningún concepto se solicitará a l@s estudiantes hacer este experimento en clase ya que lleva varias horas en correr.\n"
      ],
      "metadata": {
        "id": "vUzSGZGOJZq8"
      }
    },
    {
      "cell_type": "markdown",
      "source": [
        "Aqui usted NO debe correr absolutamente nada, el experimento ya fue corrido por la cátedra y le muestra los resultados."
      ],
      "metadata": {
        "id": "G0YGjTMxuTSg"
      }
    },
    {
      "cell_type": "markdown",
      "source": [
        "## 5.1\n",
        "Estos resultados han sido corridos por la cátedra.\n",
        "\n",
        "![Distribucion de las ganancias](https://storage.googleapis.com/open-courses/austral2025-af91/labo1r/C2_E5_distribucion.jpg)"
      ],
      "metadata": {
        "id": "7NRUb3WtJikc"
      }
    },
    {
      "cell_type": "markdown",
      "source": [
        "![salida](https://storage.googleapis.com/open-courses/austral2025-af91/labo1r/C2_E5_salida.jpg)"
      ],
      "metadata": {
        "id": "tZ4X8wdSKc7G"
      }
    },
    {
      "cell_type": "markdown",
      "source": [
        "![tabla](https://storage.googleapis.com/open-courses/austral2025-af91/labo1r/C2_E5_tabla.jpg)\n",
        "\n",
        " 2    ~    1,96  =  3605406.2 / 1836264.3\n",
        "\n",
        "Por el teorema central del límite, un aumento de 4 veces de la cantidad de registros que se promedian el desvio estandar disminuye 2 veces ,  raiz(4 ) = 2"
      ],
      "metadata": {
        "id": "EsL5ukNWKS71"
      }
    },
    {
      "cell_type": "markdown",
      "source": [
        "\n",
        "\n",
        "---\n",
        "\n"
      ],
      "metadata": {
        "id": "OTLq8TC4LR0c"
      }
    },
    {
      "cell_type": "markdown",
      "source": [
        "# 6 Comparando dos distintos  modelos\n",
        "## Clase 02  Experimento 6"
      ],
      "metadata": {
        "id": "sAS1bfL8LmBv"
      }
    },
    {
      "cell_type": "markdown",
      "source": [
        "## 6.1  Objetivos\n",
        "Presentar a los alumnos la dificultad que se presenta ante la comparación de dos modelos, uno posee un poder predictivo claramente mayor al otro.\n",
        "Comparación simple de media de ganancias, versus probabilidad que un modelo sea superior a otro."
      ],
      "metadata": {
        "id": "KzwdMJDZLmB9"
      }
    },
    {
      "cell_type": "markdown",
      "source": [
        "## 6.2 Introduccion\n",
        "Estos son los dos arboles de muy distinta profundidad.\n",
        "<br>¿Cuál de ellos es mejor? ¿Cuál elijo?\n",
        "\n",
        "| Hiperparámetro | Arbol 1 | Arbol 2 |\n",
        "| --- | --: |  ---: |\n",
        "| cp | -1 | -1 |\n",
        "|minsplit | 170 | 250 |\n",
        "|minbucket | 70 | 125 |\n",
        "|maxdepth | 7 | 20 |\n",
        "\n"
      ],
      "metadata": {
        "id": "DDyFNmJ9L_CW"
      }
    },
    {
      "cell_type": "markdown",
      "source": [
        "## 6.3 Codigo dos distintos modelos"
      ],
      "metadata": {
        "id": "bQfwNsVzNrtI"
      }
    },
    {
      "cell_type": "markdown",
      "source": [
        "Esta parte se debe correr con el runtime en lenguaje **R** Ir al menu, Runtime -> Change Runtime Tipe -> Runtime type -> R"
      ],
      "metadata": {
        "id": "Ku7qQgKjNruJ"
      }
    },
    {
      "cell_type": "markdown",
      "source": [
        "El tiempo de corrida es de alrededor de 40 minutos"
      ],
      "metadata": {
        "id": "6jCdS3NMuKei"
      }
    },
    {
      "cell_type": "markdown",
      "source": [
        "limpio el ambiente de R"
      ],
      "metadata": {
        "id": "Z1EUBeHyNruK"
      }
    },
    {
      "cell_type": "code",
      "source": [
        "# limpio la memoria\n",
        "rm(list=ls(all.names=TRUE)) # remove all objects\n",
        "gc(full=TRUE, verbose=FALSE) # garbage collection"
      ],
      "metadata": {
        "id": "GxbC4V3zNruM",
        "outputId": "b7f0352a-85a6-490c-e0ed-7e613f79d87d",
        "colab": {
          "base_uri": "https://localhost:8080/",
          "height": 129
        }
      },
      "execution_count": 1,
      "outputs": [
        {
          "output_type": "display_data",
          "data": {
            "text/html": [
              "<table class=\"dataframe\">\n",
              "<caption>A matrix: 2 × 6 of type dbl</caption>\n",
              "<thead>\n",
              "\t<tr><th></th><th scope=col>used</th><th scope=col>(Mb)</th><th scope=col>gc trigger</th><th scope=col>(Mb)</th><th scope=col>max used</th><th scope=col>(Mb)</th></tr>\n",
              "</thead>\n",
              "<tbody>\n",
              "\t<tr><th scope=row>Ncells</th><td> 657245</td><td>35.2</td><td>1454460</td><td>77.7</td><td>1326129</td><td>70.9</td></tr>\n",
              "\t<tr><th scope=row>Vcells</th><td>1220272</td><td> 9.4</td><td>8388608</td><td>64.0</td><td>1975127</td><td>15.1</td></tr>\n",
              "</tbody>\n",
              "</table>\n"
            ],
            "text/markdown": "\nA matrix: 2 × 6 of type dbl\n\n| <!--/--> | used | (Mb) | gc trigger | (Mb) | max used | (Mb) |\n|---|---|---|---|---|---|---|\n| Ncells |  657245 | 35.2 | 1454460 | 77.7 | 1326129 | 70.9 |\n| Vcells | 1220272 |  9.4 | 8388608 | 64.0 | 1975127 | 15.1 |\n\n",
            "text/latex": "A matrix: 2 × 6 of type dbl\n\\begin{tabular}{r|llllll}\n  & used & (Mb) & gc trigger & (Mb) & max used & (Mb)\\\\\n\\hline\n\tNcells &  657245 & 35.2 & 1454460 & 77.7 & 1326129 & 70.9\\\\\n\tVcells & 1220272 &  9.4 & 8388608 & 64.0 & 1975127 & 15.1\\\\\n\\end{tabular}\n",
            "text/plain": [
              "       used    (Mb) gc trigger (Mb) max used (Mb)\n",
              "Ncells  657245 35.2 1454460    77.7 1326129  70.9\n",
              "Vcells 1220272  9.4 8388608    64.0 1975127  15.1"
            ]
          },
          "metadata": {}
        }
      ]
    },
    {
      "cell_type": "markdown",
      "source": [
        "* Instalacion de la libreria  rpart.plot  para dibujar el arbol\n",
        "* invocacion de las librerias  **data.table** y  **rpart**"
      ],
      "metadata": {
        "id": "i2WkSCIhNruQ"
      }
    },
    {
      "cell_type": "code",
      "source": [
        "# cargo las librerias que necesito\n",
        "require(\"data.table\")\n",
        "require(\"rpart\")\n",
        "require(\"parallel\")\n",
        "\n",
        "if (!require(\"primes\")) install.packages(\"primes\")\n",
        "require(\"primes\")\n",
        "\n",
        "require(\"ggplot2\")"
      ],
      "metadata": {
        "id": "3bMsgZJWNruR",
        "outputId": "86e2b22a-7ede-49e4-f371-f94dd736e0fb",
        "colab": {
          "base_uri": "https://localhost:8080/"
        }
      },
      "execution_count": 2,
      "outputs": [
        {
          "output_type": "stream",
          "name": "stderr",
          "text": [
            "Loading required package: data.table\n",
            "\n",
            "Loading required package: rpart\n",
            "\n",
            "Loading required package: parallel\n",
            "\n",
            "Loading required package: primes\n",
            "\n",
            "Loading required package: ggplot2\n",
            "\n"
          ]
        }
      ]
    },
    {
      "cell_type": "markdown",
      "source": [
        "###  Accion a Realizar\n",
        "PARAM$semilla_primigenia  debe reemplazarse por SU primer semilla"
      ],
      "metadata": {
        "id": "t1lTXrKaNruT"
      }
    },
    {
      "cell_type": "code",
      "source": [
        "PARAM <- list()\n",
        "PARAM$semilla_primigenia <- 101111\n",
        "PARAM$qsemillas <- 20\n",
        "PARAM$training_pct <- 70L     # entre 1 y 100\n"
      ],
      "metadata": {
        "id": "QFbPtTCMNruV"
      },
      "execution_count": 3,
      "outputs": []
    },
    {
      "cell_type": "code",
      "source": [
        "# los dos arboles\n",
        "PARAM$rpart1 <- list (\n",
        "  \"cp\" = -1,\n",
        "  \"minsplit\" = 170,\n",
        "  \"minbucket\" = 70,\n",
        "  \"maxdepth\" = 7\n",
        ")\n",
        "\n",
        "\n",
        "PARAM$rpart2 <- list (\n",
        "  \"cp\" = -1,\n",
        "  \"minsplit\" = 250,\n",
        "  \"minbucket\" = 125,\n",
        "  \"maxdepth\" = 20\n",
        ")"
      ],
      "metadata": {
        "id": "GiBGk7WKQv2V"
      },
      "execution_count": 4,
      "outputs": []
    },
    {
      "cell_type": "code",
      "source": [
        "# particionar agrega una columna llamada fold a un dataset\n",
        "#  que consiste en una particion estratificada segun agrupa\n",
        "\n",
        "# particionar( data=dataset, division=c(70,30),\n",
        "#  agrupa=clase_ternaria, seed=semilla)   crea una particion 70, 30\n",
        "\n",
        "particionar <- function(\n",
        "    data, division, agrupa = \"\",\n",
        "    campo = \"fold\", start = 1, seed = NA) {\n",
        "  if (!is.na(seed)) set.seed(seed)\n",
        "\n",
        "  bloque <- unlist(mapply(function(x, y) {\n",
        "    rep(y, x)\n",
        "  }, division, seq(from = start, length.out = length(division))))\n",
        "\n",
        "  data[, (campo) := sample(rep(bloque, ceiling(.N / length(bloque))))[1:.N],\n",
        "    by = agrupa\n",
        "  ]\n",
        "}\n"
      ],
      "metadata": {
        "id": "2BabfKg7NruX"
      },
      "execution_count": 5,
      "outputs": []
    },
    {
      "cell_type": "code",
      "source": [
        "DosArbolesEstimarGanancia <- function(semilla, training_pct, param_rpart1, param_rpart2) {\n",
        "\n",
        "  # fuerzo impresion\n",
        "  print( paste( semilla, Sys.time()) )\n",
        "  flush.console()\n",
        "\n",
        "  # particiono estratificadamente el dataset\n",
        "  particionar(dataset,\n",
        "    division = c(training_pct, 100L -training_pct),\n",
        "    agrupa = \"clase_ternaria\",\n",
        "    seed = semilla # aqui se usa SU semilla\n",
        "  )\n",
        "\n",
        "  # genero el modelo\n",
        "  # predecir clase_ternaria a partir del resto\n",
        "  modelo1 <- rpart(\"clase_ternaria ~ .\",\n",
        "    data = dataset[fold == 1], # fold==1  es training,  el 70% de los datos\n",
        "    xval = 0,\n",
        "    control = param_rpart1\n",
        "  ) # aqui van los parametros del arbol\n",
        "\n",
        "  # aplico el modelo a los datos de testing\n",
        "  prediccion1 <- predict(modelo1, # el modelo que genere recien\n",
        "    dataset[fold == 2], # fold==2  es testing, el 30% de los datos\n",
        "    type = \"prob\"\n",
        "  ) # type= \"prob\"  es que devuelva la probabilidad\n",
        "\n",
        "\n",
        "  # calculo la ganancia en testing  qu es fold==2\n",
        "  ganancia_test1 <- dataset[\n",
        "    fold == 2,\n",
        "    sum(ifelse(prediccion1[, \"BAJA+2\"] > 0.025,\n",
        "      ifelse(clase_ternaria == \"BAJA+2\", 117000, -3000),\n",
        "      0\n",
        "    ))\n",
        "  ]\n",
        "\n",
        "  # escalo la ganancia como si fuera todo el dataset\n",
        "  ganancia_test_normalizada1 <- ganancia_test1 / (( 100 - training_pct ) / 100 )\n",
        "\n",
        "  modelo2 <- rpart(\"clase_ternaria ~ .\",\n",
        "    data = dataset[fold == 1], # fold==1  es training,  el 70% de los datos\n",
        "    xval = 0,\n",
        "    control = param_rpart2\n",
        "  ) # aqui van los parametros del arbol\n",
        "\n",
        "  # aplico el modelo a los datos de testing\n",
        "  prediccion2 <- predict(modelo2, # el modelo que genere recien\n",
        "    dataset[fold == 2], # fold==2  es testing, el 30% de los datos\n",
        "    type = \"prob\"\n",
        "  ) # type= \"prob\"  es que devuelva la probabilidad\n",
        "\n",
        "\n",
        "  # calculo la ganancia en testing  qu es fold==2\n",
        "  ganancia_test2 <- dataset[\n",
        "    fold == 2,\n",
        "    sum(ifelse(prediccion2[, \"BAJA+2\"] > 0.025,\n",
        "      ifelse(clase_ternaria == \"BAJA+2\", 117000, -3000),\n",
        "      0\n",
        "    ))\n",
        "  ]\n",
        "\n",
        "  # escalo la ganancia como si fuera todo el dataset\n",
        "  ganancia_test_normalizada2 <- ganancia_test2 / (( 100 - training_pct ) / 100 )\n",
        "\n",
        "  return(list(\n",
        "    \"semilla\" = semilla,\n",
        "    \"ganancia1\" = ganancia_test_normalizada1,\n",
        "    \"ganancia2\" = ganancia_test_normalizada2\n",
        "  ))\n",
        "}"
      ],
      "metadata": {
        "id": "YrGJgj4UNruZ"
      },
      "execution_count": 6,
      "outputs": []
    },
    {
      "cell_type": "code",
      "source": [
        "# carpeta de trabajo\n",
        "setwd(\"/content/buckets/b1/exp\")\n",
        "experimento <- \"exp206\"\n",
        "dir.create(experimento, showWarnings=FALSE)\n",
        "setwd( paste0(\"/content/buckets/b1/exp/\", experimento ))"
      ],
      "metadata": {
        "id": "2C2yjgQVNrud"
      },
      "execution_count": 7,
      "outputs": []
    },
    {
      "cell_type": "code",
      "source": [
        "# lectura del dataset\n",
        "dataset <- fread(\"/content/datasets/dataset_pequeno.csv\")\n",
        "\n",
        "# trabajo solo con los datos con clase, es decir 202107\n",
        "dataset <- dataset[clase_ternaria != \"\"]"
      ],
      "metadata": {
        "id": "oQeGcBnPNrug"
      },
      "execution_count": 8,
      "outputs": []
    },
    {
      "cell_type": "code",
      "source": [
        "detectCores()"
      ],
      "metadata": {
        "id": "gXKI2eXO9Osx",
        "outputId": "219f4c63-2c30-4020-bec0-6d9b1b89b772",
        "colab": {
          "base_uri": "https://localhost:8080/",
          "height": 34
        }
      },
      "execution_count": 9,
      "outputs": [
        {
          "output_type": "display_data",
          "data": {
            "text/html": [
              "2"
            ],
            "text/markdown": "2",
            "text/latex": "2",
            "text/plain": [
              "[1] 2"
            ]
          },
          "metadata": {}
        }
      ]
    },
    {
      "cell_type": "code",
      "source": [
        "# genero numeros primos\n",
        "primos <- generate_primes(min = 100000, max = 1000000)\n",
        "set.seed(PARAM$semilla_primigenia) # inicializo\n",
        "\n",
        "# me quedo con PARAM$qsemillas   semillas\n",
        "PARAM$semillas <- sample(primos, PARAM$qsemillas )"
      ],
      "metadata": {
        "id": "tU8S7_5ANrui"
      },
      "execution_count": 10,
      "outputs": []
    },
    {
      "cell_type": "code",
      "source": [
        "# demora interminables 60 minutos en correr en Google Colab\n",
        "Sys.time()\n",
        "\n",
        "salidas <- mcmapply( DosArbolesEstimarGanancia,\n",
        "  PARAM$semillas, # paso el vector de semillas\n",
        "  MoreArgs = list(PARAM$training_pct, PARAM$rpart1, PARAM$rpart2), # aqui paso el segundo parametro\n",
        "  SIMPLIFY = FALSE,\n",
        "  mc.cores = detectCores()\n",
        ")\n",
        "\n",
        "Sys.time()"
      ],
      "metadata": {
        "id": "mlF66CgxcHF3",
        "outputId": "37a333a0-26f9-45c8-aa97-970cdb4705c0",
        "colab": {
          "base_uri": "https://localhost:8080/",
          "height": 52
        }
      },
      "execution_count": 11,
      "outputs": [
        {
          "output_type": "display_data",
          "data": {
            "text/plain": [
              "[1] \"2025-10-05 16:54:05 UTC\""
            ]
          },
          "metadata": {}
        },
        {
          "output_type": "display_data",
          "data": {
            "text/plain": [
              "[1] \"2025-10-05 17:51:50 UTC\""
            ]
          },
          "metadata": {}
        }
      ]
    },
    {
      "cell_type": "code",
      "source": [
        "# paso la lista a vector\n",
        "tb_salida <- rbindlist(salidas)\n",
        "tb_salida"
      ],
      "metadata": {
        "id": "_g-_kccdNrum",
        "outputId": "e6be3b41-c096-4b19-a930-791d2120f1c6",
        "colab": {
          "base_uri": "https://localhost:8080/",
          "height": 725
        }
      },
      "execution_count": 12,
      "outputs": [
        {
          "output_type": "display_data",
          "data": {
            "text/html": [
              "<table class=\"dataframe\">\n",
              "<caption>A data.table: 20 × 3</caption>\n",
              "<thead>\n",
              "\t<tr><th scope=col>semilla</th><th scope=col>ganancia1</th><th scope=col>ganancia2</th></tr>\n",
              "\t<tr><th scope=col>&lt;int&gt;</th><th scope=col>&lt;dbl&gt;</th><th scope=col>&lt;dbl&gt;</th></tr>\n",
              "</thead>\n",
              "<tbody>\n",
              "\t<tr><td>872609</td><td>50190000</td><td>41790000</td></tr>\n",
              "\t<tr><td>219881</td><td>52700000</td><td>46840000</td></tr>\n",
              "\t<tr><td>538001</td><td>45520000</td><td>43920000</td></tr>\n",
              "\t<tr><td>804191</td><td>48640000</td><td>44390000</td></tr>\n",
              "\t<tr><td>497279</td><td>51340000</td><td>49110000</td></tr>\n",
              "\t<tr><td>176129</td><td>51730000</td><td>38950000</td></tr>\n",
              "\t<tr><td>765991</td><td>47400000</td><td>37900000</td></tr>\n",
              "\t<tr><td>667673</td><td>47090000</td><td>42740000</td></tr>\n",
              "\t<tr><td>583409</td><td>48700000</td><td>46430000</td></tr>\n",
              "\t<tr><td>104537</td><td>54770000</td><td>47870000</td></tr>\n",
              "\t<tr><td>677119</td><td>47490000</td><td>42500000</td></tr>\n",
              "\t<tr><td>610843</td><td>48870000</td><td>37190000</td></tr>\n",
              "\t<tr><td>822839</td><td>54450000</td><td>47050000</td></tr>\n",
              "\t<tr><td>375923</td><td>39890000</td><td>41880000</td></tr>\n",
              "\t<tr><td>149771</td><td>46670000</td><td>40550000</td></tr>\n",
              "\t<tr><td>985403</td><td>50790000</td><td>49150000</td></tr>\n",
              "\t<tr><td>893933</td><td>56240000</td><td>53160000</td></tr>\n",
              "\t<tr><td>861937</td><td>51480000</td><td>38890000</td></tr>\n",
              "\t<tr><td>146009</td><td>53020000</td><td>41830000</td></tr>\n",
              "\t<tr><td>867371</td><td>51520000</td><td>41710000</td></tr>\n",
              "</tbody>\n",
              "</table>\n"
            ],
            "text/markdown": "\nA data.table: 20 × 3\n\n| semilla &lt;int&gt; | ganancia1 &lt;dbl&gt; | ganancia2 &lt;dbl&gt; |\n|---|---|---|\n| 872609 | 50190000 | 41790000 |\n| 219881 | 52700000 | 46840000 |\n| 538001 | 45520000 | 43920000 |\n| 804191 | 48640000 | 44390000 |\n| 497279 | 51340000 | 49110000 |\n| 176129 | 51730000 | 38950000 |\n| 765991 | 47400000 | 37900000 |\n| 667673 | 47090000 | 42740000 |\n| 583409 | 48700000 | 46430000 |\n| 104537 | 54770000 | 47870000 |\n| 677119 | 47490000 | 42500000 |\n| 610843 | 48870000 | 37190000 |\n| 822839 | 54450000 | 47050000 |\n| 375923 | 39890000 | 41880000 |\n| 149771 | 46670000 | 40550000 |\n| 985403 | 50790000 | 49150000 |\n| 893933 | 56240000 | 53160000 |\n| 861937 | 51480000 | 38890000 |\n| 146009 | 53020000 | 41830000 |\n| 867371 | 51520000 | 41710000 |\n\n",
            "text/latex": "A data.table: 20 × 3\n\\begin{tabular}{lll}\n semilla & ganancia1 & ganancia2\\\\\n <int> & <dbl> & <dbl>\\\\\n\\hline\n\t 872609 & 50190000 & 41790000\\\\\n\t 219881 & 52700000 & 46840000\\\\\n\t 538001 & 45520000 & 43920000\\\\\n\t 804191 & 48640000 & 44390000\\\\\n\t 497279 & 51340000 & 49110000\\\\\n\t 176129 & 51730000 & 38950000\\\\\n\t 765991 & 47400000 & 37900000\\\\\n\t 667673 & 47090000 & 42740000\\\\\n\t 583409 & 48700000 & 46430000\\\\\n\t 104537 & 54770000 & 47870000\\\\\n\t 677119 & 47490000 & 42500000\\\\\n\t 610843 & 48870000 & 37190000\\\\\n\t 822839 & 54450000 & 47050000\\\\\n\t 375923 & 39890000 & 41880000\\\\\n\t 149771 & 46670000 & 40550000\\\\\n\t 985403 & 50790000 & 49150000\\\\\n\t 893933 & 56240000 & 53160000\\\\\n\t 861937 & 51480000 & 38890000\\\\\n\t 146009 & 53020000 & 41830000\\\\\n\t 867371 & 51520000 & 41710000\\\\\n\\end{tabular}\n",
            "text/plain": [
              "   semilla ganancia1 ganancia2\n",
              "1  872609  50190000  41790000 \n",
              "2  219881  52700000  46840000 \n",
              "3  538001  45520000  43920000 \n",
              "4  804191  48640000  44390000 \n",
              "5  497279  51340000  49110000 \n",
              "6  176129  51730000  38950000 \n",
              "7  765991  47400000  37900000 \n",
              "8  667673  47090000  42740000 \n",
              "9  583409  48700000  46430000 \n",
              "10 104537  54770000  47870000 \n",
              "11 677119  47490000  42500000 \n",
              "12 610843  48870000  37190000 \n",
              "13 822839  54450000  47050000 \n",
              "14 375923  39890000  41880000 \n",
              "15 149771  46670000  40550000 \n",
              "16 985403  50790000  49150000 \n",
              "17 893933  56240000  53160000 \n",
              "18 861937  51480000  38890000 \n",
              "19 146009  53020000  41830000 \n",
              "20 867371  51520000  41710000 "
            ]
          },
          "metadata": {}
        }
      ]
    },
    {
      "cell_type": "code",
      "source": [
        "grafico <- ggplot( tb_salida, aes(x=ganancia1)) + geom_density(alpha=0.25, fill=\"green\", color=\"green\")  +\n",
        "             geom_density(data=tb_salida, aes(x=ganancia2), fill=\"purple\", color=\"purple\",  alpha=0.10)\n",
        "\n",
        "print(grafico)"
      ],
      "metadata": {
        "id": "-O0rg6btNrun",
        "outputId": "979c5f4e-57f3-459b-ce25-8e42112c8430",
        "colab": {
          "base_uri": "https://localhost:8080/",
          "height": 437
        }
      },
      "execution_count": 13,
      "outputs": [
        {
          "output_type": "display_data",
          "data": {
            "text/plain": [
              "plot without title"
            ],
            "image/png": "[encoded data removed]"
          },
          "metadata": {
            "image/png": {
              "width": 420,
              "height": 420
            }
          }
        }
      ]
    },
    {
      "cell_type": "code",
      "source": [
        "# imprimo en un .pdf  que va a la carpeta del experimento\n",
        "pdf(\"densidad_dos.pdf\")\n",
        "print(grafico)\n",
        "dev.off()"
      ],
      "metadata": {
        "id": "uSqrazOyU_LC",
        "outputId": "704f5e51-39b5-4b49-88f2-4ccde001ed0c",
        "colab": {
          "base_uri": "https://localhost:8080/",
          "height": 34
        }
      },
      "execution_count": 14,
      "outputs": [
        {
          "output_type": "display_data",
          "data": {
            "text/html": [
              "<strong>agg_record_860406121:</strong> 2"
            ],
            "text/markdown": "**agg_record_860406121:** 2",
            "text/latex": "\\textbf{agg\\textbackslash{}\\_record\\textbackslash{}\\_860406121:} 2",
            "text/plain": [
              "agg_record_860406121 \n",
              "                   2 "
            ]
          },
          "metadata": {}
        }
      ]
    },
    {
      "cell_type": "code",
      "source": [
        "print( tb_salida[ , list( \"arbol1\" = mean( ganancia1),  \"arbol2\" = mean(ganancia2) ) ] )\n",
        "\n",
        "print( tb_salida[ , list( \"prob( m1 > m2)\" = sum(ganancia1 > ganancia2 )/ .N ) ]  )"
      ],
      "metadata": {
        "id": "LGv0LB_4R7US",
        "outputId": "14d19513-7693-4da4-bf42-e5893f0fa67a",
        "colab": {
          "base_uri": "https://localhost:8080/"
        }
      },
      "execution_count": 15,
      "outputs": [
        {
          "output_type": "stream",
          "name": "stdout",
          "text": [
            "     arbol1   arbol2\n",
            "      <num>    <num>\n",
            "1: 49925000 43692500\n",
            "   prob( m1 > m2)\n",
            "            <num>\n",
            "1:           0.95\n"
          ]
        }
      ]
    },
    {
      "cell_type": "markdown",
      "source": [
        "### Acciones a realizar\n",
        "* Reportar la  los resultados en la planilla colaborativa hoja  **C2-dosModelos**\n",
        "* ¿Todos los alumnos hubieran elegido el mismo modelo aun con 20 semillas?"
      ],
      "metadata": {
        "id": "F6lFJf1VTi8b"
      }
    },
    {
      "cell_type": "markdown",
      "source": [
        "\n",
        "\n",
        "---\n",
        "\n"
      ],
      "metadata": {
        "id": "aOpy-XBKTi8n"
      }
    },
    {
      "cell_type": "markdown",
      "source": [
        "# 7 Comparando dos buenos  modelos\n",
        "## Clase 02  Experimento 7"
      ],
      "metadata": {
        "id": "EdzjiJf-dsEK"
      }
    },
    {
      "cell_type": "markdown",
      "source": [
        "## 7.1  Objetivos\n",
        "Presentar a los alumnos la dificultad que surge en la comparación de dos muy distintos, pero ambos buenos, modelos predictivos, y el costo computacional asociado a esa comparación\n",
        "<br>Comparación simple de media de ganancias, versus probabilidad que un modelo sea superior a otro.\n",
        "<br>Limitaciones de la MonteCarlo Cross Validation\n",
        "<br>Existencia del Test de Wilcoxon"
      ],
      "metadata": {
        "id": "FcBjp5XxdsEt"
      }
    },
    {
      "cell_type": "markdown",
      "source": [
        "## 7.2 Introduccion\n",
        "Estos son los dos arboles de muy distinta profundidad.\n",
        "<br>¿Cuál de ellos es mejor? ¿Cuál elijo?\n",
        "\n",
        "| Hiperparámetro | Arbol 1 | Arbol 2 |\n",
        "| --- | --: |  ---: |\n",
        "| cp | -1 | -1 |\n",
        "|minsplit | 170 | 1900 |\n",
        "|minbucket | 70 | 800 |\n",
        "|maxdepth | 7 | 3 |\n",
        "\n"
      ],
      "metadata": {
        "id": "tYcOIcwCdsEu"
      }
    },
    {
      "cell_type": "markdown",
      "source": [
        "## 7.3 Dos buenos modelos"
      ],
      "metadata": {
        "id": "r0NDA7GgdsEu"
      }
    },
    {
      "cell_type": "markdown",
      "source": [
        "Esta parte se debe correr con el runtime en lenguaje **R** Ir al menu, Runtime -> Change Runtime Tipe -> Runtime type -> R"
      ],
      "metadata": {
        "id": "21SJmGd7dsEv"
      }
    },
    {
      "cell_type": "markdown",
      "source": [
        "El tiempo de corrida es de alrededor de 50 minutos"
      ],
      "metadata": {
        "id": "Ne0e08KUt87w"
      }
    },
    {
      "cell_type": "markdown",
      "source": [
        "limpio el ambiente de R"
      ],
      "metadata": {
        "id": "q02SEGNwdsEv"
      }
    },
    {
      "cell_type": "code",
      "source": [
        "# limpio la memoria\n",
        "rm(list=ls(all.names=TRUE)) # remove all objects\n",
        "gc(full=TRUE, verbose=FALSE) # garbage collection"
      ],
      "metadata": {
        "id": "6c2ZJstWdsEw",
        "outputId": "3fa4915a-4307-47bd-ad5f-5df7a281ced1",
        "colab": {
          "base_uri": "https://localhost:8080/",
          "height": 129
        }
      },
      "execution_count": 1,
      "outputs": [
        {
          "output_type": "display_data",
          "data": {
            "text/html": [
              "<table class=\"dataframe\">\n",
              "<caption>A matrix: 2 × 6 of type dbl</caption>\n",
              "<thead>\n",
              "\t<tr><th></th><th scope=col>used</th><th scope=col>(Mb)</th><th scope=col>gc trigger</th><th scope=col>(Mb)</th><th scope=col>max used</th><th scope=col>(Mb)</th></tr>\n",
              "</thead>\n",
              "<tbody>\n",
              "\t<tr><th scope=row>Ncells</th><td> 657245</td><td>35.2</td><td>1454462</td><td>77.7</td><td>1326132</td><td>70.9</td></tr>\n",
              "\t<tr><th scope=row>Vcells</th><td>1220272</td><td> 9.4</td><td>8388608</td><td>64.0</td><td>1975127</td><td>15.1</td></tr>\n",
              "</tbody>\n",
              "</table>\n"
            ],
            "text/markdown": "\nA matrix: 2 × 6 of type dbl\n\n| <!--/--> | used | (Mb) | gc trigger | (Mb) | max used | (Mb) |\n|---|---|---|---|---|---|---|\n| Ncells |  657245 | 35.2 | 1454462 | 77.7 | 1326132 | 70.9 |\n| Vcells | 1220272 |  9.4 | 8388608 | 64.0 | 1975127 | 15.1 |\n\n",
            "text/latex": "A matrix: 2 × 6 of type dbl\n\\begin{tabular}{r|llllll}\n  & used & (Mb) & gc trigger & (Mb) & max used & (Mb)\\\\\n\\hline\n\tNcells &  657245 & 35.2 & 1454462 & 77.7 & 1326132 & 70.9\\\\\n\tVcells & 1220272 &  9.4 & 8388608 & 64.0 & 1975127 & 15.1\\\\\n\\end{tabular}\n",
            "text/plain": [
              "       used    (Mb) gc trigger (Mb) max used (Mb)\n",
              "Ncells  657245 35.2 1454462    77.7 1326132  70.9\n",
              "Vcells 1220272  9.4 8388608    64.0 1975127  15.1"
            ]
          },
          "metadata": {}
        }
      ]
    },
    {
      "cell_type": "markdown",
      "source": [
        "* Instalacion de la libreria  rpart.plot  para dibujar el arbol\n",
        "* invocacion de las librerias  **data.table** y  **rpart**"
      ],
      "metadata": {
        "id": "62MIW0r1dsEx"
      }
    },
    {
      "cell_type": "code",
      "source": [
        "# cargo las librerias que necesito\n",
        "require(\"data.table\")\n",
        "require(\"rpart\")\n",
        "require(\"parallel\")\n",
        "\n",
        "if (!require(\"primes\")) install.packages(\"primes\")\n",
        "require(\"primes\")\n",
        "\n",
        "require(\"ggplot2\")"
      ],
      "metadata": {
        "id": "2Ke4n-N8dsEy",
        "outputId": "03285718-e94b-4b2b-8a00-81292da6e331",
        "colab": {
          "base_uri": "https://localhost:8080/"
        }
      },
      "execution_count": 2,
      "outputs": [
        {
          "output_type": "stream",
          "name": "stderr",
          "text": [
            "Loading required package: data.table\n",
            "\n",
            "Loading required package: rpart\n",
            "\n",
            "Loading required package: parallel\n",
            "\n",
            "Loading required package: primes\n",
            "\n",
            "Loading required package: ggplot2\n",
            "\n"
          ]
        }
      ]
    },
    {
      "cell_type": "markdown",
      "source": [
        "###  Accion a Realizar\n",
        "PARAM$semilla_primigenia  debe reemplazarse por SU primer semilla"
      ],
      "metadata": {
        "id": "UHSoeqi4dsEz"
      }
    },
    {
      "cell_type": "code",
      "source": [
        "PARAM <- list()\n",
        "PARAM$semilla_primigenia <- 101111\n",
        "PARAM$qsemillas <- 50\n",
        "PARAM$training_pct <- 70L     # entre 1 y 100\n"
      ],
      "metadata": {
        "id": "f08_sqfAdsEz"
      },
      "execution_count": 4,
      "outputs": []
    },
    {
      "cell_type": "code",
      "source": [
        "# los dos arboles\n",
        "PARAM$rpart1 <- list (\n",
        "  \"cp\" = -1,\n",
        "  \"minsplit\" = 170,\n",
        "  \"minbucket\" = 70,\n",
        "  \"maxdepth\" = 7\n",
        ")\n",
        "\n",
        "\n",
        "PARAM$rpart2 <- list (\n",
        "  \"cp\" = -1,\n",
        "  \"minsplit\" = 1900,\n",
        "  \"minbucket\" = 800,\n",
        "  \"maxdepth\" = 3\n",
        ")\n"
      ],
      "metadata": {
        "id": "L735D9rydsE0"
      },
      "execution_count": 5,
      "outputs": []
    },
    {
      "cell_type": "code",
      "source": [
        "# particionar agrega una columna llamada fold a un dataset\n",
        "#  que consiste en una particion estratificada segun agrupa\n",
        "\n",
        "# particionar( data=dataset, division=c(70,30),\n",
        "#  agrupa=clase_ternaria, seed=semilla)   crea una particion 70, 30\n",
        "\n",
        "particionar <- function(\n",
        "    data, division, agrupa = \"\",\n",
        "    campo = \"fold\", start = 1, seed = NA) {\n",
        "  if (!is.na(seed)) set.seed(seed)\n",
        "\n",
        "  bloque <- unlist(mapply(function(x, y) {\n",
        "    rep(y, x)\n",
        "  }, division, seq(from = start, length.out = length(division))))\n",
        "\n",
        "  data[, (campo) := sample(rep(bloque, ceiling(.N / length(bloque))))[1:.N],\n",
        "    by = agrupa\n",
        "  ]\n",
        "}\n"
      ],
      "metadata": {
        "id": "O56epLUGdsE1"
      },
      "execution_count": 6,
      "outputs": []
    },
    {
      "cell_type": "code",
      "source": [
        "DosArbolesEstimarGanancia <- function(semilla, training_pct, param_rpart1, param_rpart2) {\n",
        "  # fuerzo impresion\n",
        "  print( paste( semilla, Sys.time()) )\n",
        "  flush.console()\n",
        "\n",
        "  # particiono estratificadamente el dataset\n",
        "  particionar(dataset,\n",
        "    division = c(training_pct, 100L -training_pct),\n",
        "    agrupa = \"clase_ternaria\",\n",
        "    seed = semilla # aqui se usa SU semilla\n",
        "  )\n",
        "\n",
        "  # genero el modelo\n",
        "  # predecir clase_ternaria a partir del resto\n",
        "  modelo1 <- rpart(\"clase_ternaria ~ .\",\n",
        "    data = dataset[fold == 1], # fold==1  es training,  el 70% de los datos\n",
        "    xval = 0,\n",
        "    control = param_rpart1\n",
        "  ) # aqui van los parametros del arbol\n",
        "\n",
        "  # aplico el modelo a los datos de testing\n",
        "  prediccion1 <- predict(modelo1, # el modelo que genere recien\n",
        "    dataset[fold == 2], # fold==2  es testing, el 30% de los datos\n",
        "    type = \"prob\"\n",
        "  ) # type= \"prob\"  es que devuelva la probabilidad\n",
        "\n",
        "\n",
        "  # calculo la ganancia en testing  qu es fold==2\n",
        "  ganancia_test1 <- dataset[\n",
        "    fold == 2,\n",
        "    sum(ifelse(prediccion1[, \"BAJA+2\"] > 0.025,\n",
        "      ifelse(clase_ternaria == \"BAJA+2\", 117000, -3000),\n",
        "      0\n",
        "    ))\n",
        "  ]\n",
        "\n",
        "  # escalo la ganancia como si fuera todo el dataset\n",
        "  ganancia_test_normalizada1 <- ganancia_test1 / (( 100 - training_pct ) / 100 )\n",
        "\n",
        "  modelo2 <- rpart(\"clase_ternaria ~ .\",\n",
        "    data = dataset[fold == 1], # fold==1  es training,  el 70% de los datos\n",
        "    xval = 0,\n",
        "    control = param_rpart2\n",
        "  ) # aqui van los parametros del arbol\n",
        "\n",
        "  # aplico el modelo a los datos de testing\n",
        "  prediccion2 <- predict(modelo2, # el modelo que genere recien\n",
        "    dataset[fold == 2], # fold==2  es testing, el 30% de los datos\n",
        "    type = \"prob\"\n",
        "  ) # type= \"prob\"  es que devuelva la probabilidad\n",
        "\n",
        "\n",
        "  # calculo la ganancia en testing  qu es fold==2\n",
        "  ganancia_test2 <- dataset[\n",
        "    fold == 2,\n",
        "    sum(ifelse(prediccion2[, \"BAJA+2\"] > 0.025,\n",
        "      ifelse(clase_ternaria == \"BAJA+2\", 117000, -3000),\n",
        "      0\n",
        "    ))\n",
        "  ]\n",
        "\n",
        "  # escalo la ganancia como si fuera todo el dataset\n",
        "  ganancia_test_normalizada2 <- ganancia_test2 / (( 100 - training_pct ) / 100 )\n",
        "\n",
        "  return(list(\n",
        "    \"semilla\" = semilla,\n",
        "    \"ganancia1\" = ganancia_test_normalizada1,\n",
        "    \"ganancia2\" = ganancia_test_normalizada2\n",
        "  ))\n",
        "}"
      ],
      "metadata": {
        "id": "Bv_NorLhdsE1"
      },
      "execution_count": 7,
      "outputs": []
    },
    {
      "cell_type": "code",
      "source": [
        "# carpeta de trabajo\n",
        "setwd(\"/content/buckets/b1/exp\")\n",
        "experimento <- \"exp206\"\n",
        "dir.create(experimento, showWarnings=FALSE)\n",
        "setwd( paste0(\"/content/buckets/b1/exp/\", experimento ))"
      ],
      "metadata": {
        "id": "N9GarblIdsE3"
      },
      "execution_count": 8,
      "outputs": []
    },
    {
      "cell_type": "code",
      "source": [
        "# lectura del dataset\n",
        "dataset <- fread(\"/content/datasets/dataset_pequeno.csv\")\n",
        "\n",
        "# trabajo solo con los datos con clase, es decir 202107\n",
        "dataset <- dataset[clase_ternaria != \"\"]"
      ],
      "metadata": {
        "id": "Z05r3wdTdsE3"
      },
      "execution_count": 9,
      "outputs": []
    },
    {
      "cell_type": "code",
      "source": [
        "# genero numeros primos\n",
        "primos <- generate_primes(min = 100000, max = 1000000)\n",
        "set.seed(PARAM$semilla_primigenia) # inicializo\n",
        "\n",
        "# me quedo con PARAM$qsemillas   semillas\n",
        "PARAM$semillas <- sample(primos, PARAM$qsemillas )"
      ],
      "metadata": {
        "id": "m8ODrVrndsE4"
      },
      "execution_count": 10,
      "outputs": []
    },
    {
      "cell_type": "code",
      "source": [
        "# la funcion mcmapply  llama a la funcion DosArbolesEstimarGanancia\n",
        "#  tantas veces como valores tenga el vector  PARAM$semillas\n",
        "Sys.time()\n",
        "\n",
        "salidas <- mcmapply( DosArbolesEstimarGanancia,\n",
        "  PARAM$semillas, # paso el vector de semillas\n",
        "  MoreArgs = list(PARAM$training_pct, PARAM$rpart1, PARAM$rpart2), # aqui paso el segundo parametro\n",
        "  SIMPLIFY = FALSE,\n",
        "  mc.cores = detectCores()\n",
        ")\n",
        "\n",
        "Sys.time()"
      ],
      "metadata": {
        "id": "KQBhUXxJdsE5",
        "outputId": "bb64117e-8cf6-48dc-a077-c53f907ac9a7",
        "colab": {
          "base_uri": "https://localhost:8080/",
          "height": 52
        }
      },
      "execution_count": 11,
      "outputs": [
        {
          "output_type": "display_data",
          "data": {
            "text/plain": [
              "[1] \"2025-10-05 21:30:38 UTC\""
            ]
          },
          "metadata": {}
        },
        {
          "output_type": "display_data",
          "data": {
            "text/plain": [
              "[1] \"2025-10-05 22:36:33 UTC\""
            ]
          },
          "metadata": {}
        }
      ]
    },
    {
      "cell_type": "code",
      "source": [
        "# paso la lista a vector\n",
        "tb_salida <- rbindlist(salidas)\n",
        "tb_salida"
      ],
      "metadata": {
        "id": "N0eS1CFFdsE5",
        "outputId": "f06bd0bb-5ab5-4391-9027-951bd7dd1258",
        "colab": {
          "base_uri": "https://localhost:8080/",
          "height": 1000
        }
      },
      "execution_count": 12,
      "outputs": [
        {
          "output_type": "display_data",
          "data": {
            "text/html": [
              "<table class=\"dataframe\">\n",
              "<caption>A data.table: 50 × 3</caption>\n",
              "<thead>\n",
              "\t<tr><th scope=col>semilla</th><th scope=col>ganancia1</th><th scope=col>ganancia2</th></tr>\n",
              "\t<tr><th scope=col>&lt;int&gt;</th><th scope=col>&lt;dbl&gt;</th><th scope=col>&lt;dbl&gt;</th></tr>\n",
              "</thead>\n",
              "<tbody>\n",
              "\t<tr><td>872609</td><td>50190000</td><td>46860000</td></tr>\n",
              "\t<tr><td>219881</td><td>52700000</td><td>52320000</td></tr>\n",
              "\t<tr><td>538001</td><td>45520000</td><td>47930000</td></tr>\n",
              "\t<tr><td>804191</td><td>48640000</td><td>47300000</td></tr>\n",
              "\t<tr><td>497279</td><td>51340000</td><td>51410000</td></tr>\n",
              "\t<tr><td>176129</td><td>51730000</td><td>49960000</td></tr>\n",
              "\t<tr><td>765991</td><td>47400000</td><td>45770000</td></tr>\n",
              "\t<tr><td>667673</td><td>47090000</td><td>47470000</td></tr>\n",
              "\t<tr><td>583409</td><td>48700000</td><td>45040000</td></tr>\n",
              "\t<tr><td>104537</td><td>54770000</td><td>56980000</td></tr>\n",
              "\t<tr><td>677119</td><td>47490000</td><td>50110000</td></tr>\n",
              "\t<tr><td>610843</td><td>48870000</td><td>45380000</td></tr>\n",
              "\t<tr><td>822839</td><td>54450000</td><td>52720000</td></tr>\n",
              "\t<tr><td>375923</td><td>39890000</td><td>43570000</td></tr>\n",
              "\t<tr><td>149771</td><td>46670000</td><td>47280000</td></tr>\n",
              "\t<tr><td>985403</td><td>50790000</td><td>51970000</td></tr>\n",
              "\t<tr><td>893933</td><td>56240000</td><td>53440000</td></tr>\n",
              "\t<tr><td>861937</td><td>51480000</td><td>50430000</td></tr>\n",
              "\t<tr><td>146009</td><td>53020000</td><td>50030000</td></tr>\n",
              "\t<tr><td>867371</td><td>51520000</td><td>51770000</td></tr>\n",
              "\t<tr><td>576013</td><td>49270000</td><td>44880000</td></tr>\n",
              "\t<tr><td>657947</td><td>49680000</td><td>49790000</td></tr>\n",
              "\t<tr><td>630193</td><td>47060000</td><td>38540000</td></tr>\n",
              "\t<tr><td>531281</td><td>46150000</td><td>45220000</td></tr>\n",
              "\t<tr><td>371561</td><td>48990000</td><td>47590000</td></tr>\n",
              "\t<tr><td>726367</td><td>48330000</td><td>46220000</td></tr>\n",
              "\t<tr><td>224129</td><td>47590000</td><td>48210000</td></tr>\n",
              "\t<tr><td>584399</td><td>48960000</td><td>47580000</td></tr>\n",
              "\t<tr><td>925961</td><td>43780000</td><td>42970000</td></tr>\n",
              "\t<tr><td>732023</td><td>51750000</td><td>50770000</td></tr>\n",
              "\t<tr><td>785803</td><td>52400000</td><td>50630000</td></tr>\n",
              "\t<tr><td>395611</td><td>41120000</td><td>46220000</td></tr>\n",
              "\t<tr><td>896009</td><td>45910000</td><td>48600000</td></tr>\n",
              "\t<tr><td>526763</td><td>43150000</td><td>40930000</td></tr>\n",
              "\t<tr><td>305329</td><td>44730000</td><td>47540000</td></tr>\n",
              "\t<tr><td>702469</td><td>42190000</td><td>43300000</td></tr>\n",
              "\t<tr><td>827213</td><td>49550000</td><td>48020000</td></tr>\n",
              "\t<tr><td>754979</td><td>48540000</td><td>42160000</td></tr>\n",
              "\t<tr><td>929057</td><td>44940000</td><td>45520000</td></tr>\n",
              "\t<tr><td>400243</td><td>50740000</td><td>52990000</td></tr>\n",
              "\t<tr><td>481133</td><td>46850000</td><td>48810000</td></tr>\n",
              "\t<tr><td>629773</td><td>48430000</td><td>45510000</td></tr>\n",
              "\t<tr><td>274811</td><td>50050000</td><td>49260000</td></tr>\n",
              "\t<tr><td>474037</td><td>46510000</td><td>48380000</td></tr>\n",
              "\t<tr><td>333719</td><td>48620000</td><td>44160000</td></tr>\n",
              "\t<tr><td>653713</td><td>52920000</td><td>48470000</td></tr>\n",
              "\t<tr><td>152767</td><td>55340000</td><td>51290000</td></tr>\n",
              "\t<tr><td>156677</td><td>45220000</td><td>42510000</td></tr>\n",
              "\t<tr><td>892861</td><td>44560000</td><td>42460000</td></tr>\n",
              "\t<tr><td>727409</td><td>48090000</td><td>44810000</td></tr>\n",
              "</tbody>\n",
              "</table>\n"
            ],
            "text/markdown": "\nA data.table: 50 × 3\n\n| semilla &lt;int&gt; | ganancia1 &lt;dbl&gt; | ganancia2 &lt;dbl&gt; |\n|---|---|---|\n| 872609 | 50190000 | 46860000 |\n| 219881 | 52700000 | 52320000 |\n| 538001 | 45520000 | 47930000 |\n| 804191 | 48640000 | 47300000 |\n| 497279 | 51340000 | 51410000 |\n| 176129 | 51730000 | 49960000 |\n| 765991 | 47400000 | 45770000 |\n| 667673 | 47090000 | 47470000 |\n| 583409 | 48700000 | 45040000 |\n| 104537 | 54770000 | 56980000 |\n| 677119 | 47490000 | 50110000 |\n| 610843 | 48870000 | 45380000 |\n| 822839 | 54450000 | 52720000 |\n| 375923 | 39890000 | 43570000 |\n| 149771 | 46670000 | 47280000 |\n| 985403 | 50790000 | 51970000 |\n| 893933 | 56240000 | 53440000 |\n| 861937 | 51480000 | 50430000 |\n| 146009 | 53020000 | 50030000 |\n| 867371 | 51520000 | 51770000 |\n| 576013 | 49270000 | 44880000 |\n| 657947 | 49680000 | 49790000 |\n| 630193 | 47060000 | 38540000 |\n| 531281 | 46150000 | 45220000 |\n| 371561 | 48990000 | 47590000 |\n| 726367 | 48330000 | 46220000 |\n| 224129 | 47590000 | 48210000 |\n| 584399 | 48960000 | 47580000 |\n| 925961 | 43780000 | 42970000 |\n| 732023 | 51750000 | 50770000 |\n| 785803 | 52400000 | 50630000 |\n| 395611 | 41120000 | 46220000 |\n| 896009 | 45910000 | 48600000 |\n| 526763 | 43150000 | 40930000 |\n| 305329 | 44730000 | 47540000 |\n| 702469 | 42190000 | 43300000 |\n| 827213 | 49550000 | 48020000 |\n| 754979 | 48540000 | 42160000 |\n| 929057 | 44940000 | 45520000 |\n| 400243 | 50740000 | 52990000 |\n| 481133 | 46850000 | 48810000 |\n| 629773 | 48430000 | 45510000 |\n| 274811 | 50050000 | 49260000 |\n| 474037 | 46510000 | 48380000 |\n| 333719 | 48620000 | 44160000 |\n| 653713 | 52920000 | 48470000 |\n| 152767 | 55340000 | 51290000 |\n| 156677 | 45220000 | 42510000 |\n| 892861 | 44560000 | 42460000 |\n| 727409 | 48090000 | 44810000 |\n\n",
            "text/latex": "A data.table: 50 × 3\n\\begin{tabular}{lll}\n semilla & ganancia1 & ganancia2\\\\\n <int> & <dbl> & <dbl>\\\\\n\\hline\n\t 872609 & 50190000 & 46860000\\\\\n\t 219881 & 52700000 & 52320000\\\\\n\t 538001 & 45520000 & 47930000\\\\\n\t 804191 & 48640000 & 47300000\\\\\n\t 497279 & 51340000 & 51410000\\\\\n\t 176129 & 51730000 & 49960000\\\\\n\t 765991 & 47400000 & 45770000\\\\\n\t 667673 & 47090000 & 47470000\\\\\n\t 583409 & 48700000 & 45040000\\\\\n\t 104537 & 54770000 & 56980000\\\\\n\t 677119 & 47490000 & 50110000\\\\\n\t 610843 & 48870000 & 45380000\\\\\n\t 822839 & 54450000 & 52720000\\\\\n\t 375923 & 39890000 & 43570000\\\\\n\t 149771 & 46670000 & 47280000\\\\\n\t 985403 & 50790000 & 51970000\\\\\n\t 893933 & 56240000 & 53440000\\\\\n\t 861937 & 51480000 & 50430000\\\\\n\t 146009 & 53020000 & 50030000\\\\\n\t 867371 & 51520000 & 51770000\\\\\n\t 576013 & 49270000 & 44880000\\\\\n\t 657947 & 49680000 & 49790000\\\\\n\t 630193 & 47060000 & 38540000\\\\\n\t 531281 & 46150000 & 45220000\\\\\n\t 371561 & 48990000 & 47590000\\\\\n\t 726367 & 48330000 & 46220000\\\\\n\t 224129 & 47590000 & 48210000\\\\\n\t 584399 & 48960000 & 47580000\\\\\n\t 925961 & 43780000 & 42970000\\\\\n\t 732023 & 51750000 & 50770000\\\\\n\t 785803 & 52400000 & 50630000\\\\\n\t 395611 & 41120000 & 46220000\\\\\n\t 896009 & 45910000 & 48600000\\\\\n\t 526763 & 43150000 & 40930000\\\\\n\t 305329 & 44730000 & 47540000\\\\\n\t 702469 & 42190000 & 43300000\\\\\n\t 827213 & 49550000 & 48020000\\\\\n\t 754979 & 48540000 & 42160000\\\\\n\t 929057 & 44940000 & 45520000\\\\\n\t 400243 & 50740000 & 52990000\\\\\n\t 481133 & 46850000 & 48810000\\\\\n\t 629773 & 48430000 & 45510000\\\\\n\t 274811 & 50050000 & 49260000\\\\\n\t 474037 & 46510000 & 48380000\\\\\n\t 333719 & 48620000 & 44160000\\\\\n\t 653713 & 52920000 & 48470000\\\\\n\t 152767 & 55340000 & 51290000\\\\\n\t 156677 & 45220000 & 42510000\\\\\n\t 892861 & 44560000 & 42460000\\\\\n\t 727409 & 48090000 & 44810000\\\\\n\\end{tabular}\n",
            "text/plain": [
              "   semilla ganancia1 ganancia2\n",
              "1  872609  50190000  46860000 \n",
              "2  219881  52700000  52320000 \n",
              "3  538001  45520000  47930000 \n",
              "4  804191  48640000  47300000 \n",
              "5  497279  51340000  51410000 \n",
              "6  176129  51730000  49960000 \n",
              "7  765991  47400000  45770000 \n",
              "8  667673  47090000  47470000 \n",
              "9  583409  48700000  45040000 \n",
              "10 104537  54770000  56980000 \n",
              "11 677119  47490000  50110000 \n",
              "12 610843  48870000  45380000 \n",
              "13 822839  54450000  52720000 \n",
              "14 375923  39890000  43570000 \n",
              "15 149771  46670000  47280000 \n",
              "16 985403  50790000  51970000 \n",
              "17 893933  56240000  53440000 \n",
              "18 861937  51480000  50430000 \n",
              "19 146009  53020000  50030000 \n",
              "20 867371  51520000  51770000 \n",
              "21 576013  49270000  44880000 \n",
              "22 657947  49680000  49790000 \n",
              "23 630193  47060000  38540000 \n",
              "24 531281  46150000  45220000 \n",
              "25 371561  48990000  47590000 \n",
              "26 726367  48330000  46220000 \n",
              "27 224129  47590000  48210000 \n",
              "28 584399  48960000  47580000 \n",
              "29 925961  43780000  42970000 \n",
              "30 732023  51750000  50770000 \n",
              "31 785803  52400000  50630000 \n",
              "32 395611  41120000  46220000 \n",
              "33 896009  45910000  48600000 \n",
              "34 526763  43150000  40930000 \n",
              "35 305329  44730000  47540000 \n",
              "36 702469  42190000  43300000 \n",
              "37 827213  49550000  48020000 \n",
              "38 754979  48540000  42160000 \n",
              "39 929057  44940000  45520000 \n",
              "40 400243  50740000  52990000 \n",
              "41 481133  46850000  48810000 \n",
              "42 629773  48430000  45510000 \n",
              "43 274811  50050000  49260000 \n",
              "44 474037  46510000  48380000 \n",
              "45 333719  48620000  44160000 \n",
              "46 653713  52920000  48470000 \n",
              "47 152767  55340000  51290000 \n",
              "48 156677  45220000  42510000 \n",
              "49 892861  44560000  42460000 \n",
              "50 727409  48090000  44810000 "
            ]
          },
          "metadata": {}
        }
      ]
    },
    {
      "cell_type": "code",
      "source": [
        "grafico <- ggplot(tb_salida) + geom_density(aes(x=ganancia1), alpha=0.25, fill=\"green\", color=\"green\")  +\n",
        "             geom_density(aes(x=ganancia2), fill=\"purple\", color=\"purple\",  alpha=0.10)\n",
        "\n",
        "print(grafico)"
      ],
      "metadata": {
        "id": "6vf28ujAdsE6",
        "outputId": "755fc257-7b9b-46c6-ef0d-ec1ee6a72666",
        "colab": {
          "base_uri": "https://localhost:8080/",
          "height": 437
        }
      },
      "execution_count": 16,
      "outputs": [
        {
          "output_type": "display_data",
          "data": {
            "text/plain": [
              "plot without title"
            ],
            "image/png": "[encoded data removed]"
          },
          "metadata": {
            "image/png": {
              "width": 420,
              "height": 420
            }
          }
        }
      ]
    },
    {
      "cell_type": "code",
      "source": [
        "# imprimo en un .pdf  que va a la carpeta del experimento\n",
        "pdf(\"densidad_dos.pdf\")\n",
        "print(grafico)\n",
        "dev.off()"
      ],
      "metadata": {
        "id": "TA9lLa6-dsE6",
        "outputId": "3ced52f1-83d7-411e-d6a8-885d258753c4",
        "colab": {
          "base_uri": "https://localhost:8080/",
          "height": 34
        }
      },
      "execution_count": 17,
      "outputs": [
        {
          "output_type": "display_data",
          "data": {
            "text/html": [
              "<strong>agg_record_452673445:</strong> 2"
            ],
            "text/markdown": "**agg_record_452673445:** 2",
            "text/latex": "\\textbf{agg\\textbackslash{}\\_record\\textbackslash{}\\_452673445:} 2",
            "text/plain": [
              "agg_record_452673445 \n",
              "                   2 "
            ]
          },
          "metadata": {}
        }
      ]
    },
    {
      "cell_type": "code",
      "source": [
        "# medias de las ganancias\n",
        "print( tb_salida[ , list( \"arbol1\" = mean( ganancia1),  \"arbol2\" = mean(ganancia2) ) ] )\n"
      ],
      "metadata": {
        "id": "xAOpyZTqdsE7",
        "outputId": "5913682c-2cf0-41d2-bec7-b1002e172c00",
        "colab": {
          "base_uri": "https://localhost:8080/"
        }
      },
      "execution_count": 18,
      "outputs": [
        {
          "output_type": "stream",
          "name": "stdout",
          "text": [
            "     arbol1   arbol2\n",
            "      <num>    <num>\n",
            "1: 48598400 47621600\n"
          ]
        }
      ]
    },
    {
      "cell_type": "code",
      "source": [
        "# probabilidad que m1 sea mayor a m2\n",
        "print( tb_salida[ , list( \"prob( m1 > m2)\" = sum(ganancia1 > ganancia2 )/ .N ) ]  )"
      ],
      "metadata": {
        "id": "8rdPIcfzgob7",
        "outputId": "8c8ec76f-eb33-4c97-de66-510fdcbdf4b1",
        "colab": {
          "base_uri": "https://localhost:8080/"
        }
      },
      "execution_count": 19,
      "outputs": [
        {
          "output_type": "stream",
          "name": "stdout",
          "text": [
            "   prob( m1 > m2)\n",
            "            <num>\n",
            "1:           0.62\n"
          ]
        }
      ]
    },
    {
      "cell_type": "markdown",
      "source": [
        "### Acciones a realizar\n",
        "* Reportar la  los resultados en la planilla colaborativa hoja  **C2-dosBuenos**\n"
      ],
      "metadata": {
        "id": "nNNJWYRadsE7"
      }
    },
    {
      "cell_type": "markdown",
      "source": [
        "\n",
        "\n",
        "---\n",
        "\n"
      ],
      "metadata": {
        "id": "LTBEq6SEdsE8"
      }
    },
    {
      "cell_type": "markdown",
      "source": [],
      "metadata": {
        "id": "ebcTZX7Sg1Le"
      }
    },
    {
      "cell_type": "markdown",
      "source": [
        "# 8 Test de Wilcoxon\n",
        "## Clase 02  Experimento 8"
      ],
      "metadata": {
        "id": "RAtn4x6Bg1u1"
      }
    },
    {
      "cell_type": "markdown",
      "source": [],
      "metadata": {
        "id": "RWxjnSsVg_ol"
      }
    },
    {
      "cell_type": "markdown",
      "source": [
        "## 8.1  Objetivos\n",
        "\n",
        "¿Como calcular la cantidad mínima de semillas que hacen falta para tener cierta certeza que un modelo es superior a otro?"
      ],
      "metadata": {
        "id": "Gf0LF3ywhAEU"
      }
    },
    {
      "cell_type": "markdown",
      "source": [
        "## 8.2  Introduccion\n",
        "\n",
        "| Hiperparámetro | Arbol 1 | Arbol 2 |\n",
        "| --- | --: |  ---: |\n",
        "| cp | -1 | -1 |\n",
        "|minsplit | 170 | 250 |\n",
        "|minbucket | 70 | 125 |\n",
        "|maxdepth | 7 | 20 |\n",
        "\n",
        "<br>\n",
        "<br>\n",
        "\n",
        "\n",
        "| ordinal | semilla | ganancia1 | ganancia2 | p-value |\n",
        "| --- | --- |  --- |  --- |  --- |\n",
        "| 1 |378821 | 41,470,000 | 37,790,000 | 1.000 |\n",
        "| 2 | 964333  | 48,480,000  | 43,660,000 | 0.500 |\n",
        "| 3 | 187049 | 50,610,000 | 47,840,000 | 0.250 |\n",
        "| 4 | 205151 | 45,580,000 | 44,490,000 | 0.125 |\n",
        "| 5 | 813697 | 52,780,000 | 46,750,000 |  0.063 |\n",
        "| 6 | 344719 | 49,970,000 | 44,300,000 | 0.031 |\n",
        "|7 |127217  |52,810,000 | 42,840,000 |0.016 |\n",
        "| 8 | 464371 | 43,060,000 | 37,300,000 | 0.008 |\n",
        "| 9 | 645137 | 49,660,000 |43,730,000 | 0.004|\n",
        "\n",
        "\n"
      ],
      "metadata": {
        "id": "k4PJGTDViZne"
      }
    },
    {
      "cell_type": "markdown",
      "source": [
        "## 8.3 Codigo Test de Wilcoxon"
      ],
      "metadata": {
        "id": "gAeSRdWRhg61"
      }
    },
    {
      "cell_type": "code",
      "source": [
        "# 1 sola ganancia\n",
        "wilcox.test(\n",
        "  c(41470000),\n",
        "  c(37790000),\n",
        "  paired = TRUE\n",
        ")\n"
      ],
      "metadata": {
        "id": "6r5M0J0HdsE8",
        "outputId": "ff869112-40b4-4ee5-f049-86db5dc0e037",
        "colab": {
          "base_uri": "https://localhost:8080/",
          "height": 121
        }
      },
      "execution_count": 20,
      "outputs": [
        {
          "output_type": "display_data",
          "data": {
            "text/plain": [
              "\n",
              "\tWilcoxon signed rank exact test\n",
              "\n",
              "data:  c(41470000) and c(37790000)\n",
              "V = 1, p-value = 1\n",
              "alternative hypothesis: true location shift is not equal to 0\n"
            ]
          },
          "metadata": {}
        }
      ]
    },
    {
      "cell_type": "code",
      "source": [
        "# 2 ganancias\n",
        "wilcox.test(\n",
        "  c(41470000, 48480000),\n",
        "  c(37790000, 43660000),\n",
        "  paired = TRUE\n",
        ")\n"
      ],
      "metadata": {
        "id": "1pscqL9vLzYE",
        "outputId": "eb4f0e12-4ecf-4f80-a6ea-566af0243932",
        "colab": {
          "base_uri": "https://localhost:8080/",
          "height": 121
        }
      },
      "execution_count": 21,
      "outputs": [
        {
          "output_type": "display_data",
          "data": {
            "text/plain": [
              "\n",
              "\tWilcoxon signed rank exact test\n",
              "\n",
              "data:  c(41470000, 48480000) and c(37790000, 43660000)\n",
              "V = 3, p-value = 0.5\n",
              "alternative hypothesis: true location shift is not equal to 0\n"
            ]
          },
          "metadata": {}
        }
      ]
    },
    {
      "cell_type": "code",
      "source": [
        "# 3 ganancias\n",
        "wilcox.test(\n",
        "  c(41470000, 48480000, 50610000),\n",
        "  c(37790000, 43660000, 47840000),\n",
        "  paired = TRUE\n",
        ")"
      ],
      "metadata": {
        "id": "p3f_mtKwhSHA",
        "outputId": "df784107-a6cc-4a26-c7e3-10e245dd0248",
        "colab": {
          "base_uri": "https://localhost:8080/",
          "height": 121
        }
      },
      "execution_count": 22,
      "outputs": [
        {
          "output_type": "display_data",
          "data": {
            "text/plain": [
              "\n",
              "\tWilcoxon signed rank exact test\n",
              "\n",
              "data:  c(41470000, 48480000, 50610000) and c(37790000, 43660000, 47840000)\n",
              "V = 6, p-value = 0.25\n",
              "alternative hypothesis: true location shift is not equal to 0\n"
            ]
          },
          "metadata": {}
        }
      ]
    },
    {
      "cell_type": "code",
      "source": [
        "# 4 ganancias\n",
        "wilcox.test(\n",
        "  c(41470000, 48480000, 50610000, 45580000),\n",
        "  c(37790000, 43660000, 47840000, 44490000),\n",
        "  paired = TRUE\n",
        ")\n"
      ],
      "metadata": {
        "id": "-ijX69r9hT6Z",
        "outputId": "4d3dc551-0005-4446-c35f-01c825104b75",
        "colab": {
          "base_uri": "https://localhost:8080/",
          "height": 121
        }
      },
      "execution_count": 23,
      "outputs": [
        {
          "output_type": "display_data",
          "data": {
            "text/plain": [
              "\n",
              "\tWilcoxon signed rank exact test\n",
              "\n",
              "data:  c(41470000, 48480000, 50610000, 45580000) and c(37790000, 43660000, 47840000, 44490000)\n",
              "V = 10, p-value = 0.125\n",
              "alternative hypothesis: true location shift is not equal to 0\n"
            ]
          },
          "metadata": {}
        }
      ]
    },
    {
      "cell_type": "code",
      "source": [
        "# 5 ganancias\n",
        "wilcox.test(\n",
        "  c(41470000, 48480000, 50610000, 45580000, 52780000),\n",
        "  c(37790000, 43660000, 47840000, 44490000, 46750000),\n",
        "  paired = TRUE\n",
        ")"
      ],
      "metadata": {
        "id": "X9J_CHGehVfr",
        "outputId": "2b90b256-dd9f-4ce5-c30f-0d2e6049a6af",
        "colab": {
          "base_uri": "https://localhost:8080/",
          "height": 121
        }
      },
      "execution_count": 24,
      "outputs": [
        {
          "output_type": "display_data",
          "data": {
            "text/plain": [
              "\n",
              "\tWilcoxon signed rank exact test\n",
              "\n",
              "data:  c(41470000, 48480000, 50610000, 45580000, 52780000) and c(37790000, 43660000, 47840000, 44490000, 46750000)\n",
              "V = 15, p-value = 0.0625\n",
              "alternative hypothesis: true location shift is not equal to 0\n"
            ]
          },
          "metadata": {}
        }
      ]
    },
    {
      "cell_type": "code",
      "source": [
        "# 6 ganancias\n",
        "wilcox.test(\n",
        "  c(41470000, 48480000, 50610000, 45580000, 52780000, 49970000),\n",
        "  c(37790000, 43660000, 47840000, 44490000, 46750000, 44300000),\n",
        "  paired = TRUE\n",
        ")"
      ],
      "metadata": {
        "id": "H3CNNonOhXp0",
        "outputId": "5d49509c-5fd5-41ed-fd38-db1e9b7c5f2c",
        "colab": {
          "base_uri": "https://localhost:8080/",
          "height": 138
        }
      },
      "execution_count": 25,
      "outputs": [
        {
          "output_type": "display_data",
          "data": {
            "text/plain": [
              "\n",
              "\tWilcoxon signed rank exact test\n",
              "\n",
              "data:  c(41470000, 48480000, 50610000, 45580000, 52780000, 49970000) and c(37790000, 43660000, 47840000, 44490000, 46750000, 44300000)\n",
              "V = 21, p-value = 0.03125\n",
              "alternative hypothesis: true location shift is not equal to 0\n"
            ]
          },
          "metadata": {}
        }
      ]
    },
    {
      "cell_type": "code",
      "source": [
        "# Finalmente el p-value es  0.03125  < 0.05\n",
        "# hicieron falta  SEIS semillas, seis ganancias, para\n",
        "#   afirmar que el modelo 1 es superior al modelo 2\n",
        "\n",
        "# 7 ganancias\n",
        "wilcox.test(\n",
        "  c(41470000, 48480000, 50610000, 45580000, 52780000, 49970000, 52810000),\n",
        "  c(37790000, 43660000, 47840000, 44490000, 46750000, 44300000, 42840000),\n",
        "  paired = TRUE\n",
        ")\n"
      ],
      "metadata": {
        "id": "NTW8kwY8hamz",
        "outputId": "1ead5282-9cf5-4c6a-c116-7cd04b79bb5c",
        "colab": {
          "base_uri": "https://localhost:8080/",
          "height": 138
        }
      },
      "execution_count": 26,
      "outputs": [
        {
          "output_type": "display_data",
          "data": {
            "text/plain": [
              "\n",
              "\tWilcoxon signed rank exact test\n",
              "\n",
              "data:  c(41470000, 48480000, 50610000, 45580000, 52780000, 49970000, 52810000) and c(37790000, 43660000, 47840000, 44490000, 46750000, 44300000, 42840000)\n",
              "V = 28, p-value = 0.01563\n",
              "alternative hypothesis: true location shift is not equal to 0\n"
            ]
          },
          "metadata": {}
        }
      ]
    },
    {
      "cell_type": "code",
      "source": [
        "# 8 ganancias\n",
        "wilcox.test(\n",
        "  c(41470000, 48480000, 50610000, 45580000, 52780000, 49970000, 52810000, 43060000),\n",
        "  c(37790000, 43660000, 47840000, 44490000, 46750000, 44300000, 42840000, 37300000),\n",
        "  paired = TRUE\n",
        ")\n"
      ],
      "metadata": {
        "id": "Xks918w8hcgC",
        "outputId": "c9b58f94-64b1-4b5f-a156-a5ac723ced07",
        "colab": {
          "base_uri": "https://localhost:8080/",
          "height": 138
        }
      },
      "execution_count": 27,
      "outputs": [
        {
          "output_type": "display_data",
          "data": {
            "text/plain": [
              "\n",
              "\tWilcoxon signed rank exact test\n",
              "\n",
              "data:  c(41470000, 48480000, 50610000, 45580000, 52780000, 49970000, 52810000, 43060000) and c(37790000, 43660000, 47840000, 44490000, 46750000, 44300000, 42840000, 37300000)\n",
              "V = 36, p-value = 0.007813\n",
              "alternative hypothesis: true location shift is not equal to 0\n"
            ]
          },
          "metadata": {}
        }
      ]
    },
    {
      "cell_type": "code",
      "source": [
        "# 9 ganancias\n",
        "wilcox.test(\n",
        "  c(41470000, 48480000, 50610000, 45580000, 52780000, 49970000, 52810000, 43060000, 49660000),\n",
        "  c(37790000, 43660000, 47840000, 44490000, 46750000, 44300000, 42840000, 37300000, 43730000),\n",
        "  paired = TRUE\n",
        ")"
      ],
      "metadata": {
        "id": "5x8L1PMGhdJR",
        "outputId": "73530988-226b-4201-ec61-22aa6061bb73",
        "colab": {
          "base_uri": "https://localhost:8080/",
          "height": 138
        }
      },
      "execution_count": 28,
      "outputs": [
        {
          "output_type": "display_data",
          "data": {
            "text/plain": [
              "\n",
              "\tWilcoxon signed rank exact test\n",
              "\n",
              "data:  c(41470000, 48480000, 50610000, 45580000, 52780000, 49970000, 52810000, 43060000, 49660000) and c(37790000, 43660000, 47840000, 44490000, 46750000, 44300000, 42840000, 37300000, 43730000)\n",
              "V = 45, p-value = 0.003906\n",
              "alternative hypothesis: true location shift is not equal to 0\n"
            ]
          },
          "metadata": {}
        }
      ]
    },
    {
      "cell_type": "markdown",
      "source": [
        "\n",
        "\n",
        "---\n",
        "\n"
      ],
      "metadata": {
        "id": "Qjay2WBIkhNm"
      }
    },
    {
      "cell_type": "markdown",
      "source": [
        "# 9 Comparando automaticamente modelos con test de Wilcoxon\n",
        "## Clase 02  Experimento 9"
      ],
      "metadata": {
        "id": "g2aqxlCIk3fk"
      }
    },
    {
      "cell_type": "markdown",
      "source": [],
      "metadata": {
        "id": "FhCY4sH8k3fw"
      }
    },
    {
      "cell_type": "markdown",
      "source": [
        "## 9.1  Objetivos\n",
        "\n",
        "Proveer un script que permita comparar dos arboles de decisión con la librería rpart utilizando la menor cantidad de cómputo que permita el Test de Wilxcoxon"
      ],
      "metadata": {
        "id": "a_ZVBKBHk3fx"
      }
    },
    {
      "cell_type": "markdown",
      "source": [
        "## 9.2  Introduccion\n",
        "\n",
        "| Hiperparámetro | Arbol 1 | Arbol 2 |\n",
        "| --- | --- |  --- |\n",
        "| cp | -1 | -1 |\n",
        "|minsplit | 1050 | 650 |\n",
        "|minbucket | 550 | 300 |\n",
        "|maxdepth |67 | 6 |\n",
        "\n",
        "\n"
      ],
      "metadata": {
        "id": "qCd56L0Ik3fx"
      }
    },
    {
      "cell_type": "markdown",
      "source": [
        "## 9.3 Codigo comparacion automatica Wilcoxon"
      ],
      "metadata": {
        "id": "NBtQsG3vk3fx"
      }
    },
    {
      "cell_type": "markdown",
      "source": [
        "Esta parte se debe correr con el runtime en lenguaje **R** Ir al menu, Runtime -> Change Runtime Tipe -> Runtime type -> R"
      ],
      "metadata": {
        "id": "-ARzDPORlpG6"
      }
    },
    {
      "cell_type": "markdown",
      "source": [
        "limpio el ambiente de R"
      ],
      "metadata": {
        "id": "-Sy-sLMXlpHI"
      }
    },
    {
      "cell_type": "code",
      "source": [
        "# limpio la memoria\n",
        "rm(list=ls(all.names=TRUE)) # remove all objects\n",
        "gc(full=TRUE, verbose=FALSE) # garbage collection"
      ],
      "metadata": {
        "id": "ZpST7lcHlpHI",
        "outputId": "3a3c2b2e-9cc9-49bb-e0dc-59f82cc6d013",
        "colab": {
          "base_uri": "https://localhost:8080/",
          "height": 129
        }
      },
      "execution_count": 29,
      "outputs": [
        {
          "output_type": "display_data",
          "data": {
            "text/html": [
              "<table class=\"dataframe\">\n",
              "<caption>A matrix: 2 × 6 of type dbl</caption>\n",
              "<thead>\n",
              "\t<tr><th></th><th scope=col>used</th><th scope=col>(Mb)</th><th scope=col>gc trigger</th><th scope=col>(Mb)</th><th scope=col>max used</th><th scope=col>(Mb)</th></tr>\n",
              "</thead>\n",
              "<tbody>\n",
              "\t<tr><th scope=row>Ncells</th><td>1425285</td><td>76.2</td><td> 2331352</td><td>124.6</td><td> 2331352</td><td>124.6</td></tr>\n",
              "\t<tr><th scope=row>Vcells</th><td>2573981</td><td>19.7</td><td>59471623</td><td>453.8</td><td>72007712</td><td>549.4</td></tr>\n",
              "</tbody>\n",
              "</table>\n"
            ],
            "text/markdown": "\nA matrix: 2 × 6 of type dbl\n\n| <!--/--> | used | (Mb) | gc trigger | (Mb) | max used | (Mb) |\n|---|---|---|---|---|---|---|\n| Ncells | 1425285 | 76.2 |  2331352 | 124.6 |  2331352 | 124.6 |\n| Vcells | 2573981 | 19.7 | 59471623 | 453.8 | 72007712 | 549.4 |\n\n",
            "text/latex": "A matrix: 2 × 6 of type dbl\n\\begin{tabular}{r|llllll}\n  & used & (Mb) & gc trigger & (Mb) & max used & (Mb)\\\\\n\\hline\n\tNcells & 1425285 & 76.2 &  2331352 & 124.6 &  2331352 & 124.6\\\\\n\tVcells & 2573981 & 19.7 & 59471623 & 453.8 & 72007712 & 549.4\\\\\n\\end{tabular}\n",
            "text/plain": [
              "       used    (Mb) gc trigger (Mb)  max used (Mb) \n",
              "Ncells 1425285 76.2  2331352   124.6  2331352 124.6\n",
              "Vcells 2573981 19.7 59471623   453.8 72007712 549.4"
            ]
          },
          "metadata": {}
        }
      ]
    },
    {
      "cell_type": "markdown",
      "source": [
        "* Instalacion de la libreria  rpart.plot  para dibujar el arbol\n",
        "* invocacion de las librerias  **data.table** y  **rpart**"
      ],
      "metadata": {
        "id": "jHhAx3cvlpHJ"
      }
    },
    {
      "cell_type": "code",
      "source": [
        "# cargo las librerias que necesito\n",
        "require(\"data.table\")\n",
        "require(\"rpart\")\n",
        "require(\"parallel\")\n",
        "\n",
        "if (!require(\"primes\")) install.packages(\"primes\")\n",
        "require(\"primes\")\n",
        "\n",
        "require(\"ggplot2\")"
      ],
      "metadata": {
        "id": "cbPnXeeqlpHJ"
      },
      "execution_count": 30,
      "outputs": []
    },
    {
      "cell_type": "markdown",
      "source": [
        "###  Accion a Realizar\n",
        "PARAM$semilla_primigenia  debe reemplazarse por SU primer semilla"
      ],
      "metadata": {
        "id": "_GQk_NEUlpHK"
      }
    },
    {
      "cell_type": "code",
      "source": [
        "PARAM <- list()\n",
        "PARAM$semilla_primigenia <- 101111\n",
        "PARAM$qsemillas_tope <- 50\n",
        "PARAM$training_pct <- 70L     # entre 1 y 100\n"
      ],
      "metadata": {
        "id": "Do801PIHlpHK"
      },
      "execution_count": 31,
      "outputs": []
    },
    {
      "cell_type": "code",
      "source": [
        "# los dos arboles\n",
        "PARAM$rpart1 <- list (\n",
        "  \"cp\" = -1,\n",
        "  \"minsplit\" = 800,\n",
        "  \"minbucket\" = 400,\n",
        "  \"maxdepth\" = 7\n",
        ")\n",
        "\n",
        "\n",
        "PARAM$rpart2 <- list (\n",
        "  \"cp\" = -1,\n",
        "  \"minsplit\" = 650,\n",
        "  \"minbucket\" = 300,\n",
        "  \"maxdepth\" = 6\n",
        ")\n"
      ],
      "metadata": {
        "id": "KlC7gTc7lpHK"
      },
      "execution_count": 32,
      "outputs": []
    },
    {
      "cell_type": "code",
      "source": [
        "# particionar agrega una columna llamada fold a un dataset\n",
        "#  que consiste en una particion estratificada segun agrupa\n",
        "\n",
        "# particionar( data=dataset, division=c(70,30),\n",
        "#  agrupa=clase_ternaria, seed=semilla)   crea una particion 70, 30\n",
        "\n",
        "particionar <- function(\n",
        "    data, division, agrupa = \"\",\n",
        "    campo = \"fold\", start = 1, seed = NA) {\n",
        "  if (!is.na(seed)) set.seed(seed)\n",
        "\n",
        "  bloque <- unlist(mapply(function(x, y) {\n",
        "    rep(y, x)\n",
        "  }, division, seq(from = start, length.out = length(division))))\n",
        "\n",
        "  data[, (campo) := sample(rep(bloque, ceiling(.N / length(bloque))))[1:.N],\n",
        "    by = agrupa\n",
        "  ]\n",
        "}\n"
      ],
      "metadata": {
        "id": "I7hOkZrxlpHL"
      },
      "execution_count": 33,
      "outputs": []
    },
    {
      "cell_type": "code",
      "source": [
        "DosArbolesEstimarGanancia <- function(semilla, training_pct, param_rpart1, param_rpart2) {\n",
        "  # particiono estratificadamente el dataset\n",
        "  particionar(dataset,\n",
        "    division = c(training_pct, 100L -training_pct),\n",
        "    agrupa = \"clase_ternaria\",\n",
        "    seed = semilla # aqui se usa SU semilla\n",
        "  )\n",
        "\n",
        "  # genero el modelo\n",
        "  # predecir clase_ternaria a partir del resto\n",
        "  modelo1 <- rpart(\"clase_ternaria ~ .\",\n",
        "    data = dataset[fold == 1], # fold==1  es training,  el 70% de los datos\n",
        "    xval = 0,\n",
        "    control = param_rpart1\n",
        "  ) # aqui van los parametros del arbol\n",
        "\n",
        "  # aplico el modelo a los datos de testing\n",
        "  prediccion1 <- predict(modelo1, # el modelo que genere recien\n",
        "    dataset[fold == 2], # fold==2  es testing, el 30% de los datos\n",
        "    type = \"prob\"\n",
        "  ) # type= \"prob\"  es que devuelva la probabilidad\n",
        "\n",
        "\n",
        "  # calculo la ganancia en testing  qu es fold==2\n",
        "  ganancia_test1 <- dataset[\n",
        "    fold == 2,\n",
        "    sum(ifelse(prediccion1[, \"BAJA+2\"] > 0.025,\n",
        "      ifelse(clase_ternaria == \"BAJA+2\", 117000, -3000),\n",
        "      0\n",
        "    ))\n",
        "  ]\n",
        "\n",
        "  # escalo la ganancia como si fuera todo el dataset\n",
        "  ganancia_test_normalizada1 <- ganancia_test1 / (( 100 - training_pct ) / 100 )\n",
        "\n",
        "  modelo2 <- rpart(\"clase_ternaria ~ .\",\n",
        "    data = dataset[fold == 1], # fold==1  es training,  el 70% de los datos\n",
        "    xval = 0,\n",
        "    control = param_rpart2\n",
        "  ) # aqui van los parametros del arbol\n",
        "\n",
        "  # aplico el modelo a los datos de testing\n",
        "  prediccion2 <- predict(modelo2, # el modelo que genere recien\n",
        "    dataset[fold == 2], # fold==2  es testing, el 30% de los datos\n",
        "    type = \"prob\"\n",
        "  ) # type= \"prob\"  es que devuelva la probabilidad\n",
        "\n",
        "\n",
        "  # calculo la ganancia en testing  qu es fold==2\n",
        "  ganancia_test2 <- dataset[\n",
        "    fold == 2,\n",
        "    sum(ifelse(prediccion2[, \"BAJA+2\"] > 0.025,\n",
        "      ifelse(clase_ternaria == \"BAJA+2\", 117000, -3000),\n",
        "      0\n",
        "    ))\n",
        "  ]\n",
        "\n",
        "  # escalo la ganancia como si fuera todo el dataset\n",
        "  ganancia_test_normalizada2 <- ganancia_test2 / (( 100 - training_pct ) / 100 )\n",
        "\n",
        "  return(list(\n",
        "    \"semilla\" = semilla,\n",
        "    \"ganancia1\" = ganancia_test_normalizada1,\n",
        "    \"ganancia2\" = ganancia_test_normalizada2\n",
        "  ))\n",
        "}"
      ],
      "metadata": {
        "id": "vFpBSFBYlpHL"
      },
      "execution_count": 34,
      "outputs": []
    },
    {
      "cell_type": "code",
      "source": [
        "# 1  ->  el modelo 1 es mejor\n",
        "# 2  ->  el modelo 2 es mejor\n",
        "# 0  ->  No se pudo determinar con el tope de qsemillas_tope\n",
        "\n",
        "\n",
        "MejorArbol <- function( qsemillas_tope, training_pct, param_rpart1, param_rpart2) {\n",
        "\n",
        "  # genero numeros primos\n",
        "  primos <- generate_primes(min = 100000, max = 1000000)\n",
        "  set.seed(PARAM$semilla_primigenia) # inicializo\n",
        "  # me quedo con PARAM$qsemillas   semillas\n",
        "  semillas <- sample(primos, qsemillas_tope )\n",
        "\n",
        "  pvalue <- 1.0\n",
        "  isem <- 1\n",
        "  vgan1 <- c() # almaceno ganancias del modelo1\n",
        "  vgan2 <- c() # almaceno ganancias del modelo2\n",
        "\n",
        "  while( (isem <= qsemillas_tope)  & (pvalue > 0.05) ) {\n",
        "\n",
        "    res <- DosArbolesEstimarGanancia(\n",
        "       semillas[ isem ],\n",
        "       training_pct,\n",
        "       param_rpart1,\n",
        "       param_rpart2\n",
        "    )\n",
        "\n",
        "    vgan1 <- c( vgan1, res$ganancia1 )\n",
        "    vgan2 <- c( vgan2, res$ganancia2 )\n",
        "\n",
        "    wt <- wilcox.test( vgan1, vgan2, paired=TRUE )\n",
        "    pvalue <- wt$p.value\n",
        "\n",
        "    cat( isem, res$ganancia1, res$ganancia2, pvalue, \"\\n\" )\n",
        "    flush.console()\n",
        "    isem <- isem + 1\n",
        "  }\n",
        "\n",
        "  out <- 0\n",
        "\n",
        "  if( pvalue < 0.05 & mean(vgan1) > mean(vgan2)  )  out <- 1\n",
        "  if( pvalue < 0.05 & mean(vgan1) < mean(vgan2)  )  out <- 2\n",
        "\n",
        "\n",
        "  return( list( \"out\" = out,\n",
        "    \"qsemillas\" = length(vgan1),\n",
        "    \"m1\" = mean( vgan1 ),\n",
        "    \"m2\" = mean( vgan2 )\n",
        "   ) )\n",
        "}\n"
      ],
      "metadata": {
        "id": "Cp8RnA_NmE8g"
      },
      "execution_count": 35,
      "outputs": []
    },
    {
      "cell_type": "code",
      "source": [
        "# carpeta de trabajo\n",
        "setwd(\"/content/buckets/b1/exp\")\n",
        "experimento <- \"exp209\"\n",
        "dir.create(experimento, showWarnings=FALSE)\n",
        "setwd( paste0(\"/content/buckets/b1/exp/\", experimento ))"
      ],
      "metadata": {
        "id": "r1motpfOlpHM"
      },
      "execution_count": 36,
      "outputs": []
    },
    {
      "cell_type": "code",
      "source": [
        "# lectura del dataset\n",
        "dataset <- fread(\"/content/datasets/dataset_pequeno.csv\")\n",
        "\n",
        "# trabajo solo con los datos con clase, es decir 202107\n",
        "dataset <- dataset[clase_ternaria != \"\"]"
      ],
      "metadata": {
        "id": "hT0LaKWumTSu"
      },
      "execution_count": 37,
      "outputs": []
    },
    {
      "cell_type": "code",
      "source": [
        "Sys.time()\n",
        "\n",
        "comparacion <- MejorArbol(\n",
        "   PARAM$qsemillas_tope,\n",
        "   PARAM$training_pct,\n",
        "   PARAM$rpart1,\n",
        "   PARAM$rpart2\n",
        " )\n",
        "\n",
        "\n",
        "print( comparacion )\n",
        "\n",
        "Sys.time()"
      ],
      "metadata": {
        "id": "wsk0F77ambVW",
        "outputId": "110f37bf-2939-43fb-b8e8-26d6d4a1a08a",
        "colab": {
          "base_uri": "https://localhost:8080/",
          "height": 1000
        }
      },
      "execution_count": 38,
      "outputs": [
        {
          "output_type": "display_data",
          "data": {
            "text/plain": [
              "[1] \"2025-10-05 23:14:06 UTC\""
            ]
          },
          "metadata": {}
        },
        {
          "output_type": "stream",
          "name": "stdout",
          "text": [
            "1 48110000 48820000 1 \n",
            "2 51140000 55310000 0.5 \n",
            "3 48540000 52260000 0.25 \n",
            "4 51040000 49290000 0.375 \n",
            "5 58320000 54010000 1 \n"
          ]
        },
        {
          "output_type": "stream",
          "name": "stderr",
          "text": [
            "Warning message in wilcox.test.default(vgan1, vgan2, paired = TRUE):\n",
            "“cannot compute exact p-value with ties”\n"
          ]
        },
        {
          "output_type": "stream",
          "name": "stdout",
          "text": [
            "6 48170000 47460000 1 \n"
          ]
        },
        {
          "output_type": "stream",
          "name": "stderr",
          "text": [
            "Warning message in wilcox.test.default(vgan1, vgan2, paired = TRUE):\n",
            "“cannot compute exact p-value with ties”\n"
          ]
        },
        {
          "output_type": "stream",
          "name": "stdout",
          "text": [
            "7 48780000 45060000 0.7991428 \n"
          ]
        },
        {
          "output_type": "stream",
          "name": "stderr",
          "text": [
            "Warning message in wilcox.test.default(vgan1, vgan2, paired = TRUE):\n",
            "“cannot compute exact p-value with ties”\n"
          ]
        },
        {
          "output_type": "stream",
          "name": "stdout",
          "text": [
            "8 51160000 51290000 0.8332316 \n"
          ]
        },
        {
          "output_type": "stream",
          "name": "stderr",
          "text": [
            "Warning message in wilcox.test.default(vgan1, vgan2, paired = TRUE):\n",
            "“cannot compute exact p-value with ties”\n"
          ]
        },
        {
          "output_type": "stream",
          "name": "stdout",
          "text": [
            "9 46150000 51470000 0.8123804 \n"
          ]
        },
        {
          "output_type": "stream",
          "name": "stderr",
          "text": [
            "Warning message in wilcox.test.default(vgan1, vgan2, paired = TRUE):\n",
            "“cannot compute exact p-value with ties”\n"
          ]
        },
        {
          "output_type": "stream",
          "name": "stdout",
          "text": [
            "10 51510000 52320000 0.6830914 \n"
          ]
        },
        {
          "output_type": "stream",
          "name": "stderr",
          "text": [
            "Warning message in wilcox.test.default(vgan1, vgan2, paired = TRUE):\n",
            "“cannot compute exact p-value with ties”\n"
          ]
        },
        {
          "output_type": "stream",
          "name": "stdout",
          "text": [
            "11 50360000 49370000 0.8937993 \n"
          ]
        },
        {
          "output_type": "stream",
          "name": "stderr",
          "text": [
            "Warning message in wilcox.test.default(vgan1, vgan2, paired = TRUE):\n",
            "“cannot compute exact p-value with ties”\n"
          ]
        },
        {
          "output_type": "stream",
          "name": "stdout",
          "text": [
            "12 46800000 46390000 0.9686883 \n"
          ]
        },
        {
          "output_type": "stream",
          "name": "stderr",
          "text": [
            "Warning message in wilcox.test.default(vgan1, vgan2, paired = TRUE):\n",
            "“cannot compute exact p-value with ties”\n"
          ]
        },
        {
          "output_type": "stream",
          "name": "stdout",
          "text": [
            "13 52260000 54160000 0.7266075 \n"
          ]
        },
        {
          "output_type": "stream",
          "name": "stderr",
          "text": [
            "Warning message in wilcox.test.default(vgan1, vgan2, paired = TRUE):\n",
            "“cannot compute exact p-value with ties”\n"
          ]
        },
        {
          "output_type": "stream",
          "name": "stdout",
          "text": [
            "14 50430000 47460000 0.9499198 \n"
          ]
        },
        {
          "output_type": "stream",
          "name": "stderr",
          "text": [
            "Warning message in wilcox.test.default(vgan1, vgan2, paired = TRUE):\n",
            "“cannot compute exact p-value with ties”\n"
          ]
        },
        {
          "output_type": "stream",
          "name": "stdout",
          "text": [
            "15 48180000 47910000 1 \n"
          ]
        },
        {
          "output_type": "stream",
          "name": "stderr",
          "text": [
            "Warning message in wilcox.test.default(vgan1, vgan2, paired = TRUE):\n",
            "“cannot compute exact p-value with ties”\n"
          ]
        },
        {
          "output_type": "stream",
          "name": "stdout",
          "text": [
            "16 53860000 47370000 0.6980564 \n"
          ]
        },
        {
          "output_type": "stream",
          "name": "stderr",
          "text": [
            "Warning message in wilcox.test.default(vgan1, vgan2, paired = TRUE):\n",
            "“cannot compute exact p-value with ties”\n"
          ]
        },
        {
          "output_type": "stream",
          "name": "stdout",
          "text": [
            "17 56020000 53760000 0.5381798 \n"
          ]
        },
        {
          "output_type": "stream",
          "name": "stderr",
          "text": [
            "Warning message in wilcox.test.default(vgan1, vgan2, paired = TRUE):\n",
            "“cannot compute exact p-value with ties”\n"
          ]
        },
        {
          "output_type": "stream",
          "name": "stdout",
          "text": [
            "18 49390000 53050000 0.7604234 \n"
          ]
        },
        {
          "output_type": "stream",
          "name": "stderr",
          "text": [
            "Warning message in wilcox.test.default(vgan1, vgan2, paired = TRUE):\n",
            "“cannot compute exact p-value with ties”\n"
          ]
        },
        {
          "output_type": "stream",
          "name": "stdout",
          "text": [
            "19 51130000 55920000 0.9839435 \n"
          ]
        },
        {
          "output_type": "stream",
          "name": "stderr",
          "text": [
            "Warning message in wilcox.test.default(vgan1, vgan2, paired = TRUE):\n",
            "“cannot compute exact p-value with ties”\n"
          ]
        },
        {
          "output_type": "stream",
          "name": "stdout",
          "text": [
            "20 53720000 50640000 0.8960228 \n"
          ]
        },
        {
          "output_type": "stream",
          "name": "stderr",
          "text": [
            "Warning message in wilcox.test.default(vgan1, vgan2, paired = TRUE):\n",
            "“cannot compute exact p-value with ties”\n"
          ]
        },
        {
          "output_type": "stream",
          "name": "stdout",
          "text": [
            "21 47810000 48530000 0.9722688 \n"
          ]
        },
        {
          "output_type": "stream",
          "name": "stderr",
          "text": [
            "Warning message in wilcox.test.default(vgan1, vgan2, paired = TRUE):\n",
            "“cannot compute exact p-value with ties”\n"
          ]
        },
        {
          "output_type": "stream",
          "name": "stdout",
          "text": [
            "22 50140000 52740000 0.8966616 \n"
          ]
        },
        {
          "output_type": "stream",
          "name": "stderr",
          "text": [
            "Warning message in wilcox.test.default(vgan1, vgan2, paired = TRUE):\n",
            "“cannot compute exact p-value with ties”\n"
          ]
        },
        {
          "output_type": "stream",
          "name": "stdout",
          "text": [
            "23 44530000 43710000 1 \n"
          ]
        },
        {
          "output_type": "stream",
          "name": "stderr",
          "text": [
            "Warning message in wilcox.test.default(vgan1, vgan2, paired = TRUE):\n",
            "“cannot compute exact p-value with ties”\n"
          ]
        },
        {
          "output_type": "stream",
          "name": "stdout",
          "text": [
            "24 51080000 50110000 0.8976864 \n"
          ]
        },
        {
          "output_type": "stream",
          "name": "stderr",
          "text": [
            "Warning message in wilcox.test.default(vgan1, vgan2, paired = TRUE):\n",
            "“cannot compute exact p-value with ties”\n"
          ]
        },
        {
          "output_type": "stream",
          "name": "stdout",
          "text": [
            "25 52450000 55520000 0.9356582 \n"
          ]
        },
        {
          "output_type": "stream",
          "name": "stderr",
          "text": [
            "Warning message in wilcox.test.default(vgan1, vgan2, paired = TRUE):\n",
            "“cannot compute exact p-value with ties”\n"
          ]
        },
        {
          "output_type": "stream",
          "name": "stdout",
          "text": [
            "26 49500000 4.8e+07 0.9797359 \n"
          ]
        },
        {
          "output_type": "stream",
          "name": "stderr",
          "text": [
            "Warning message in wilcox.test.default(vgan1, vgan2, paired = TRUE):\n",
            "“cannot compute exact p-value with ties”\n"
          ]
        },
        {
          "output_type": "stream",
          "name": "stdout",
          "text": [
            "27 47420000 49940000 0.8758961 \n"
          ]
        },
        {
          "output_type": "stream",
          "name": "stderr",
          "text": [
            "Warning message in wilcox.test.default(vgan1, vgan2, paired = TRUE):\n",
            "“cannot compute exact p-value with ties”\n"
          ]
        },
        {
          "output_type": "stream",
          "name": "stdout",
          "text": [
            "28 52870000 47100000 0.8823239 \n"
          ]
        },
        {
          "output_type": "stream",
          "name": "stderr",
          "text": [
            "Warning message in wilcox.test.default(vgan1, vgan2, paired = TRUE):\n",
            "“cannot compute exact p-value with ties”\n"
          ]
        },
        {
          "output_type": "stream",
          "name": "stdout",
          "text": [
            "29 44680000 46170000 0.9827475 \n"
          ]
        },
        {
          "output_type": "stream",
          "name": "stderr",
          "text": [
            "Warning message in wilcox.test.default(vgan1, vgan2, paired = TRUE):\n",
            "“cannot compute exact p-value with ties”\n"
          ]
        },
        {
          "output_type": "stream",
          "name": "stdout",
          "text": [
            "30 51130000 52740000 0.9180843 \n"
          ]
        },
        {
          "output_type": "stream",
          "name": "stderr",
          "text": [
            "Warning message in wilcox.test.default(vgan1, vgan2, paired = TRUE):\n",
            "“cannot compute exact p-value with ties”\n"
          ]
        },
        {
          "output_type": "stream",
          "name": "stdout",
          "text": [
            "31 52730000 55630000 0.7762851 \n"
          ]
        },
        {
          "output_type": "stream",
          "name": "stderr",
          "text": [
            "Warning message in wilcox.test.default(vgan1, vgan2, paired = TRUE):\n",
            "“cannot compute exact p-value with ties”\n"
          ]
        },
        {
          "output_type": "stream",
          "name": "stdout",
          "text": [
            "32 43310000 45710000 0.646849 \n"
          ]
        },
        {
          "output_type": "stream",
          "name": "stderr",
          "text": [
            "Warning message in wilcox.test.default(vgan1, vgan2, paired = TRUE):\n",
            "“cannot compute exact p-value with ties”\n"
          ]
        },
        {
          "output_type": "stream",
          "name": "stdout",
          "text": [
            "33 51340000 46740000 0.8581847 \n"
          ]
        },
        {
          "output_type": "stream",
          "name": "stderr",
          "text": [
            "Warning message in wilcox.test.default(vgan1, vgan2, paired = TRUE):\n",
            "“cannot compute exact p-value with ties”\n"
          ]
        },
        {
          "output_type": "stream",
          "name": "stdout",
          "text": [
            "34 44450000 43900000 0.8777089 \n"
          ]
        },
        {
          "output_type": "stream",
          "name": "stderr",
          "text": [
            "Warning message in wilcox.test.default(vgan1, vgan2, paired = TRUE):\n",
            "“cannot compute exact p-value with ties”\n"
          ]
        },
        {
          "output_type": "stream",
          "name": "stdout",
          "text": [
            "35 46670000 46250000 0.9022277 \n"
          ]
        },
        {
          "output_type": "stream",
          "name": "stderr",
          "text": [
            "Warning message in wilcox.test.default(vgan1, vgan2, paired = TRUE):\n",
            "“cannot compute exact p-value with ties”\n"
          ]
        },
        {
          "output_type": "stream",
          "name": "stdout",
          "text": [
            "36 39940000 43880000 0.7355231 \n"
          ]
        },
        {
          "output_type": "stream",
          "name": "stderr",
          "text": [
            "Warning message in wilcox.test.default(vgan1, vgan2, paired = TRUE):\n",
            "“cannot compute exact p-value with ties”\n"
          ]
        },
        {
          "output_type": "stream",
          "name": "stdout",
          "text": [
            "37 52150000 51660000 0.7628546 \n"
          ]
        },
        {
          "output_type": "stream",
          "name": "stderr",
          "text": [
            "Warning message in wilcox.test.default(vgan1, vgan2, paired = TRUE):\n",
            "“cannot compute exact p-value with ties”\n"
          ]
        },
        {
          "output_type": "stream",
          "name": "stdout",
          "text": [
            "38 47070000 48860000 0.6530116 \n"
          ]
        },
        {
          "output_type": "stream",
          "name": "stderr",
          "text": [
            "Warning message in wilcox.test.default(vgan1, vgan2, paired = TRUE):\n",
            "“cannot compute exact p-value with ties”\n"
          ]
        },
        {
          "output_type": "stream",
          "name": "stdout",
          "text": [
            "39 48540000 51300000 0.543813 \n"
          ]
        },
        {
          "output_type": "stream",
          "name": "stderr",
          "text": [
            "Warning message in wilcox.test.default(vgan1, vgan2, paired = TRUE):\n",
            "“cannot compute exact p-value with ties”\n"
          ]
        },
        {
          "output_type": "stream",
          "name": "stdout",
          "text": [
            "40 51750000 55240000 0.431672 \n"
          ]
        },
        {
          "output_type": "stream",
          "name": "stderr",
          "text": [
            "Warning message in wilcox.test.default(vgan1, vgan2, paired = TRUE):\n",
            "“cannot compute exact p-value with ties”\n"
          ]
        },
        {
          "output_type": "stream",
          "name": "stdout",
          "text": [
            "41 52470000 50730000 0.4922041 \n"
          ]
        },
        {
          "output_type": "stream",
          "name": "stderr",
          "text": [
            "Warning message in wilcox.test.default(vgan1, vgan2, paired = TRUE):\n",
            "“cannot compute exact p-value with ties”\n"
          ]
        },
        {
          "output_type": "stream",
          "name": "stdout",
          "text": [
            "42 48110000 47730000 0.515561 \n"
          ]
        },
        {
          "output_type": "stream",
          "name": "stderr",
          "text": [
            "Warning message in wilcox.test.default(vgan1, vgan2, paired = TRUE):\n",
            "“cannot compute exact p-value with ties”\n"
          ]
        },
        {
          "output_type": "stream",
          "name": "stdout",
          "text": [
            "43 54330000 54080000 0.5419968 \n"
          ]
        },
        {
          "output_type": "stream",
          "name": "stderr",
          "text": [
            "Warning message in wilcox.test.default(vgan1, vgan2, paired = TRUE):\n",
            "“cannot compute exact p-value with ties”\n"
          ]
        },
        {
          "output_type": "stream",
          "name": "stdout",
          "text": [
            "44 51290000 50670000 0.5713843 \n"
          ]
        },
        {
          "output_type": "stream",
          "name": "stderr",
          "text": [
            "Warning message in wilcox.test.default(vgan1, vgan2, paired = TRUE):\n",
            "“cannot compute exact p-value with ties”\n"
          ]
        },
        {
          "output_type": "stream",
          "name": "stdout",
          "text": [
            "45 44960000 47890000 0.4700395 \n"
          ]
        },
        {
          "output_type": "stream",
          "name": "stderr",
          "text": [
            "Warning message in wilcox.test.default(vgan1, vgan2, paired = TRUE):\n",
            "“cannot compute exact p-value with ties”\n"
          ]
        },
        {
          "output_type": "stream",
          "name": "stdout",
          "text": [
            "46 49890000 49430000 0.4981628 \n"
          ]
        },
        {
          "output_type": "stream",
          "name": "stderr",
          "text": [
            "Warning message in wilcox.test.default(vgan1, vgan2, paired = TRUE):\n",
            "“cannot compute exact p-value with ties”\n"
          ]
        },
        {
          "output_type": "stream",
          "name": "stdout",
          "text": [
            "47 58770000 57320000 0.5499064 \n"
          ]
        },
        {
          "output_type": "stream",
          "name": "stderr",
          "text": [
            "Warning message in wilcox.test.default(vgan1, vgan2, paired = TRUE):\n",
            "“cannot compute exact p-value with ties”\n"
          ]
        },
        {
          "output_type": "stream",
          "name": "stdout",
          "text": [
            "48 46890000 47660000 0.501703 \n"
          ]
        },
        {
          "output_type": "stream",
          "name": "stderr",
          "text": [
            "Warning message in wilcox.test.default(vgan1, vgan2, paired = TRUE):\n",
            "“cannot compute exact p-value with ties”\n"
          ]
        },
        {
          "output_type": "stream",
          "name": "stdout",
          "text": [
            "49 48430000 46220000 0.5843046 \n",
            "50 49840000 50790000 0.5303509 \n",
            "$out\n",
            "[1] 0\n",
            "\n",
            "$qsemillas\n",
            "[1] 50\n",
            "\n",
            "$m1\n",
            "[1] 49792200\n",
            "\n",
            "$m2\n",
            "[1] 49991400\n",
            "\n"
          ]
        },
        {
          "output_type": "display_data",
          "data": {
            "text/plain": [
              "[1] \"2025-10-06 00:53:40 UTC\""
            ]
          },
          "metadata": {}
        }
      ]
    },
    {
      "cell_type": "markdown",
      "source": [
        "### Acciones a realizar\n",
        "* Reportar la  los resultados en la planilla colaborativa hoja  **C2-Wilcox**\n"
      ],
      "metadata": {
        "id": "d2br1bgJlpHQ"
      }
    },
    {
      "cell_type": "markdown",
      "source": [
        "\n",
        "\n",
        "---\n",
        "\n"
      ],
      "metadata": {
        "id": "x7SebtV2lpHQ"
      }
    }
  ]
}